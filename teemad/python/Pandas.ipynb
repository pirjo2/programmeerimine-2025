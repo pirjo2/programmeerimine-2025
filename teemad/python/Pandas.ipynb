{
  "cells": [
    {
      "cell_type": "markdown",
      "metadata": {
        "id": "view-in-github",
        "colab_type": "text"
      },
      "source": [
        "<a href=\"https://colab.research.google.com/github/pirjo2/programmeerimine-2025/blob/main/teemad/python/Pandas.ipynb\" target=\"_parent\"><img src=\"https://colab.research.google.com/assets/colab-badge.svg\" alt=\"Open In Colab\"/></a>"
      ]
    },
    {
      "cell_type": "markdown",
      "id": "f48e311d",
      "metadata": {
        "id": "f48e311d"
      },
      "source": [
        "# Sissejuhatus Pandase ja Matplotlibi kasutamisse"
      ]
    },
    {
      "cell_type": "markdown",
      "id": "ced8cdc1",
      "metadata": {
        "id": "ced8cdc1"
      },
      "source": [
        "## Mis on Pandas?\n",
        "Pandas on populaarne Python'i teek, mis võimaldab mugavalt töödelda tabelandmeid. Seda kasutatakse andmeteaduses, analüüsis ja visualiseerimises. Pandas teeb andmete puhastamise, filtreerimise, sorteerimise ja analüüsi lihtsaks."
      ]
    },
    {
      "cell_type": "markdown",
      "id": "d88c6038",
      "metadata": {
        "id": "d88c6038"
      },
      "source": [
        "Pandas ja Matplotlib on olulised Python'i teegid andmete töötlemiseks ja visualiseerimiseks. Andmeteaduses on tähtis osata andmeid tõhusalt hallata ja tulemusi selgelt esitada."
      ]
    },
    {
      "cell_type": "markdown",
      "id": "980a2f26",
      "metadata": {
        "id": "980a2f26"
      },
      "source": [
        "## Andmeteaduse töövoog\n",
        "Tüüpiline töövoog: andmete laadimine → puhastamine/ettevalmistus → analüüs → visualiseerimine → tulemuste esitamine. Pandast kasutatakse andmete haldamiseks ja analüüsiks, Matplotlibi visualiseerimiseks.\n",
        "\n",
        "**Hea praktika:**\n",
        "- Ära muuda originaalset DataFrame'i, vaid loo iga olulisema sammu jaoks uus muutuja (nt df_clean, df_sorted). Nii on töövoog jälgitav ja vigu lihtsam leida.\n",
        "- Kui teed järjestikku mitu operatsiooni, kasuta Pandase .pipe() meetodit, mis võimaldab funktsioone järjestada ja koodi loetavust parandada.\n",
        "\n",
        "Näide [pipe](https://pandas.pydata.org/docs/reference/api/pandas.DataFrame.pipe.html) kasutamisest:\n",
        "\n",
        "df_clean = (\n",
        "    df.dropna()\n",
        "      .pipe(lambda d: d[d['age'] > 18])\n",
        "      .sort_values('income', ascending=False)\n",
        ")"
      ]
    },
    {
      "cell_type": "markdown",
      "id": "9d7a440c",
      "metadata": {
        "id": "9d7a440c"
      },
      "source": [
        "## Pandase põhikontseptsioonid\n",
        "Pandasel on kaks põhilist andmestruktuuri: **Series** (1-mõõtmeline) ja **DataFrame** (2-mõõtmeline).\n",
        "- DataFrame on nagu arvutustabel: iga veerg on Series ja kõigil veergudel on sama indeks."
      ]
    },
    {
      "cell_type": "code",
      "execution_count": 1,
      "id": "0628c7c3",
      "metadata": {
        "id": "0628c7c3",
        "colab": {
          "base_uri": "https://localhost:8080/"
        },
        "outputId": "d8230de5-fbfd-421d-cbc4-ceeba2a30d80"
      },
      "outputs": [
        {
          "output_type": "stream",
          "name": "stdout",
          "text": [
            "0    1\n",
            "1    2\n",
            "2    3\n",
            "3    4\n",
            "dtype: int64\n",
            "     name  age     city  income\n",
            "0    Anna   22  Tallinn    1200\n",
            "1    Jaan   35    Tartu    2100\n",
            "2    Mari   19  Tallinn     950\n",
            "3  Peeter   42    Pärnu    1800\n",
            "4    Liis   28    Tartu    1600\n"
          ]
        }
      ],
      "source": [
        "import pandas as pd\n",
        "\n",
        "# Series loomine\n",
        "s = pd.Series([1, 2, 3, 4])\n",
        "print(s)\n",
        "\n",
        "# Näidisandmestiku loomine DataFrame'ina\n",
        "df = pd.DataFrame({\n",
        "    'name': ['Anna', 'Jaan', 'Mari', 'Peeter', 'Liis'],\n",
        "    'age': [22, 35, 19, 42, 28],\n",
        "    'city': ['Tallinn', 'Tartu', 'Tallinn', 'Pärnu', 'Tartu'],\n",
        "    'income': [1200, 2100, 950, 1800, 1600]\n",
        "})\n",
        "print(df)"
      ]
    },
    {
      "cell_type": "markdown",
      "id": "3276b738",
      "metadata": {
        "id": "3276b738"
      },
      "source": [
        "## Andmetüübid Pandases\n",
        "Pandas DataFrame'i iga veerg omab kindlat andmetüüpi, mis määrab, kuidas andmeid töödeldakse ja milliseid operatsioone saab teha. Olulised tüübid on:\n",
        "- **object**: Tekst (stringid), segatüüpi väärtused. Näide: ['Tallinn', 'Tartu']\n",
        "- **int**: Täisarvud. Näide: [1, 2, 3]\n",
        "- **float**: Ujukomaarvud (komaga arvud). Näide: [3.14, 2.0]\n",
        "- **bool**: Tõeväärtused (True/False). Näide: [True, False, True]\n",
        "- **datetime64**: Kuupäevad ja kellaajad. Näide: ['2023-01-01', '2024-06-01']\n",
        "\n",
        "Täisarvude puhul on Pandases mitmeid alamliike, mis määravad, kui palju mälu veerg kasutab:\n",
        "- **Int16**: 16-bitine täisarv (-32768 kuni 32767). Sobib väikeste arvude jaoks, säästab mälu. Lubab puuduvaid väärtusi (pandas.NA).\n",
        "- **Int32**: 32-bitine täisarv (-2 147 483 648 kuni 2 147 483 647). Kasutatakse suuremate arvude jaoks. Lubab puuduvaid väärtusi (pandas.NA).\n",
        "\n",
        "Erinevalt NumPy int tüüpidest lubavad Pandase Int16 ja Int32 tüübid puuduvaid väärtusi, mis on kasulik näiteks ankeetandmete või mittetäielike andmestike puhul.\n",
        "Kui tead, et veerus on ainult väikeseid arve, kasuta Int16, et vähendada mälukasutust. Suuremate arvude jaoks kasuta Int32 või Int64.\n",
        "\n",
        "### Näited erinevatest andmetüüpidest Pandases:"
      ]
    },
    {
      "cell_type": "code",
      "execution_count": 2,
      "id": "d2dee6c1",
      "metadata": {
        "id": "d2dee6c1",
        "colab": {
          "base_uri": "https://localhost:8080/"
        },
        "outputId": "d5567e56-16ed-4f36-89f8-98217eb471cf"
      },
      "outputs": [
        {
          "output_type": "stream",
          "name": "stdout",
          "text": [
            "nimi                      object\n",
            "vanus                      Int16\n",
            "palk                     float64\n",
            "aktiivne                    bool\n",
            "liitumise_kuup    datetime64[ns]\n",
            "dtype: object\n",
            "   nimi  vanus    palk  aktiivne liitumise_kuup\n",
            "0  Anna     22  1200.5      True     2023-01-01\n",
            "1  Jaan   <NA>  2100.0     False     2024-06-01\n",
            "nimi                      object\n",
            "vanus                      Int32\n",
            "palk                     float64\n",
            "aktiivne                    bool\n",
            "liitumise_kuup    datetime64[ns]\n",
            "dtype: object\n"
          ]
        }
      ],
      "source": [
        "import pandas as pd\n",
        "\n",
        "df_types = pd.DataFrame({\n",
        "    'nimi': ['Anna', 'Jaan'],  # object\n",
        "    'vanus': pd.Series([22, pd.NA], dtype='Int16'),  # Int16 lubab puuduvaid väärtusi\n",
        "    'palk': [1200.5, 2100.0],  # float\n",
        "    'aktiivne': [True, False],  # bool\n",
        "    'liitumise_kuup': pd.to_datetime(['2023-01-01', '2024-06-01'])  # datetime64\n",
        "})\n",
        "print(df_types.dtypes)\n",
        "print(df_types)\n",
        "\n",
        "# Tüübi muutmine Int32 peale (ka Int32 lubab puuduvaid väärtusi)\n",
        "df_types['vanus'] = df_types['vanus'].astype('Int32')\n",
        "print(df_types.dtypes)"
      ]
    },
    {
      "cell_type": "markdown",
      "id": "44e6f9f0",
      "metadata": {
        "id": "44e6f9f0"
      },
      "source": [
        "Tüüpide kontroll ja muutmine on oluline, et vältida vigu ja optimeerida mälukasutust. Näiteks Int16 sobib väikeste arvude jaoks, Int32 suuremate jaoks. Kuupäevadega töötamiseks kasuta datetime64 tüüpi. Puuduvate väärtuste jaoks kasuta Pandase Int-tüüpe, mitte NumPy int-tüüpe."
      ]
    },
    {
      "cell_type": "markdown",
      "id": "30a04e84",
      "metadata": {
        "id": "30a04e84"
      },
      "source": [
        "## Indekseerimine ja indeksi muutmine\n",
        "Igal DataFrame'il on indeks, mis määrab ridade järjestuse ja identiteedi. Vaikimisi on indeks numbriline (0, 1, 2, ...), kuid tihti on kasulik kasutada tähenduslikku indeksit, näiteks nime, kuupäeva või unikaalset koodi.\n",
        "\n",
        "**Miks määrata eraldi indeks?**\n",
        "- Kiirem ja mugavam andmete otsimine (nt df.loc['Anna'])\n",
        "- Loogilisem andmete struktuur, eriti kui ridadel on unikaalne tunnus\n",
        "- Grupitöötlus ja joinimine teiste andmestikega on lihtsam\n",
        "- Ajalooliste andmete puhul saab kasutada kuupäeva indeksina\n",
        "\n",
        "Kui ekspordid andmed Excelisse või Parquet-faili ja kasutad index=False, siis indeksit ei salvestata. Selle vältimiseks tee indeksist tulp tagasi."
      ]
    },
    {
      "cell_type": "code",
      "execution_count": 3,
      "id": "8085a40d",
      "metadata": {
        "id": "8085a40d",
        "colab": {
          "base_uri": "https://localhost:8080/"
        },
        "outputId": "27f4f526-fe83-4d96-da0a-3ce973758d48"
      },
      "outputs": [
        {
          "output_type": "stream",
          "name": "stdout",
          "text": [
            "        age     city  income\n",
            "name                        \n",
            "Anna     22  Tallinn    1200\n",
            "Jaan     35    Tartu    2100\n",
            "Mari     19  Tallinn     950\n",
            "Peeter   42    Pärnu    1800\n",
            "Liis     28    Tartu    1600\n",
            "age            22\n",
            "city      Tallinn\n",
            "income       1200\n",
            "Name: Anna, dtype: object\n",
            "     name  age     city  income\n",
            "0    Anna   22  Tallinn    1200\n",
            "1    Jaan   35    Tartu    2100\n",
            "2    Mari   19  Tallinn     950\n",
            "3  Peeter   42    Pärnu    1800\n",
            "4    Liis   28    Tartu    1600\n"
          ]
        }
      ],
      "source": [
        "# Indeksi määramine veeru põhjal\n",
        "df_indexed = df.set_index('name')\n",
        "print(df_indexed)\n",
        "\n",
        "# Andmete otsimine indeksi abil\n",
        "print(df_indexed.loc['Anna'])\n",
        "\n",
        "# Indeksist tulba tegemine (enne eksporti)\n",
        "df_reset = df_indexed.reset_index()\n",
        "print(df_reset)"
      ]
    },
    {
      "cell_type": "markdown",
      "id": "a90a5964",
      "metadata": {
        "id": "a90a5964"
      },
      "source": [
        "## Andmete sorteerimine\n",
        "Sorteerimine aitab leida suurimaid/väiksemaid väärtusi või järjestada andmeid loogiliselt.\n",
        "\n",
        "### Sorteerimine ühe või mitme tulba järgi\n",
        "Saad sorteerida ühe või mitme tulba järgi, määrates tulbanimed listina. Näiteks vanuse ja sissetuleku järgi:"
      ]
    },
    {
      "cell_type": "code",
      "execution_count": 4,
      "id": "091f6737",
      "metadata": {
        "id": "091f6737",
        "colab": {
          "base_uri": "https://localhost:8080/"
        },
        "outputId": "e70fa48f-7985-47f4-9680-119f4675549c"
      },
      "outputs": [
        {
          "output_type": "stream",
          "name": "stdout",
          "text": [
            "     name  age     city  income\n",
            "3  Peeter   42    Pärnu    1800\n",
            "1    Jaan   35    Tartu    2100\n",
            "4    Liis   28    Tartu    1600\n",
            "0    Anna   22  Tallinn    1200\n",
            "2    Mari   19  Tallinn     950\n",
            "     name  age     city  income\n",
            "2    Mari   19  Tallinn     950\n",
            "0    Anna   22  Tallinn    1200\n",
            "4    Liis   28    Tartu    1600\n",
            "1    Jaan   35    Tartu    2100\n",
            "3  Peeter   42    Pärnu    1800\n"
          ]
        }
      ],
      "source": [
        "# Sorteeri vanuse järgi kahanevalt\n",
        "df_sorted = df.sort_values('age', ascending=False)\n",
        "print(df_sorted)\n",
        "\n",
        "# Sorteeri vanuse ja sissetuleku järgi\n",
        "df_multi_sorted = df.sort_values(['age', 'income'], ascending=[True, False])\n",
        "print(df_multi_sorted)"
      ]
    },
    {
      "cell_type": "markdown",
      "id": "129a032b",
      "metadata": {
        "id": "129a032b"
      },
      "source": [
        "### Sorteerimine custom funktsiooniga\n",
        "Alates Pandas 1.1 saab kasutada sort_values(key=...), kus key on funktsioon (vaata ka [lambda funktsioone](https://docs.python.org/3/reference/expressions.html#lambda)), mis rakendatakse sorteeritavale veerule. Näiteks sorteerida nime pikkuse järgi."
      ]
    },
    {
      "cell_type": "code",
      "execution_count": 5,
      "id": "0427cf7b",
      "metadata": {
        "id": "0427cf7b",
        "colab": {
          "base_uri": "https://localhost:8080/"
        },
        "outputId": "ceb5c7ea-651b-47de-ae74-bf867fdcd1ca"
      },
      "outputs": [
        {
          "output_type": "stream",
          "name": "stdout",
          "text": [
            "     name  age     city  income\n",
            "0    Anna   22  Tallinn    1200\n",
            "1    Jaan   35    Tartu    2100\n",
            "2    Mari   19  Tallinn     950\n",
            "4    Liis   28    Tartu    1600\n",
            "3  Peeter   42    Pärnu    1800\n"
          ]
        }
      ],
      "source": [
        "# Sorteeri nime pikkuse järgi (custom funktsiooniga, Pandas >=1.1)\n",
        "df_custom_sorted = df.sort_values('name', key=lambda x: x.str.len())\n",
        "print(df_custom_sorted)"
      ]
    },
    {
      "cell_type": "markdown",
      "id": "ebc16b8b",
      "metadata": {
        "id": "ebc16b8b"
      },
      "source": [
        "## Uute veergude lisamine ja arvutamine\n",
        "Sageli on vaja arvutada uusi veerge olemasolevate põhjal, näiteks arvutada netosissetulek, määrata vanusekategooria või luua bool-tunnus (True/False). Uued veerud aitavad andmeid paremini analüüsida ja visualiseerida.\n",
        "\n",
        "Uue veeru saab lisada lihtsalt, omistades DataFrame'ile uue tulbanime:\n",
        "- Arvutatud veerg: df['income_tax'] = df['income'] * 0.24\n",
        "- Kategooria: df['age_group'] = pd.cut(df['age'], bins=[0,18,65,100], labels=['alaealine','täiskasvanu','eakas'])\n",
        "- Bool-tunnus: df['is_adult'] = df['age'] >= 18\n",
        "\n",
        "## Tabelite liitmine (joinimine)\n",
        "Tabelite liitmine (merge/join) võimaldab ühendada andmeid erinevatest allikatest. Joinimiseks peab olema:\n",
        "- Ühine veerg (või indeks), mille alusel liita\n",
        "- Veerud peavad olema sama andmetüübiga\n",
        "- Soovitavalt unikaalsed väärtused liitmisveerus vähemalt ühes tabelis\n",
        "\n",
        "Kõige levinum meetod on pd.merge():"
      ]
    },
    {
      "cell_type": "code",
      "execution_count": 6,
      "id": "06d1da39",
      "metadata": {
        "id": "06d1da39",
        "colab": {
          "base_uri": "https://localhost:8080/"
        },
        "outputId": "d4e28365-b787-4222-df80-363c16c762c0"
      },
      "outputs": [
        {
          "output_type": "stream",
          "name": "stdout",
          "text": [
            "     name  age     city  income  income_tax  is_adult\n",
            "0    Anna   22  Tallinn    1200       288.0      True\n",
            "1    Jaan   35    Tartu    2100       504.0      True\n",
            "2    Mari   19  Tallinn     950       228.0      True\n",
            "3  Peeter   42    Pärnu    1800       432.0      True\n",
            "4    Liis   28    Tartu    1600       384.0      True\n",
            "     name  age     city  income  income_tax  is_adult      hobby\n",
            "0    Anna   22  Tallinn    1200       288.0      True      jooga\n",
            "1    Jaan   35    Tartu    2100       504.0      True  matkamine\n",
            "2    Mari   19  Tallinn     950       228.0      True   lugemine\n",
            "3  Peeter   42    Pärnu    1800       432.0      True        NaN\n",
            "4    Liis   28    Tartu    1600       384.0      True        NaN\n"
          ]
        }
      ],
      "source": [
        "# Uue veeru loomine\n",
        "df['income_tax'] = df['income'] * 0.24  # Näiteks tulumaksu arvutamine\n",
        "df['is_adult'] = df['age'] >= 18 # tekitab boolean veeru: True/False\n",
        "print(df)\n",
        "\n",
        "# Tabelite liitmine (joinimine)\n",
        "df_extra = pd.DataFrame({\n",
        "    'name': ['Anna', 'Jaan', 'Mari'],\n",
        "    'hobby': ['jooga', 'matkamine', 'lugemine']\n",
        "})\n",
        "df_joined = pd.merge(df, df_extra, on='name', how='left')\n",
        "print(df_joined)"
      ]
    },
    {
      "cell_type": "markdown",
      "id": "a1d80b0a",
      "metadata": {
        "id": "a1d80b0a"
      },
      "source": [
        "`pd.concat()` ühendab tabeleid kas ridade (`axis=0`) või veergude (`axis=1`) kaupa. Kasuta concat'i, kui soovid lihtsalt tabeleid järjestada või veerge kokku panna, mitte liita ühise veeru alusel nagu merge/join."
      ]
    },
    {
      "cell_type": "code",
      "execution_count": 7,
      "id": "d308336d",
      "metadata": {
        "id": "d308336d",
        "colab": {
          "base_uri": "https://localhost:8080/"
        },
        "outputId": "905b5d0a-c76a-41b7-ddb8-83dac3883b52"
      },
      "outputs": [
        {
          "output_type": "stream",
          "name": "stdout",
          "text": [
            "     name  age     city  income  income_tax  is_adult\n",
            "0    Anna   22  Tallinn    1200       288.0      True\n",
            "1    Jaan   35    Tartu    2100       504.0      True\n",
            "2    Mari   19  Tallinn     950       228.0      True\n",
            "3  Peeter   42    Pärnu    1800       432.0      True\n",
            "4    Liis   28    Tartu    1600       384.0      True\n",
            "     name  age     city  income\n",
            "0    Anna   22  Tallinn    1200\n",
            "1    Jaan   35    Tartu    2100\n",
            "2    Mari   19  Tallinn     950\n",
            "3  Peeter   42    Pärnu    1800\n",
            "4    Liis   28    Tartu    1600\n"
          ]
        }
      ],
      "source": [
        "# Tabelite ühendamine (concat) ridade kaupa\n",
        "df_part1 = df.iloc[:3]\n",
        "df_part2 = df.iloc[3:]\n",
        "df_concat = pd.concat([df_part1, df_part2], axis=0)\n",
        "print(df_concat)\n",
        "\n",
        "# Tabelite ühendamine (concat) veergude kaupa\n",
        "df_cols1 = df[['name', 'age']]\n",
        "df_cols2 = df[['city', 'income']]\n",
        "df_concat_cols = pd.concat([df_cols1, df_cols2], axis=1)\n",
        "print(df_concat_cols)"
      ]
    },
    {
      "cell_type": "markdown",
      "id": "5d531ff9",
      "metadata": {
        "id": "5d531ff9"
      },
      "source": [
        "## Andmete inspekteerimine\n",
        "Enne analüüsi on oluline oma andmeid tundma õppida."
      ]
    },
    {
      "cell_type": "code",
      "execution_count": 8,
      "id": "a96fcdf0",
      "metadata": {
        "id": "a96fcdf0",
        "colab": {
          "base_uri": "https://localhost:8080/"
        },
        "outputId": "693c15fa-b5be-4c82-b79f-7dbfb5894c52"
      },
      "outputs": [
        {
          "output_type": "stream",
          "name": "stdout",
          "text": [
            "     name  age     city  income  income_tax  is_adult\n",
            "0    Anna   22  Tallinn    1200       288.0      True\n",
            "1    Jaan   35    Tartu    2100       504.0      True\n",
            "2    Mari   19  Tallinn     950       228.0      True\n",
            "3  Peeter   42    Pärnu    1800       432.0      True\n",
            "4    Liis   28    Tartu    1600       384.0      True\n",
            "     name  age     city  income  income_tax  is_adult\n",
            "0    Anna   22  Tallinn    1200       288.0      True\n",
            "1    Jaan   35    Tartu    2100       504.0      True\n",
            "2    Mari   19  Tallinn     950       228.0      True\n",
            "3  Peeter   42    Pärnu    1800       432.0      True\n",
            "4    Liis   28    Tartu    1600       384.0      True\n"
          ]
        }
      ],
      "source": [
        "# Esimeste ja viimaste ridade vaatamine\n",
        "print(df.head())\n",
        "print(df.tail())"
      ]
    },
    {
      "cell_type": "markdown",
      "id": "9a66fcf3",
      "metadata": {
        "id": "9a66fcf3"
      },
      "source": [
        "`info` on üks kasulikumaid meetodeid, mis annab ülevaate veergude andmetüüpide ja puuduvatest väärtustest. See aitab mõista, milliseid andmeid on ja kas on vaja andmeid puhastada või teisendada."
      ]
    },
    {
      "cell_type": "code",
      "execution_count": 9,
      "id": "f546c722",
      "metadata": {
        "id": "f546c722",
        "colab": {
          "base_uri": "https://localhost:8080/"
        },
        "outputId": "84556862-f812-41c4-8e0c-424244540b9a"
      },
      "outputs": [
        {
          "output_type": "stream",
          "name": "stdout",
          "text": [
            "<class 'pandas.core.frame.DataFrame'>\n",
            "RangeIndex: 5 entries, 0 to 4\n",
            "Data columns (total 6 columns):\n",
            " #   Column      Non-Null Count  Dtype  \n",
            "---  ------      --------------  -----  \n",
            " 0   name        5 non-null      object \n",
            " 1   age         5 non-null      int64  \n",
            " 2   city        5 non-null      object \n",
            " 3   income      5 non-null      int64  \n",
            " 4   income_tax  5 non-null      float64\n",
            " 5   is_adult    5 non-null      bool   \n",
            "dtypes: bool(1), float64(1), int64(2), object(2)\n",
            "memory usage: 337.0+ bytes\n"
          ]
        }
      ],
      "source": [
        "# Veergude info ja puuduvate väärtuste kontroll\n",
        "df.info()"
      ]
    },
    {
      "cell_type": "markdown",
      "id": "3148263f",
      "metadata": {
        "id": "3148263f"
      },
      "source": [
        "`describe` annab statistilise kokkuvõtte arvuliste veergude kohta (nt keskmine, mediaan, min, max, kvartilid). See aitab mõista andmete jaotust ja leida võimalikke anomaaliaid. Kokkuvõte arvutatakse ainult arvuliste veergude kohta."
      ]
    },
    {
      "cell_type": "code",
      "execution_count": 10,
      "id": "a2e2181a",
      "metadata": {
        "id": "a2e2181a",
        "colab": {
          "base_uri": "https://localhost:8080/",
          "height": 300
        },
        "outputId": "7e964a0f-0a94-44c8-d876-9bbd277c4f7d"
      },
      "outputs": [
        {
          "output_type": "execute_result",
          "data": {
            "text/plain": [
              "             age       income  income_tax\n",
              "count   5.000000     5.000000    5.000000\n",
              "mean   29.200000  1530.000000  367.200000\n",
              "std     9.418068   460.434577  110.504299\n",
              "min    19.000000   950.000000  228.000000\n",
              "25%    22.000000  1200.000000  288.000000\n",
              "50%    28.000000  1600.000000  384.000000\n",
              "75%    35.000000  1800.000000  432.000000\n",
              "max    42.000000  2100.000000  504.000000"
            ],
            "text/html": [
              "\n",
              "  <div id=\"df-ceed62f9-6451-42bc-bfa5-fcd4ddac0810\" class=\"colab-df-container\">\n",
              "    <div>\n",
              "<style scoped>\n",
              "    .dataframe tbody tr th:only-of-type {\n",
              "        vertical-align: middle;\n",
              "    }\n",
              "\n",
              "    .dataframe tbody tr th {\n",
              "        vertical-align: top;\n",
              "    }\n",
              "\n",
              "    .dataframe thead th {\n",
              "        text-align: right;\n",
              "    }\n",
              "</style>\n",
              "<table border=\"1\" class=\"dataframe\">\n",
              "  <thead>\n",
              "    <tr style=\"text-align: right;\">\n",
              "      <th></th>\n",
              "      <th>age</th>\n",
              "      <th>income</th>\n",
              "      <th>income_tax</th>\n",
              "    </tr>\n",
              "  </thead>\n",
              "  <tbody>\n",
              "    <tr>\n",
              "      <th>count</th>\n",
              "      <td>5.000000</td>\n",
              "      <td>5.000000</td>\n",
              "      <td>5.000000</td>\n",
              "    </tr>\n",
              "    <tr>\n",
              "      <th>mean</th>\n",
              "      <td>29.200000</td>\n",
              "      <td>1530.000000</td>\n",
              "      <td>367.200000</td>\n",
              "    </tr>\n",
              "    <tr>\n",
              "      <th>std</th>\n",
              "      <td>9.418068</td>\n",
              "      <td>460.434577</td>\n",
              "      <td>110.504299</td>\n",
              "    </tr>\n",
              "    <tr>\n",
              "      <th>min</th>\n",
              "      <td>19.000000</td>\n",
              "      <td>950.000000</td>\n",
              "      <td>228.000000</td>\n",
              "    </tr>\n",
              "    <tr>\n",
              "      <th>25%</th>\n",
              "      <td>22.000000</td>\n",
              "      <td>1200.000000</td>\n",
              "      <td>288.000000</td>\n",
              "    </tr>\n",
              "    <tr>\n",
              "      <th>50%</th>\n",
              "      <td>28.000000</td>\n",
              "      <td>1600.000000</td>\n",
              "      <td>384.000000</td>\n",
              "    </tr>\n",
              "    <tr>\n",
              "      <th>75%</th>\n",
              "      <td>35.000000</td>\n",
              "      <td>1800.000000</td>\n",
              "      <td>432.000000</td>\n",
              "    </tr>\n",
              "    <tr>\n",
              "      <th>max</th>\n",
              "      <td>42.000000</td>\n",
              "      <td>2100.000000</td>\n",
              "      <td>504.000000</td>\n",
              "    </tr>\n",
              "  </tbody>\n",
              "</table>\n",
              "</div>\n",
              "    <div class=\"colab-df-buttons\">\n",
              "\n",
              "  <div class=\"colab-df-container\">\n",
              "    <button class=\"colab-df-convert\" onclick=\"convertToInteractive('df-ceed62f9-6451-42bc-bfa5-fcd4ddac0810')\"\n",
              "            title=\"Convert this dataframe to an interactive table.\"\n",
              "            style=\"display:none;\">\n",
              "\n",
              "  <svg xmlns=\"http://www.w3.org/2000/svg\" height=\"24px\" viewBox=\"0 -960 960 960\">\n",
              "    <path d=\"M120-120v-720h720v720H120Zm60-500h600v-160H180v160Zm220 220h160v-160H400v160Zm0 220h160v-160H400v160ZM180-400h160v-160H180v160Zm440 0h160v-160H620v160ZM180-180h160v-160H180v160Zm440 0h160v-160H620v160Z\"/>\n",
              "  </svg>\n",
              "    </button>\n",
              "\n",
              "  <style>\n",
              "    .colab-df-container {\n",
              "      display:flex;\n",
              "      gap: 12px;\n",
              "    }\n",
              "\n",
              "    .colab-df-convert {\n",
              "      background-color: #E8F0FE;\n",
              "      border: none;\n",
              "      border-radius: 50%;\n",
              "      cursor: pointer;\n",
              "      display: none;\n",
              "      fill: #1967D2;\n",
              "      height: 32px;\n",
              "      padding: 0 0 0 0;\n",
              "      width: 32px;\n",
              "    }\n",
              "\n",
              "    .colab-df-convert:hover {\n",
              "      background-color: #E2EBFA;\n",
              "      box-shadow: 0px 1px 2px rgba(60, 64, 67, 0.3), 0px 1px 3px 1px rgba(60, 64, 67, 0.15);\n",
              "      fill: #174EA6;\n",
              "    }\n",
              "\n",
              "    .colab-df-buttons div {\n",
              "      margin-bottom: 4px;\n",
              "    }\n",
              "\n",
              "    [theme=dark] .colab-df-convert {\n",
              "      background-color: #3B4455;\n",
              "      fill: #D2E3FC;\n",
              "    }\n",
              "\n",
              "    [theme=dark] .colab-df-convert:hover {\n",
              "      background-color: #434B5C;\n",
              "      box-shadow: 0px 1px 3px 1px rgba(0, 0, 0, 0.15);\n",
              "      filter: drop-shadow(0px 1px 2px rgba(0, 0, 0, 0.3));\n",
              "      fill: #FFFFFF;\n",
              "    }\n",
              "  </style>\n",
              "\n",
              "    <script>\n",
              "      const buttonEl =\n",
              "        document.querySelector('#df-ceed62f9-6451-42bc-bfa5-fcd4ddac0810 button.colab-df-convert');\n",
              "      buttonEl.style.display =\n",
              "        google.colab.kernel.accessAllowed ? 'block' : 'none';\n",
              "\n",
              "      async function convertToInteractive(key) {\n",
              "        const element = document.querySelector('#df-ceed62f9-6451-42bc-bfa5-fcd4ddac0810');\n",
              "        const dataTable =\n",
              "          await google.colab.kernel.invokeFunction('convertToInteractive',\n",
              "                                                    [key], {});\n",
              "        if (!dataTable) return;\n",
              "\n",
              "        const docLinkHtml = 'Like what you see? Visit the ' +\n",
              "          '<a target=\"_blank\" href=https://colab.research.google.com/notebooks/data_table.ipynb>data table notebook</a>'\n",
              "          + ' to learn more about interactive tables.';\n",
              "        element.innerHTML = '';\n",
              "        dataTable['output_type'] = 'display_data';\n",
              "        await google.colab.output.renderOutput(dataTable, element);\n",
              "        const docLink = document.createElement('div');\n",
              "        docLink.innerHTML = docLinkHtml;\n",
              "        element.appendChild(docLink);\n",
              "      }\n",
              "    </script>\n",
              "  </div>\n",
              "\n",
              "\n",
              "    <div id=\"df-d250b9b9-7f20-4a53-a402-7973b53b536f\">\n",
              "      <button class=\"colab-df-quickchart\" onclick=\"quickchart('df-d250b9b9-7f20-4a53-a402-7973b53b536f')\"\n",
              "                title=\"Suggest charts\"\n",
              "                style=\"display:none;\">\n",
              "\n",
              "<svg xmlns=\"http://www.w3.org/2000/svg\" height=\"24px\"viewBox=\"0 0 24 24\"\n",
              "     width=\"24px\">\n",
              "    <g>\n",
              "        <path d=\"M19 3H5c-1.1 0-2 .9-2 2v14c0 1.1.9 2 2 2h14c1.1 0 2-.9 2-2V5c0-1.1-.9-2-2-2zM9 17H7v-7h2v7zm4 0h-2V7h2v10zm4 0h-2v-4h2v4z\"/>\n",
              "    </g>\n",
              "</svg>\n",
              "      </button>\n",
              "\n",
              "<style>\n",
              "  .colab-df-quickchart {\n",
              "      --bg-color: #E8F0FE;\n",
              "      --fill-color: #1967D2;\n",
              "      --hover-bg-color: #E2EBFA;\n",
              "      --hover-fill-color: #174EA6;\n",
              "      --disabled-fill-color: #AAA;\n",
              "      --disabled-bg-color: #DDD;\n",
              "  }\n",
              "\n",
              "  [theme=dark] .colab-df-quickchart {\n",
              "      --bg-color: #3B4455;\n",
              "      --fill-color: #D2E3FC;\n",
              "      --hover-bg-color: #434B5C;\n",
              "      --hover-fill-color: #FFFFFF;\n",
              "      --disabled-bg-color: #3B4455;\n",
              "      --disabled-fill-color: #666;\n",
              "  }\n",
              "\n",
              "  .colab-df-quickchart {\n",
              "    background-color: var(--bg-color);\n",
              "    border: none;\n",
              "    border-radius: 50%;\n",
              "    cursor: pointer;\n",
              "    display: none;\n",
              "    fill: var(--fill-color);\n",
              "    height: 32px;\n",
              "    padding: 0;\n",
              "    width: 32px;\n",
              "  }\n",
              "\n",
              "  .colab-df-quickchart:hover {\n",
              "    background-color: var(--hover-bg-color);\n",
              "    box-shadow: 0 1px 2px rgba(60, 64, 67, 0.3), 0 1px 3px 1px rgba(60, 64, 67, 0.15);\n",
              "    fill: var(--button-hover-fill-color);\n",
              "  }\n",
              "\n",
              "  .colab-df-quickchart-complete:disabled,\n",
              "  .colab-df-quickchart-complete:disabled:hover {\n",
              "    background-color: var(--disabled-bg-color);\n",
              "    fill: var(--disabled-fill-color);\n",
              "    box-shadow: none;\n",
              "  }\n",
              "\n",
              "  .colab-df-spinner {\n",
              "    border: 2px solid var(--fill-color);\n",
              "    border-color: transparent;\n",
              "    border-bottom-color: var(--fill-color);\n",
              "    animation:\n",
              "      spin 1s steps(1) infinite;\n",
              "  }\n",
              "\n",
              "  @keyframes spin {\n",
              "    0% {\n",
              "      border-color: transparent;\n",
              "      border-bottom-color: var(--fill-color);\n",
              "      border-left-color: var(--fill-color);\n",
              "    }\n",
              "    20% {\n",
              "      border-color: transparent;\n",
              "      border-left-color: var(--fill-color);\n",
              "      border-top-color: var(--fill-color);\n",
              "    }\n",
              "    30% {\n",
              "      border-color: transparent;\n",
              "      border-left-color: var(--fill-color);\n",
              "      border-top-color: var(--fill-color);\n",
              "      border-right-color: var(--fill-color);\n",
              "    }\n",
              "    40% {\n",
              "      border-color: transparent;\n",
              "      border-right-color: var(--fill-color);\n",
              "      border-top-color: var(--fill-color);\n",
              "    }\n",
              "    60% {\n",
              "      border-color: transparent;\n",
              "      border-right-color: var(--fill-color);\n",
              "    }\n",
              "    80% {\n",
              "      border-color: transparent;\n",
              "      border-right-color: var(--fill-color);\n",
              "      border-bottom-color: var(--fill-color);\n",
              "    }\n",
              "    90% {\n",
              "      border-color: transparent;\n",
              "      border-bottom-color: var(--fill-color);\n",
              "    }\n",
              "  }\n",
              "</style>\n",
              "\n",
              "      <script>\n",
              "        async function quickchart(key) {\n",
              "          const quickchartButtonEl =\n",
              "            document.querySelector('#' + key + ' button');\n",
              "          quickchartButtonEl.disabled = true;  // To prevent multiple clicks.\n",
              "          quickchartButtonEl.classList.add('colab-df-spinner');\n",
              "          try {\n",
              "            const charts = await google.colab.kernel.invokeFunction(\n",
              "                'suggestCharts', [key], {});\n",
              "          } catch (error) {\n",
              "            console.error('Error during call to suggestCharts:', error);\n",
              "          }\n",
              "          quickchartButtonEl.classList.remove('colab-df-spinner');\n",
              "          quickchartButtonEl.classList.add('colab-df-quickchart-complete');\n",
              "        }\n",
              "        (() => {\n",
              "          let quickchartButtonEl =\n",
              "            document.querySelector('#df-d250b9b9-7f20-4a53-a402-7973b53b536f button');\n",
              "          quickchartButtonEl.style.display =\n",
              "            google.colab.kernel.accessAllowed ? 'block' : 'none';\n",
              "        })();\n",
              "      </script>\n",
              "    </div>\n",
              "\n",
              "    </div>\n",
              "  </div>\n"
            ],
            "application/vnd.google.colaboratory.intrinsic+json": {
              "type": "dataframe",
              "summary": "{\n  \"name\": \"df\",\n  \"rows\": 8,\n  \"fields\": [\n    {\n      \"column\": \"age\",\n      \"properties\": {\n        \"dtype\": \"number\",\n        \"std\": 12.478344373959695,\n        \"min\": 5.0,\n        \"max\": 42.0,\n        \"num_unique_values\": 8,\n        \"samples\": [\n          29.2,\n          28.0,\n          5.0\n        ],\n        \"semantic_type\": \"\",\n        \"description\": \"\"\n      }\n    },\n    {\n      \"column\": \"income\",\n      \"properties\": {\n        \"dtype\": \"number\",\n        \"std\": 704.6908113095335,\n        \"min\": 5.0,\n        \"max\": 2100.0,\n        \"num_unique_values\": 8,\n        \"samples\": [\n          1530.0,\n          1600.0,\n          5.0\n        ],\n        \"semantic_type\": \"\",\n        \"description\": \"\"\n      }\n    },\n    {\n      \"column\": \"income_tax\",\n      \"properties\": {\n        \"dtype\": \"number\",\n        \"std\": 168.2036762722697,\n        \"min\": 5.0,\n        \"max\": 504.0,\n        \"num_unique_values\": 8,\n        \"samples\": [\n          367.2,\n          384.0,\n          5.0\n        ],\n        \"semantic_type\": \"\",\n        \"description\": \"\"\n      }\n    }\n  ]\n}"
            }
          },
          "metadata": {},
          "execution_count": 10
        }
      ],
      "source": [
        "# Statistiline kokkuvõte\n",
        "df.describe()"
      ]
    },
    {
      "cell_type": "markdown",
      "id": "0948cf56",
      "metadata": {
        "id": "0948cf56"
      },
      "source": [
        "## Veergude ja ridade valik ning filtreerimine\n",
        "Veergude valimiseks kasuta `[[]]` notatsiooni: df[['name', 'age']] valib veerud 'name' ja 'age'. Ridade ja veergude täpsemaks valikuks kasuta `.loc[]` meetodit: df.loc[<indeks>, <veerg>].\n",
        "\n",
        "- `[[]]` notatsioon valib veerge nime järgi, nt df[['name', 'age']].\n",
        "- `.loc[]` võimaldab valida ridasid ja veerge indeksi ja veeru nime järgi, nt df.loc[0, 'name'] või df.loc[df['age'] > 18, ['name', 'age']].\n",
        "\n",
        "Filtreerimiseks kasuta tingimusi, nt df[df['age'] > 18]. Tingimusi saab kombineerida (&, |).\n",
        "\n",
        "### Iteratiivne filtreerimine pipe meetodiga\n",
        "Kui soovid järjestikku mitut filtrit rakendada, kasuta pipe meetodit, mis muudab koodi loetavamaks."
      ]
    },
    {
      "cell_type": "code",
      "execution_count": 11,
      "id": "d6ac338b",
      "metadata": {
        "id": "d6ac338b",
        "colab": {
          "base_uri": "https://localhost:8080/"
        },
        "outputId": "2aa491b1-0a08-4cbc-fe4f-ff814c7c92a9"
      },
      "outputs": [
        {
          "output_type": "stream",
          "name": "stdout",
          "text": [
            "     name  age\n",
            "0    Anna   22\n",
            "1    Jaan   35\n",
            "2    Mari   19\n",
            "3  Peeter   42\n",
            "4    Liis   28\n",
            "     name     city\n",
            "0    Anna  Tallinn\n",
            "1    Jaan    Tartu\n",
            "2    Mari  Tallinn\n",
            "3  Peeter    Pärnu\n",
            "4    Liis    Tartu\n",
            "   name  age   city  income  income_tax  is_adult\n",
            "1  Jaan   35  Tartu    2100       504.0      True\n",
            "4  Liis   28  Tartu    1600       384.0      True\n"
          ]
        }
      ],
      "source": [
        "# Veeru valimine [[]] notatsiooniga\n",
        "alamvalik = df[['name', 'age']]\n",
        "print(alamvalik)\n",
        "\n",
        "# Ridade ja veergude valik .loc abil\n",
        "valik = df.loc[df['age'] > 18, ['name', 'city']]\n",
        "print(valik)\n",
        "\n",
        "# Iteratiivne filtreerimine pipe meetodiga\n",
        "df_filtered = (\n",
        "    df.pipe(lambda d: d[d['age'] > 18])\n",
        "      .pipe(lambda d: d[d['income'] > 1500])\n",
        "      .pipe(lambda d: d[d['city'] == 'Tartu'])\n",
        ")\n",
        "print(df_filtered)"
      ]
    },
    {
      "cell_type": "markdown",
      "id": "8ccd20fd",
      "metadata": {
        "id": "8ccd20fd"
      },
      "source": [
        "## Puuduvate andmete käsitlemine\n",
        "Puuduvad andmed on tavalised ja nendega tuleb teadlikult ümber käia. Puuduvad väärtused võivad tekkida andmete kogumisel, vigade tõttu või seetõttu, et osa infot pole lihtsalt olemas.\n",
        "\n",
        "**Levinumad praktikad puuduvate väärtuste käsitlemisel:**\n",
        "- Puuduvate ridade eemaldamine (df.dropna()) – kasuta, kui puuduvus on juhuslik ja andmeid jääb piisavalt alles.\n",
        "- Puuduvate väärtuste täitmine (df.fillna()) – kasuta, kui täitmine ei moonuta analüüsi (nt keskmise, mediaani, nulliga).\n",
        "- Puuduvuse analüüs – vaata, kas puuduvus on juhuslik või süsteemne (nt ainult teatud grupis).\n",
        "- Märgi puuduvad väärtused eraldi tunnusega, kui see on analüüsi jaoks oluline.\n",
        "\n",
        "**Mida silmas pidada:**\n",
        "- Kas puuduvus mõjutab analüüsi tulemusi?\n",
        "- Kas täitmine või eemaldamine moonutab andmete jaotust?\n",
        "- Kas eemaldamine vähendab oluliselt andmete hulka?\n",
        "- Kas puuduvus on seotud mingi tunnusega (nt vanusegrupp, linn)?\n",
        "\n",
        "Alati analüüsi puuduvate väärtuste mustrit enne otsuse tegemist!"
      ]
    },
    {
      "cell_type": "code",
      "execution_count": 12,
      "id": "acd713bd",
      "metadata": {
        "id": "acd713bd",
        "colab": {
          "base_uri": "https://localhost:8080/"
        },
        "outputId": "7a36283b-d903-41f2-99a7-5eada81a4447"
      },
      "outputs": [
        {
          "output_type": "stream",
          "name": "stdout",
          "text": [
            "name          0\n",
            "age           0\n",
            "city          0\n",
            "income        0\n",
            "income_tax    0\n",
            "is_adult      0\n",
            "dtype: int64\n"
          ]
        }
      ],
      "source": [
        "# Puuduvate väärtuste arv veergude kaupa\n",
        "print(df.isnull().sum())\n",
        "# Ridade eemaldamine, kus on puuduvad andmed\n",
        "df_puhas = df.dropna()\n",
        "# Puuduvate väärtuste täitmine\n",
        "df_taidetud = df.fillna(0)  # Või df.fillna(df.mean()) arvuliste veergude jaoks"
      ]
    },
    {
      "cell_type": "markdown",
      "id": "9212438c",
      "metadata": {
        "id": "9212438c"
      },
      "source": [
        "## Grupeerimine ja agregatsioon\n",
        "Grupeerimine võimaldab andmeid jagada kategooriate kaupa ja rakendada igale grupile agregatsioonifunktsioone (nt keskmine, summa, min, max).\n",
        "\n",
        "Agregatsioonifunktsioonid antakse Pandasele tavaliselt jutumärkides (nt 'mean'), sest need on Pandase sisseehitatud funktsioonide nimed. Võid kasutada ka Python funktsioone (nt np.mean, lambda vms).\n",
        "\n",
        "**Levinumad agregatsioonifunktsioonid:**\n",
        "- 'mean' – keskmine\n",
        "- 'sum' – summa\n",
        "- 'min' – miinimum\n",
        "- 'max' – maksimum\n",
        "- 'count' – ridade arv\n",
        "- 'median' – mediaan\n",
        "- 'std' – standardhälve\n",
        "\n",
        "Agregatsioonifunktsioone saab kasutada nii stringina kui funktsioonina:\n",
        "- df.groupby('city').agg({'income': 'mean'})\n",
        "- df.groupby('city').agg({'income': np.mean})\n",
        "\n",
        "### Custom funktsiooni kasutamine agregatsioonis\n",
        "Võid defineerida oma funktsiooni ja kasutada seda groupby.agg sees. Näiteks arvutada veeru väärtuste vahe (max-min):"
      ]
    },
    {
      "cell_type": "code",
      "execution_count": 13,
      "id": "7d7f58aa",
      "metadata": {
        "id": "7d7f58aa",
        "colab": {
          "base_uri": "https://localhost:8080/"
        },
        "outputId": "7f62a822-2de9-460e-e855-3f40e53d8ddb"
      },
      "outputs": [
        {
          "output_type": "stream",
          "name": "stdout",
          "text": [
            "          age  income\n",
            "city                 \n",
            "Pärnu    42.0    1800\n",
            "Tallinn  20.5    2150\n",
            "Tartu    31.5    3700\n",
            "         income                        \n",
            "           mean   min   max         std\n",
            "city                                   \n",
            "Pärnu    1800.0  1800  1800         NaN\n",
            "Tallinn  1075.0   950  1200  176.776695\n",
            "Tartu    1850.0  1600  2100  353.553391\n",
            "         income\n",
            "city           \n",
            "Pärnu         0\n",
            "Tallinn     250\n",
            "Tartu       500\n"
          ]
        }
      ],
      "source": [
        "# Grupeerimine ja erinevad agregatsioonid\n",
        "\n",
        "# Standardne agregatsioon\n",
        "agg_df = df.groupby('city').agg({'age': 'mean', 'income': 'sum'})\n",
        "print(agg_df)\n",
        "\n",
        "# Mitme agregatsioonifunktsiooni kasutamine\n",
        "agg_multi = df.groupby('city').agg({'income': ['mean', 'min', 'max', 'std']})\n",
        "print(agg_multi)\n",
        "\n",
        "# Custom funktsioon: vahe (max-min)\n",
        "def vahe(x):\n",
        "    return x.max() - x.min()\n",
        "agg_custom = df.groupby('city').agg({'income': vahe})\n",
        "print(agg_custom)"
      ]
    },
    {
      "cell_type": "markdown",
      "id": "d1749f27",
      "metadata": {
        "id": "d1749f27"
      },
      "source": [
        "`groupby` võimaldab igat gruppi eraldi töödelda. Saad iga grupi nime ja selle grupi alam-DataFrame'i, mida saab analüüsida, salvestada või visualiseerida."
      ]
    },
    {
      "cell_type": "code",
      "execution_count": 14,
      "id": "bbf0599e",
      "metadata": {
        "id": "bbf0599e",
        "colab": {
          "base_uri": "https://localhost:8080/"
        },
        "outputId": "c03e6c76-24b5-41a2-a49c-494999b02557"
      },
      "outputs": [
        {
          "output_type": "stream",
          "name": "stdout",
          "text": [
            "Grupi nimi: Pärnu\n",
            "     name  age   city  income  income_tax  is_adult\n",
            "3  Peeter   42  Pärnu    1800       432.0      True\n",
            "---\n",
            "Grupi nimi: Tallinn\n",
            "   name  age     city  income  income_tax  is_adult\n",
            "0  Anna   22  Tallinn    1200       288.0      True\n",
            "2  Mari   19  Tallinn     950       228.0      True\n",
            "---\n",
            "Grupi nimi: Tartu\n",
            "   name  age   city  income  income_tax  is_adult\n",
            "1  Jaan   35  Tartu    2100       504.0      True\n",
            "4  Liis   28  Tartu    1600       384.0      True\n",
            "---\n"
          ]
        }
      ],
      "source": [
        "# Prindi iga grupi alam-DataFrame\n",
        "for city, group_df in df.groupby('city'):\n",
        "    print(f'Grupi nimi: {city}')\n",
        "    print(group_df)\n",
        "    print('---')"
      ]
    },
    {
      "cell_type": "markdown",
      "id": "d2e693e4",
      "metadata": {
        "id": "d2e693e4"
      },
      "source": [
        "## Pivot-tabelid Pandases\n",
        "\n",
        "Pivot-tabelid võimaldavad andmeid ümber korraldada ja kokku võtta, et leida seoseid erinevate tunnuste vahel. Pivot on eriti kasulik, kui soovid näha, kuidas mingi tunnus (nt keskmine sissetulek) muutub erinevate kategooriate lõikes (nt linn ja vanusegrupp).\n",
        "\n",
        "Pandases saab pivotit teha kahel viisil:\n",
        "\n",
        "1. **`pivot_table`** – võimaldab arvutada agregaatväärtusi (nt keskmine, summa) ja sobib olukordadesse, kus ridade/veerude kombinatsioonid pole unikaalsed.\n",
        "2. **`pivot`** – lihtne ümberkorraldus, kus igal ridade/veerude kombinatsioonil peab olema täpselt üks väärtus (st andmed peavad olema \"täielikud\").\n",
        "\n",
        "### Näide 1: `pivot_table` (agregatsiooniga)\n",
        "\n",
        "Oletame, et soovid näha iga linna ja vanusegrupi keskmist sissetulekut:"
      ]
    },
    {
      "cell_type": "code",
      "execution_count": 15,
      "id": "57450386",
      "metadata": {
        "colab": {
          "base_uri": "https://localhost:8080/"
        },
        "id": "57450386",
        "outputId": "5281b072-bbd5-4587-e305-99f1596ccd57"
      },
      "outputs": [
        {
          "output_type": "stream",
          "name": "stdout",
          "text": [
            "age_group    noor  keskealine\n",
            "city                         \n",
            "Pärnu         NaN      1800.0\n",
            "Tallinn    1075.0         NaN\n",
            "Tartu         NaN      1850.0\n"
          ]
        },
        {
          "output_type": "stream",
          "name": "stderr",
          "text": [
            "/tmp/ipython-input-961171772.py:4: FutureWarning: The default value of observed=False is deprecated and will change to observed=True in a future version of pandas. Specify observed=False to silence this warning and retain the current behavior\n",
            "  pivot_df = pd.pivot_table(df, values='income', index='city', columns='age_group', aggfunc='mean')\n"
          ]
        }
      ],
      "source": [
        "# Tekita vanusegrupid uue veeruna\n",
        "df['age_group'] = pd.cut(df['age'], bins=[0,22,65,100], labels=['noor','keskealine','eakas'])\n",
        "# pivot vanusegruppide ja linnade kaupa keskmine sissetulek\n",
        "pivot_df = pd.pivot_table(df, values='income', index='city', columns='age_group', aggfunc='mean')\n",
        "\n",
        "print(pivot_df)"
      ]
    },
    {
      "cell_type": "markdown",
      "id": "05f72d79",
      "metadata": {
        "id": "05f72d79"
      },
      "source": [
        "Siin arvutatakse iga linna ja vanusegrupi kohta keskmine sissetulek. Tulemus on \"tabel-tabelis\" kujul, kus read on linnad ja veerud vanusegrupid.\n",
        "\n",
        "### Näide 2: `pivot` (ilma agregatsioonita)\n",
        "\n",
        "Kui andmed on sellised, et igal linna ja nime kombinatsioonil on täpselt üks sissetulek, saab kasutada pivot meetodit:"
      ]
    },
    {
      "cell_type": "code",
      "execution_count": 16,
      "id": "4e90f68f",
      "metadata": {
        "colab": {
          "base_uri": "https://localhost:8080/"
        },
        "id": "4e90f68f",
        "outputId": "4176cbb2-6fcc-47a9-fcab-c428d074ea8b"
      },
      "outputs": [
        {
          "output_type": "stream",
          "name": "stdout",
          "text": [
            "name       Anna    Jaan    Liis   Mari  Peeter\n",
            "city                                          \n",
            "Pärnu       NaN     NaN     NaN    NaN  1800.0\n",
            "Tallinn  1200.0     NaN     NaN  950.0     NaN\n",
            "Tartu       NaN  2100.0  1600.0    NaN     NaN\n"
          ]
        }
      ],
      "source": [
        "\n",
        "pivot_simple = df.pivot(index='city', columns='name', values='income')\n",
        "print(pivot_simple)"
      ]
    },
    {
      "cell_type": "markdown",
      "id": "a611a9cb",
      "metadata": {
        "id": "a611a9cb"
      },
      "source": [
        "Siin saad iga linna kohta näha, mis on iga inimese sissetulek. Kui mõni kombinatsioon puudub, tekib vastavasse lahtrisse NaN.\n",
        "\n",
        "**Kokkuvõte:**\n",
        "- Kasuta `pivot_table`, kui soovid arvutada agregaatväärtusi või kui andmed pole \"täielikud\".\n",
        "- Kasuta `pivot`, kui igal kombinatsioonil on täpselt üks väärtus ja soovid lihtsalt andmeid ümber korraldada."
      ]
    },
    {
      "cell_type": "markdown",
      "id": "12231e03",
      "metadata": {
        "id": "12231e03"
      },
      "source": [
        "### Pivot-tabeli \"unpivot\" ehk muutmine tagasi pikaks tabeliks\n",
        "\n",
        "Kui soovid pivot_simple tabeli muuta tagasi pikaks (\"long format\") tabeliks, kus igal real on city, name ja income, kasuta Pandase `melt` meetodit:"
      ]
    },
    {
      "cell_type": "code",
      "execution_count": 17,
      "id": "93cb45d3",
      "metadata": {
        "colab": {
          "base_uri": "https://localhost:8080/"
        },
        "id": "93cb45d3",
        "outputId": "68bba5ed-8bfc-4700-d9e8-e4dad44ed9be"
      },
      "outputs": [
        {
          "output_type": "stream",
          "name": "stdout",
          "text": [
            "       city    name  income\n",
            "0     Pärnu    Anna     NaN\n",
            "1   Tallinn    Anna  1200.0\n",
            "2     Tartu    Anna     NaN\n",
            "3     Pärnu    Jaan     NaN\n",
            "4   Tallinn    Jaan     NaN\n",
            "5     Tartu    Jaan  2100.0\n",
            "6     Pärnu    Liis     NaN\n",
            "7   Tallinn    Liis     NaN\n",
            "8     Tartu    Liis  1600.0\n",
            "9     Pärnu    Mari     NaN\n",
            "10  Tallinn    Mari   950.0\n",
            "11    Tartu    Mari     NaN\n",
            "12    Pärnu  Peeter  1800.0\n",
            "13  Tallinn  Peeter     NaN\n",
            "14    Tartu  Peeter     NaN\n",
            "       city    name  income\n",
            "1   Tallinn    Anna  1200.0\n",
            "5     Tartu    Jaan  2100.0\n",
            "8     Tartu    Liis  1600.0\n",
            "10  Tallinn    Mari   950.0\n",
            "12    Pärnu  Peeter  1800.0\n"
          ]
        }
      ],
      "source": [
        "# Muutmine tagasi pikaks tabeliks\n",
        "df_long = pd.melt(pivot_simple.reset_index(), id_vars='city', var_name='name', value_name='income')\n",
        "print(df_long)\n",
        "\n",
        "# tekkinud NaN väärtustega ridadest saame lahti näiteks nii:\n",
        "df_no_nan = df_long.dropna(subset=['income'])\n",
        "print(df_no_nan)"
      ]
    },
    {
      "cell_type": "markdown",
      "id": "d445251c",
      "metadata": {
        "id": "d445251c"
      },
      "source": [
        "Siin saad iga (city, name) kombinatsiooni kohta sissetuleku eraldi real. See on kasulik, kui soovid andmeid uuesti töödelda või visualiseerida pikemal kujul."
      ]
    },
    {
      "cell_type": "markdown",
      "id": "5483de80",
      "metadata": {
        "id": "5483de80"
      },
      "source": [
        "## Andmete lugemine ja salvestamine\n",
        "Andmeid saab Pandases lugeda ja salvestada erinevatesse failiformaatidesse. Mõned levinumad näited:\n",
        "- **CSV**: Universaalne, lihtne tekstiformaat, sobib hästi andmete vahetamiseks erinevate programmide vahel. Ei säilita andmetüüpe ega vormingut.\n",
        "- **Excel (XLSX)**: Mugav kontoritööks, toetab mitut lehte ja vormingut, kuid pole nii tõhus suurte andmete jaoks.\n",
        "- **Parquet**: Tõhus, kiire ja kompaktne binaarformaat, sobib suurte andmete salvestamiseks ja töötlemiseks. Säilitab andmetüübid.\n",
        "\n",
        "CSV on kõige universaalsem ja sobib andmete jagamiseks erinevate platvormide vahel. Parquet on eelistatud suurte andmete ja analüüsi jaoks, Excel sobib kontoritööks ja väiksemate andmete puhul."
      ]
    },
    {
      "cell_type": "code",
      "execution_count": 18,
      "id": "810f7815",
      "metadata": {
        "id": "810f7815"
      },
      "outputs": [],
      "source": [
        "# Andmete salvestamine erinevatesse formaatidesse\n",
        "df.to_csv('output.csv', index=False)\n",
        "# df.to_excel('output.xlsx', index=False) # vajab openpyxl paketti, mida ei pruugi vaikimisi olla installitud\n",
        "df.to_parquet('output.parquet')"
      ]
    },
    {
      "cell_type": "code",
      "execution_count": 20,
      "id": "65bd623b",
      "metadata": {
        "id": "65bd623b"
      },
      "outputs": [],
      "source": [
        "# Andmete lugemine erinevatest failidest\n",
        "df_csv = pd.read_csv('Islander_data.csv')\n",
        "df_excel = pd.read_excel('Islander_data.xlsx')\n",
        "#df_parquet = pd.read_parquet('Islander_data.parquet')"
      ]
    },
    {
      "cell_type": "markdown",
      "id": "ef2a7be4",
      "metadata": {
        "id": "ef2a7be4"
      },
      "source": [
        "## Andmestiku kohta\n",
        "\n",
        "Näidetes kasutame\n",
        "[Kaggle](https://www.kaggle.com/datasets/steveahn/memory-test-on-drugged-islanders-data?resource=download)\n",
        "\"Memory Test on Drugged Islanders Data\" andmestikku.\n",
        "\n",
        "Andmestiku kirjeldus\n",
        "\n",
        "Eksperiment, kus uuritakse ärevusvastaste ravimite mõju mälu taastamisele, kui osalejaid on eelnevalt suunatud meenutama rõõmsaid või kurbi mälestusi. Osalejateks on virtuaalsed 'Islanders', kes matkivad pärisinimeste käitumist välistele teguritele reageerides.\n",
        "\n",
        "Uuritavad ravimid (tuntud kui) [Annus 1, 2, 3]:\n",
        "\n",
        "A - Alprazolam (Xanax, pikaajaline) [1mg/3mg/5mg]\n",
        "\n",
        "T - Triazolam (Halcion, lühiajaline) [0.25mg/0.5mg/0.75mg]\n",
        "\n",
        "S - Suhkrutablett (platseebo) [1 tbl/2 tbl/3 tbl]\n",
        "\n",
        "Andmete lugemiseks on kõige lihtsam kasutada `read_csv()` funktsiooni:"
      ]
    },
    {
      "cell_type": "markdown",
      "id": "f1c2f178",
      "metadata": {
        "id": "f1c2f178"
      },
      "source": [
        "## Praktiline ülesanne: `Islander_data` andmestik\n",
        "\n",
        "**Andmestiku tutvustus (eesti keeles):**\n",
        "Islander_data andmestik sisaldab infot Islandi elanike kohta: vanus, sugu, elukoht, haridus, sissetulek, hobid ja muud tunnused. Andmestik sobib demograafiliseks analüüsiks, sissetulekute ja hariduse seoste uurimiseks ning andmetöötluse harjutamiseks Pandasega.\n",
        "\n",
        "### Ülesande etapid\n",
        "1. Laadi andmestik Pandase DataFrame'iks (CSV või Excel).\n",
        "2. Inspekteeri andmestikku: vaata esimesi ridu, veergude tüüpe, puuduvate väärtuste arvu.\n",
        "3. Filtreeri andmestik: leia kõik isikud, kelle vanus on üle 30 ja perekonnanimi on 'Durand'.\n",
        "4. Millised on kõige levinumad perekonnanimed, kui palju neid on?\n",
        "5. Kasutades kogu andmestikku, lisa uus veerg, mis näitab, kas isik on noor, keskealine või vanur (noor: 0-18, keskealine: 19-65, vanur: 66+).\n",
        "6. Grupeeri andmed uue vanuse tulba järgi ja arvuta iga grupi keskmine vanus ja `diff` skoor.\n",
        "7. Lisa gupeerimisse `Duug` veerg, milline ravim toimis paremini mälu parandamisel.\n"
      ]
    },
    {
      "cell_type": "code",
      "execution_count": 22,
      "id": "d4fe62a2",
      "metadata": {
        "id": "d4fe62a2",
        "colab": {
          "base_uri": "https://localhost:8080/",
          "height": 206
        },
        "outputId": "fdc5b9a8-74c0-4156-bfab-bff0a311ff9a"
      },
      "outputs": [
        {
          "output_type": "execute_result",
          "data": {
            "text/plain": [
              "  first_name last_name  age Happy_Sad_group  Dosage Drug  Mem_Score_Before  \\\n",
              "0    Bastian  Carrasco   25               H       1    A              63.5   \n",
              "1       Evan  Carrasco   52               S       1    A              41.6   \n",
              "2  Florencia  Carrasco   29               H       1    A              59.7   \n",
              "3      Holly  Carrasco   50               S       1    A              51.7   \n",
              "4     Justin  Carrasco   52               H       1    A              47.0   \n",
              "\n",
              "   Mem_Score_After  Diff  \n",
              "0             61.2  -2.3  \n",
              "1             40.7  -0.9  \n",
              "2             55.1  -4.6  \n",
              "3             51.2  -0.5  \n",
              "4             47.1   0.1  "
            ],
            "text/html": [
              "\n",
              "  <div id=\"df-3f1e6515-cd54-4c69-a112-dcc9ad38fe7f\" class=\"colab-df-container\">\n",
              "    <div>\n",
              "<style scoped>\n",
              "    .dataframe tbody tr th:only-of-type {\n",
              "        vertical-align: middle;\n",
              "    }\n",
              "\n",
              "    .dataframe tbody tr th {\n",
              "        vertical-align: top;\n",
              "    }\n",
              "\n",
              "    .dataframe thead th {\n",
              "        text-align: right;\n",
              "    }\n",
              "</style>\n",
              "<table border=\"1\" class=\"dataframe\">\n",
              "  <thead>\n",
              "    <tr style=\"text-align: right;\">\n",
              "      <th></th>\n",
              "      <th>first_name</th>\n",
              "      <th>last_name</th>\n",
              "      <th>age</th>\n",
              "      <th>Happy_Sad_group</th>\n",
              "      <th>Dosage</th>\n",
              "      <th>Drug</th>\n",
              "      <th>Mem_Score_Before</th>\n",
              "      <th>Mem_Score_After</th>\n",
              "      <th>Diff</th>\n",
              "    </tr>\n",
              "  </thead>\n",
              "  <tbody>\n",
              "    <tr>\n",
              "      <th>0</th>\n",
              "      <td>Bastian</td>\n",
              "      <td>Carrasco</td>\n",
              "      <td>25</td>\n",
              "      <td>H</td>\n",
              "      <td>1</td>\n",
              "      <td>A</td>\n",
              "      <td>63.5</td>\n",
              "      <td>61.2</td>\n",
              "      <td>-2.3</td>\n",
              "    </tr>\n",
              "    <tr>\n",
              "      <th>1</th>\n",
              "      <td>Evan</td>\n",
              "      <td>Carrasco</td>\n",
              "      <td>52</td>\n",
              "      <td>S</td>\n",
              "      <td>1</td>\n",
              "      <td>A</td>\n",
              "      <td>41.6</td>\n",
              "      <td>40.7</td>\n",
              "      <td>-0.9</td>\n",
              "    </tr>\n",
              "    <tr>\n",
              "      <th>2</th>\n",
              "      <td>Florencia</td>\n",
              "      <td>Carrasco</td>\n",
              "      <td>29</td>\n",
              "      <td>H</td>\n",
              "      <td>1</td>\n",
              "      <td>A</td>\n",
              "      <td>59.7</td>\n",
              "      <td>55.1</td>\n",
              "      <td>-4.6</td>\n",
              "    </tr>\n",
              "    <tr>\n",
              "      <th>3</th>\n",
              "      <td>Holly</td>\n",
              "      <td>Carrasco</td>\n",
              "      <td>50</td>\n",
              "      <td>S</td>\n",
              "      <td>1</td>\n",
              "      <td>A</td>\n",
              "      <td>51.7</td>\n",
              "      <td>51.2</td>\n",
              "      <td>-0.5</td>\n",
              "    </tr>\n",
              "    <tr>\n",
              "      <th>4</th>\n",
              "      <td>Justin</td>\n",
              "      <td>Carrasco</td>\n",
              "      <td>52</td>\n",
              "      <td>H</td>\n",
              "      <td>1</td>\n",
              "      <td>A</td>\n",
              "      <td>47.0</td>\n",
              "      <td>47.1</td>\n",
              "      <td>0.1</td>\n",
              "    </tr>\n",
              "  </tbody>\n",
              "</table>\n",
              "</div>\n",
              "    <div class=\"colab-df-buttons\">\n",
              "\n",
              "  <div class=\"colab-df-container\">\n",
              "    <button class=\"colab-df-convert\" onclick=\"convertToInteractive('df-3f1e6515-cd54-4c69-a112-dcc9ad38fe7f')\"\n",
              "            title=\"Convert this dataframe to an interactive table.\"\n",
              "            style=\"display:none;\">\n",
              "\n",
              "  <svg xmlns=\"http://www.w3.org/2000/svg\" height=\"24px\" viewBox=\"0 -960 960 960\">\n",
              "    <path d=\"M120-120v-720h720v720H120Zm60-500h600v-160H180v160Zm220 220h160v-160H400v160Zm0 220h160v-160H400v160ZM180-400h160v-160H180v160Zm440 0h160v-160H620v160ZM180-180h160v-160H180v160Zm440 0h160v-160H620v160Z\"/>\n",
              "  </svg>\n",
              "    </button>\n",
              "\n",
              "  <style>\n",
              "    .colab-df-container {\n",
              "      display:flex;\n",
              "      gap: 12px;\n",
              "    }\n",
              "\n",
              "    .colab-df-convert {\n",
              "      background-color: #E8F0FE;\n",
              "      border: none;\n",
              "      border-radius: 50%;\n",
              "      cursor: pointer;\n",
              "      display: none;\n",
              "      fill: #1967D2;\n",
              "      height: 32px;\n",
              "      padding: 0 0 0 0;\n",
              "      width: 32px;\n",
              "    }\n",
              "\n",
              "    .colab-df-convert:hover {\n",
              "      background-color: #E2EBFA;\n",
              "      box-shadow: 0px 1px 2px rgba(60, 64, 67, 0.3), 0px 1px 3px 1px rgba(60, 64, 67, 0.15);\n",
              "      fill: #174EA6;\n",
              "    }\n",
              "\n",
              "    .colab-df-buttons div {\n",
              "      margin-bottom: 4px;\n",
              "    }\n",
              "\n",
              "    [theme=dark] .colab-df-convert {\n",
              "      background-color: #3B4455;\n",
              "      fill: #D2E3FC;\n",
              "    }\n",
              "\n",
              "    [theme=dark] .colab-df-convert:hover {\n",
              "      background-color: #434B5C;\n",
              "      box-shadow: 0px 1px 3px 1px rgba(0, 0, 0, 0.15);\n",
              "      filter: drop-shadow(0px 1px 2px rgba(0, 0, 0, 0.3));\n",
              "      fill: #FFFFFF;\n",
              "    }\n",
              "  </style>\n",
              "\n",
              "    <script>\n",
              "      const buttonEl =\n",
              "        document.querySelector('#df-3f1e6515-cd54-4c69-a112-dcc9ad38fe7f button.colab-df-convert');\n",
              "      buttonEl.style.display =\n",
              "        google.colab.kernel.accessAllowed ? 'block' : 'none';\n",
              "\n",
              "      async function convertToInteractive(key) {\n",
              "        const element = document.querySelector('#df-3f1e6515-cd54-4c69-a112-dcc9ad38fe7f');\n",
              "        const dataTable =\n",
              "          await google.colab.kernel.invokeFunction('convertToInteractive',\n",
              "                                                    [key], {});\n",
              "        if (!dataTable) return;\n",
              "\n",
              "        const docLinkHtml = 'Like what you see? Visit the ' +\n",
              "          '<a target=\"_blank\" href=https://colab.research.google.com/notebooks/data_table.ipynb>data table notebook</a>'\n",
              "          + ' to learn more about interactive tables.';\n",
              "        element.innerHTML = '';\n",
              "        dataTable['output_type'] = 'display_data';\n",
              "        await google.colab.output.renderOutput(dataTable, element);\n",
              "        const docLink = document.createElement('div');\n",
              "        docLink.innerHTML = docLinkHtml;\n",
              "        element.appendChild(docLink);\n",
              "      }\n",
              "    </script>\n",
              "  </div>\n",
              "\n",
              "\n",
              "    <div id=\"df-8ffa37cb-f807-46eb-88de-7c1e6f38691b\">\n",
              "      <button class=\"colab-df-quickchart\" onclick=\"quickchart('df-8ffa37cb-f807-46eb-88de-7c1e6f38691b')\"\n",
              "                title=\"Suggest charts\"\n",
              "                style=\"display:none;\">\n",
              "\n",
              "<svg xmlns=\"http://www.w3.org/2000/svg\" height=\"24px\"viewBox=\"0 0 24 24\"\n",
              "     width=\"24px\">\n",
              "    <g>\n",
              "        <path d=\"M19 3H5c-1.1 0-2 .9-2 2v14c0 1.1.9 2 2 2h14c1.1 0 2-.9 2-2V5c0-1.1-.9-2-2-2zM9 17H7v-7h2v7zm4 0h-2V7h2v10zm4 0h-2v-4h2v4z\"/>\n",
              "    </g>\n",
              "</svg>\n",
              "      </button>\n",
              "\n",
              "<style>\n",
              "  .colab-df-quickchart {\n",
              "      --bg-color: #E8F0FE;\n",
              "      --fill-color: #1967D2;\n",
              "      --hover-bg-color: #E2EBFA;\n",
              "      --hover-fill-color: #174EA6;\n",
              "      --disabled-fill-color: #AAA;\n",
              "      --disabled-bg-color: #DDD;\n",
              "  }\n",
              "\n",
              "  [theme=dark] .colab-df-quickchart {\n",
              "      --bg-color: #3B4455;\n",
              "      --fill-color: #D2E3FC;\n",
              "      --hover-bg-color: #434B5C;\n",
              "      --hover-fill-color: #FFFFFF;\n",
              "      --disabled-bg-color: #3B4455;\n",
              "      --disabled-fill-color: #666;\n",
              "  }\n",
              "\n",
              "  .colab-df-quickchart {\n",
              "    background-color: var(--bg-color);\n",
              "    border: none;\n",
              "    border-radius: 50%;\n",
              "    cursor: pointer;\n",
              "    display: none;\n",
              "    fill: var(--fill-color);\n",
              "    height: 32px;\n",
              "    padding: 0;\n",
              "    width: 32px;\n",
              "  }\n",
              "\n",
              "  .colab-df-quickchart:hover {\n",
              "    background-color: var(--hover-bg-color);\n",
              "    box-shadow: 0 1px 2px rgba(60, 64, 67, 0.3), 0 1px 3px 1px rgba(60, 64, 67, 0.15);\n",
              "    fill: var(--button-hover-fill-color);\n",
              "  }\n",
              "\n",
              "  .colab-df-quickchart-complete:disabled,\n",
              "  .colab-df-quickchart-complete:disabled:hover {\n",
              "    background-color: var(--disabled-bg-color);\n",
              "    fill: var(--disabled-fill-color);\n",
              "    box-shadow: none;\n",
              "  }\n",
              "\n",
              "  .colab-df-spinner {\n",
              "    border: 2px solid var(--fill-color);\n",
              "    border-color: transparent;\n",
              "    border-bottom-color: var(--fill-color);\n",
              "    animation:\n",
              "      spin 1s steps(1) infinite;\n",
              "  }\n",
              "\n",
              "  @keyframes spin {\n",
              "    0% {\n",
              "      border-color: transparent;\n",
              "      border-bottom-color: var(--fill-color);\n",
              "      border-left-color: var(--fill-color);\n",
              "    }\n",
              "    20% {\n",
              "      border-color: transparent;\n",
              "      border-left-color: var(--fill-color);\n",
              "      border-top-color: var(--fill-color);\n",
              "    }\n",
              "    30% {\n",
              "      border-color: transparent;\n",
              "      border-left-color: var(--fill-color);\n",
              "      border-top-color: var(--fill-color);\n",
              "      border-right-color: var(--fill-color);\n",
              "    }\n",
              "    40% {\n",
              "      border-color: transparent;\n",
              "      border-right-color: var(--fill-color);\n",
              "      border-top-color: var(--fill-color);\n",
              "    }\n",
              "    60% {\n",
              "      border-color: transparent;\n",
              "      border-right-color: var(--fill-color);\n",
              "    }\n",
              "    80% {\n",
              "      border-color: transparent;\n",
              "      border-right-color: var(--fill-color);\n",
              "      border-bottom-color: var(--fill-color);\n",
              "    }\n",
              "    90% {\n",
              "      border-color: transparent;\n",
              "      border-bottom-color: var(--fill-color);\n",
              "    }\n",
              "  }\n",
              "</style>\n",
              "\n",
              "      <script>\n",
              "        async function quickchart(key) {\n",
              "          const quickchartButtonEl =\n",
              "            document.querySelector('#' + key + ' button');\n",
              "          quickchartButtonEl.disabled = true;  // To prevent multiple clicks.\n",
              "          quickchartButtonEl.classList.add('colab-df-spinner');\n",
              "          try {\n",
              "            const charts = await google.colab.kernel.invokeFunction(\n",
              "                'suggestCharts', [key], {});\n",
              "          } catch (error) {\n",
              "            console.error('Error during call to suggestCharts:', error);\n",
              "          }\n",
              "          quickchartButtonEl.classList.remove('colab-df-spinner');\n",
              "          quickchartButtonEl.classList.add('colab-df-quickchart-complete');\n",
              "        }\n",
              "        (() => {\n",
              "          let quickchartButtonEl =\n",
              "            document.querySelector('#df-8ffa37cb-f807-46eb-88de-7c1e6f38691b button');\n",
              "          quickchartButtonEl.style.display =\n",
              "            google.colab.kernel.accessAllowed ? 'block' : 'none';\n",
              "        })();\n",
              "      </script>\n",
              "    </div>\n",
              "\n",
              "    </div>\n",
              "  </div>\n"
            ],
            "application/vnd.google.colaboratory.intrinsic+json": {
              "type": "dataframe",
              "variable_name": "df",
              "summary": "{\n  \"name\": \"df\",\n  \"rows\": 198,\n  \"fields\": [\n    {\n      \"column\": \"first_name\",\n      \"properties\": {\n        \"dtype\": \"string\",\n        \"num_unique_values\": 139,\n        \"samples\": [\n          \"Gregor\",\n          \"Sho\",\n          \"Ryan\"\n        ],\n        \"semantic_type\": \"\",\n        \"description\": \"\"\n      }\n    },\n    {\n      \"column\": \"last_name\",\n      \"properties\": {\n        \"dtype\": \"category\",\n        \"num_unique_values\": 18,\n        \"samples\": [\n          \"Carrasco\",\n          \"Durand\",\n          \"Summers\"\n        ],\n        \"semantic_type\": \"\",\n        \"description\": \"\"\n      }\n    },\n    {\n      \"column\": \"age\",\n      \"properties\": {\n        \"dtype\": \"number\",\n        \"std\": 12,\n        \"min\": 24,\n        \"max\": 83,\n        \"num_unique_values\": 45,\n        \"samples\": [\n          60,\n          43,\n          30\n        ],\n        \"semantic_type\": \"\",\n        \"description\": \"\"\n      }\n    },\n    {\n      \"column\": \"Happy_Sad_group\",\n      \"properties\": {\n        \"dtype\": \"category\",\n        \"num_unique_values\": 2,\n        \"samples\": [\n          \"S\",\n          \"H\"\n        ],\n        \"semantic_type\": \"\",\n        \"description\": \"\"\n      }\n    },\n    {\n      \"column\": \"Dosage\",\n      \"properties\": {\n        \"dtype\": \"number\",\n        \"std\": 0,\n        \"min\": 1,\n        \"max\": 3,\n        \"num_unique_values\": 3,\n        \"samples\": [\n          1,\n          2\n        ],\n        \"semantic_type\": \"\",\n        \"description\": \"\"\n      }\n    },\n    {\n      \"column\": \"Drug\",\n      \"properties\": {\n        \"dtype\": \"category\",\n        \"num_unique_values\": 3,\n        \"samples\": [\n          \"A\",\n          \"S\"\n        ],\n        \"semantic_type\": \"\",\n        \"description\": \"\"\n      }\n    },\n    {\n      \"column\": \"Mem_Score_Before\",\n      \"properties\": {\n        \"dtype\": \"number\",\n        \"std\": 15.766006793405591,\n        \"min\": 27.2,\n        \"max\": 110.0,\n        \"num_unique_values\": 162,\n        \"samples\": [\n          71.3,\n          50.5\n        ],\n        \"semantic_type\": \"\",\n        \"description\": \"\"\n      }\n    },\n    {\n      \"column\": \"Mem_Score_After\",\n      \"properties\": {\n        \"dtype\": \"number\",\n        \"std\": 18.13385120440956,\n        \"min\": 27.1,\n        \"max\": 120.0,\n        \"num_unique_values\": 151,\n        \"samples\": [\n          35.8,\n          49.2\n        ],\n        \"semantic_type\": \"\",\n        \"description\": \"\"\n      }\n    },\n    {\n      \"column\": \"Diff\",\n      \"properties\": {\n        \"dtype\": \"number\",\n        \"std\": 10.754602581959647,\n        \"min\": -40.4,\n        \"max\": 49.0,\n        \"num_unique_values\": 142,\n        \"samples\": [\n          7.8,\n          4.2\n        ],\n        \"semantic_type\": \"\",\n        \"description\": \"\"\n      }\n    }\n  ]\n}"
            }
          },
          "metadata": {},
          "execution_count": 22
        }
      ],
      "source": [
        "# lisa oma lahendus siia, võid lisada 'cell'-e nii palju kui vaja\n",
        "df = pd.read_csv('Islander_data.csv')\n",
        "df.head()"
      ]
    },
    {
      "cell_type": "code",
      "source": [
        "df.info()\n",
        "df.describe()"
      ],
      "metadata": {
        "colab": {
          "base_uri": "https://localhost:8080/",
          "height": 578
        },
        "id": "wDkFr2LK30WA",
        "outputId": "ef4b3d6c-635f-4d44-a0d1-4640f1050d1d"
      },
      "id": "wDkFr2LK30WA",
      "execution_count": 23,
      "outputs": [
        {
          "output_type": "stream",
          "name": "stdout",
          "text": [
            "<class 'pandas.core.frame.DataFrame'>\n",
            "RangeIndex: 198 entries, 0 to 197\n",
            "Data columns (total 9 columns):\n",
            " #   Column            Non-Null Count  Dtype  \n",
            "---  ------            --------------  -----  \n",
            " 0   first_name        198 non-null    object \n",
            " 1   last_name         198 non-null    object \n",
            " 2   age               198 non-null    int64  \n",
            " 3   Happy_Sad_group   198 non-null    object \n",
            " 4   Dosage            198 non-null    int64  \n",
            " 5   Drug              198 non-null    object \n",
            " 6   Mem_Score_Before  198 non-null    float64\n",
            " 7   Mem_Score_After   198 non-null    float64\n",
            " 8   Diff              198 non-null    float64\n",
            "dtypes: float64(3), int64(2), object(4)\n",
            "memory usage: 14.1+ KB\n"
          ]
        },
        {
          "output_type": "execute_result",
          "data": {
            "text/plain": [
              "              age      Dosage  Mem_Score_Before  Mem_Score_After        Diff\n",
              "count  198.000000  198.000000        198.000000       198.000000  198.000000\n",
              "mean    39.530303    1.989899         57.967677        60.922222    2.954545\n",
              "std     12.023099    0.818504         15.766007        18.133851   10.754603\n",
              "min     24.000000    1.000000         27.200000        27.100000  -40.400000\n",
              "25%     30.000000    1.000000         46.525000        47.175000   -3.175000\n",
              "50%     37.000000    2.000000         54.800000        56.750000    1.700000\n",
              "75%     48.000000    3.000000         68.400000        73.250000    5.925000\n",
              "max     83.000000    3.000000        110.000000       120.000000   49.000000"
            ],
            "text/html": [
              "\n",
              "  <div id=\"df-4c899da8-7fb6-4b25-bed8-8871b13a555f\" class=\"colab-df-container\">\n",
              "    <div>\n",
              "<style scoped>\n",
              "    .dataframe tbody tr th:only-of-type {\n",
              "        vertical-align: middle;\n",
              "    }\n",
              "\n",
              "    .dataframe tbody tr th {\n",
              "        vertical-align: top;\n",
              "    }\n",
              "\n",
              "    .dataframe thead th {\n",
              "        text-align: right;\n",
              "    }\n",
              "</style>\n",
              "<table border=\"1\" class=\"dataframe\">\n",
              "  <thead>\n",
              "    <tr style=\"text-align: right;\">\n",
              "      <th></th>\n",
              "      <th>age</th>\n",
              "      <th>Dosage</th>\n",
              "      <th>Mem_Score_Before</th>\n",
              "      <th>Mem_Score_After</th>\n",
              "      <th>Diff</th>\n",
              "    </tr>\n",
              "  </thead>\n",
              "  <tbody>\n",
              "    <tr>\n",
              "      <th>count</th>\n",
              "      <td>198.000000</td>\n",
              "      <td>198.000000</td>\n",
              "      <td>198.000000</td>\n",
              "      <td>198.000000</td>\n",
              "      <td>198.000000</td>\n",
              "    </tr>\n",
              "    <tr>\n",
              "      <th>mean</th>\n",
              "      <td>39.530303</td>\n",
              "      <td>1.989899</td>\n",
              "      <td>57.967677</td>\n",
              "      <td>60.922222</td>\n",
              "      <td>2.954545</td>\n",
              "    </tr>\n",
              "    <tr>\n",
              "      <th>std</th>\n",
              "      <td>12.023099</td>\n",
              "      <td>0.818504</td>\n",
              "      <td>15.766007</td>\n",
              "      <td>18.133851</td>\n",
              "      <td>10.754603</td>\n",
              "    </tr>\n",
              "    <tr>\n",
              "      <th>min</th>\n",
              "      <td>24.000000</td>\n",
              "      <td>1.000000</td>\n",
              "      <td>27.200000</td>\n",
              "      <td>27.100000</td>\n",
              "      <td>-40.400000</td>\n",
              "    </tr>\n",
              "    <tr>\n",
              "      <th>25%</th>\n",
              "      <td>30.000000</td>\n",
              "      <td>1.000000</td>\n",
              "      <td>46.525000</td>\n",
              "      <td>47.175000</td>\n",
              "      <td>-3.175000</td>\n",
              "    </tr>\n",
              "    <tr>\n",
              "      <th>50%</th>\n",
              "      <td>37.000000</td>\n",
              "      <td>2.000000</td>\n",
              "      <td>54.800000</td>\n",
              "      <td>56.750000</td>\n",
              "      <td>1.700000</td>\n",
              "    </tr>\n",
              "    <tr>\n",
              "      <th>75%</th>\n",
              "      <td>48.000000</td>\n",
              "      <td>3.000000</td>\n",
              "      <td>68.400000</td>\n",
              "      <td>73.250000</td>\n",
              "      <td>5.925000</td>\n",
              "    </tr>\n",
              "    <tr>\n",
              "      <th>max</th>\n",
              "      <td>83.000000</td>\n",
              "      <td>3.000000</td>\n",
              "      <td>110.000000</td>\n",
              "      <td>120.000000</td>\n",
              "      <td>49.000000</td>\n",
              "    </tr>\n",
              "  </tbody>\n",
              "</table>\n",
              "</div>\n",
              "    <div class=\"colab-df-buttons\">\n",
              "\n",
              "  <div class=\"colab-df-container\">\n",
              "    <button class=\"colab-df-convert\" onclick=\"convertToInteractive('df-4c899da8-7fb6-4b25-bed8-8871b13a555f')\"\n",
              "            title=\"Convert this dataframe to an interactive table.\"\n",
              "            style=\"display:none;\">\n",
              "\n",
              "  <svg xmlns=\"http://www.w3.org/2000/svg\" height=\"24px\" viewBox=\"0 -960 960 960\">\n",
              "    <path d=\"M120-120v-720h720v720H120Zm60-500h600v-160H180v160Zm220 220h160v-160H400v160Zm0 220h160v-160H400v160ZM180-400h160v-160H180v160Zm440 0h160v-160H620v160ZM180-180h160v-160H180v160Zm440 0h160v-160H620v160Z\"/>\n",
              "  </svg>\n",
              "    </button>\n",
              "\n",
              "  <style>\n",
              "    .colab-df-container {\n",
              "      display:flex;\n",
              "      gap: 12px;\n",
              "    }\n",
              "\n",
              "    .colab-df-convert {\n",
              "      background-color: #E8F0FE;\n",
              "      border: none;\n",
              "      border-radius: 50%;\n",
              "      cursor: pointer;\n",
              "      display: none;\n",
              "      fill: #1967D2;\n",
              "      height: 32px;\n",
              "      padding: 0 0 0 0;\n",
              "      width: 32px;\n",
              "    }\n",
              "\n",
              "    .colab-df-convert:hover {\n",
              "      background-color: #E2EBFA;\n",
              "      box-shadow: 0px 1px 2px rgba(60, 64, 67, 0.3), 0px 1px 3px 1px rgba(60, 64, 67, 0.15);\n",
              "      fill: #174EA6;\n",
              "    }\n",
              "\n",
              "    .colab-df-buttons div {\n",
              "      margin-bottom: 4px;\n",
              "    }\n",
              "\n",
              "    [theme=dark] .colab-df-convert {\n",
              "      background-color: #3B4455;\n",
              "      fill: #D2E3FC;\n",
              "    }\n",
              "\n",
              "    [theme=dark] .colab-df-convert:hover {\n",
              "      background-color: #434B5C;\n",
              "      box-shadow: 0px 1px 3px 1px rgba(0, 0, 0, 0.15);\n",
              "      filter: drop-shadow(0px 1px 2px rgba(0, 0, 0, 0.3));\n",
              "      fill: #FFFFFF;\n",
              "    }\n",
              "  </style>\n",
              "\n",
              "    <script>\n",
              "      const buttonEl =\n",
              "        document.querySelector('#df-4c899da8-7fb6-4b25-bed8-8871b13a555f button.colab-df-convert');\n",
              "      buttonEl.style.display =\n",
              "        google.colab.kernel.accessAllowed ? 'block' : 'none';\n",
              "\n",
              "      async function convertToInteractive(key) {\n",
              "        const element = document.querySelector('#df-4c899da8-7fb6-4b25-bed8-8871b13a555f');\n",
              "        const dataTable =\n",
              "          await google.colab.kernel.invokeFunction('convertToInteractive',\n",
              "                                                    [key], {});\n",
              "        if (!dataTable) return;\n",
              "\n",
              "        const docLinkHtml = 'Like what you see? Visit the ' +\n",
              "          '<a target=\"_blank\" href=https://colab.research.google.com/notebooks/data_table.ipynb>data table notebook</a>'\n",
              "          + ' to learn more about interactive tables.';\n",
              "        element.innerHTML = '';\n",
              "        dataTable['output_type'] = 'display_data';\n",
              "        await google.colab.output.renderOutput(dataTable, element);\n",
              "        const docLink = document.createElement('div');\n",
              "        docLink.innerHTML = docLinkHtml;\n",
              "        element.appendChild(docLink);\n",
              "      }\n",
              "    </script>\n",
              "  </div>\n",
              "\n",
              "\n",
              "    <div id=\"df-77094f2f-a846-4eef-863e-40d6ff03b131\">\n",
              "      <button class=\"colab-df-quickchart\" onclick=\"quickchart('df-77094f2f-a846-4eef-863e-40d6ff03b131')\"\n",
              "                title=\"Suggest charts\"\n",
              "                style=\"display:none;\">\n",
              "\n",
              "<svg xmlns=\"http://www.w3.org/2000/svg\" height=\"24px\"viewBox=\"0 0 24 24\"\n",
              "     width=\"24px\">\n",
              "    <g>\n",
              "        <path d=\"M19 3H5c-1.1 0-2 .9-2 2v14c0 1.1.9 2 2 2h14c1.1 0 2-.9 2-2V5c0-1.1-.9-2-2-2zM9 17H7v-7h2v7zm4 0h-2V7h2v10zm4 0h-2v-4h2v4z\"/>\n",
              "    </g>\n",
              "</svg>\n",
              "      </button>\n",
              "\n",
              "<style>\n",
              "  .colab-df-quickchart {\n",
              "      --bg-color: #E8F0FE;\n",
              "      --fill-color: #1967D2;\n",
              "      --hover-bg-color: #E2EBFA;\n",
              "      --hover-fill-color: #174EA6;\n",
              "      --disabled-fill-color: #AAA;\n",
              "      --disabled-bg-color: #DDD;\n",
              "  }\n",
              "\n",
              "  [theme=dark] .colab-df-quickchart {\n",
              "      --bg-color: #3B4455;\n",
              "      --fill-color: #D2E3FC;\n",
              "      --hover-bg-color: #434B5C;\n",
              "      --hover-fill-color: #FFFFFF;\n",
              "      --disabled-bg-color: #3B4455;\n",
              "      --disabled-fill-color: #666;\n",
              "  }\n",
              "\n",
              "  .colab-df-quickchart {\n",
              "    background-color: var(--bg-color);\n",
              "    border: none;\n",
              "    border-radius: 50%;\n",
              "    cursor: pointer;\n",
              "    display: none;\n",
              "    fill: var(--fill-color);\n",
              "    height: 32px;\n",
              "    padding: 0;\n",
              "    width: 32px;\n",
              "  }\n",
              "\n",
              "  .colab-df-quickchart:hover {\n",
              "    background-color: var(--hover-bg-color);\n",
              "    box-shadow: 0 1px 2px rgba(60, 64, 67, 0.3), 0 1px 3px 1px rgba(60, 64, 67, 0.15);\n",
              "    fill: var(--button-hover-fill-color);\n",
              "  }\n",
              "\n",
              "  .colab-df-quickchart-complete:disabled,\n",
              "  .colab-df-quickchart-complete:disabled:hover {\n",
              "    background-color: var(--disabled-bg-color);\n",
              "    fill: var(--disabled-fill-color);\n",
              "    box-shadow: none;\n",
              "  }\n",
              "\n",
              "  .colab-df-spinner {\n",
              "    border: 2px solid var(--fill-color);\n",
              "    border-color: transparent;\n",
              "    border-bottom-color: var(--fill-color);\n",
              "    animation:\n",
              "      spin 1s steps(1) infinite;\n",
              "  }\n",
              "\n",
              "  @keyframes spin {\n",
              "    0% {\n",
              "      border-color: transparent;\n",
              "      border-bottom-color: var(--fill-color);\n",
              "      border-left-color: var(--fill-color);\n",
              "    }\n",
              "    20% {\n",
              "      border-color: transparent;\n",
              "      border-left-color: var(--fill-color);\n",
              "      border-top-color: var(--fill-color);\n",
              "    }\n",
              "    30% {\n",
              "      border-color: transparent;\n",
              "      border-left-color: var(--fill-color);\n",
              "      border-top-color: var(--fill-color);\n",
              "      border-right-color: var(--fill-color);\n",
              "    }\n",
              "    40% {\n",
              "      border-color: transparent;\n",
              "      border-right-color: var(--fill-color);\n",
              "      border-top-color: var(--fill-color);\n",
              "    }\n",
              "    60% {\n",
              "      border-color: transparent;\n",
              "      border-right-color: var(--fill-color);\n",
              "    }\n",
              "    80% {\n",
              "      border-color: transparent;\n",
              "      border-right-color: var(--fill-color);\n",
              "      border-bottom-color: var(--fill-color);\n",
              "    }\n",
              "    90% {\n",
              "      border-color: transparent;\n",
              "      border-bottom-color: var(--fill-color);\n",
              "    }\n",
              "  }\n",
              "</style>\n",
              "\n",
              "      <script>\n",
              "        async function quickchart(key) {\n",
              "          const quickchartButtonEl =\n",
              "            document.querySelector('#' + key + ' button');\n",
              "          quickchartButtonEl.disabled = true;  // To prevent multiple clicks.\n",
              "          quickchartButtonEl.classList.add('colab-df-spinner');\n",
              "          try {\n",
              "            const charts = await google.colab.kernel.invokeFunction(\n",
              "                'suggestCharts', [key], {});\n",
              "          } catch (error) {\n",
              "            console.error('Error during call to suggestCharts:', error);\n",
              "          }\n",
              "          quickchartButtonEl.classList.remove('colab-df-spinner');\n",
              "          quickchartButtonEl.classList.add('colab-df-quickchart-complete');\n",
              "        }\n",
              "        (() => {\n",
              "          let quickchartButtonEl =\n",
              "            document.querySelector('#df-77094f2f-a846-4eef-863e-40d6ff03b131 button');\n",
              "          quickchartButtonEl.style.display =\n",
              "            google.colab.kernel.accessAllowed ? 'block' : 'none';\n",
              "        })();\n",
              "      </script>\n",
              "    </div>\n",
              "\n",
              "    </div>\n",
              "  </div>\n"
            ],
            "application/vnd.google.colaboratory.intrinsic+json": {
              "type": "dataframe",
              "summary": "{\n  \"name\": \"df\",\n  \"rows\": 8,\n  \"fields\": [\n    {\n      \"column\": \"age\",\n      \"properties\": {\n        \"dtype\": \"number\",\n        \"std\": 59.94506220183356,\n        \"min\": 12.023099210624467,\n        \"max\": 198.0,\n        \"num_unique_values\": 8,\n        \"samples\": [\n          39.53030303030303,\n          37.0,\n          198.0\n        ],\n        \"semantic_type\": \"\",\n        \"description\": \"\"\n      }\n    },\n    {\n      \"column\": \"Dosage\",\n      \"properties\": {\n        \"dtype\": \"number\",\n        \"std\": 69.36199743647214,\n        \"min\": 0.8185036426891578,\n        \"max\": 198.0,\n        \"num_unique_values\": 6,\n        \"samples\": [\n          198.0,\n          1.9898989898989898,\n          3.0\n        ],\n        \"semantic_type\": \"\",\n        \"description\": \"\"\n      }\n    },\n    {\n      \"column\": \"Mem_Score_Before\",\n      \"properties\": {\n        \"dtype\": \"number\",\n        \"std\": 58.11700038649984,\n        \"min\": 15.766006793405591,\n        \"max\": 198.0,\n        \"num_unique_values\": 8,\n        \"samples\": [\n          57.96767676767678,\n          54.8,\n          198.0\n        ],\n        \"semantic_type\": \"\",\n        \"description\": \"\"\n      }\n    },\n    {\n      \"column\": \"Mem_Score_After\",\n      \"properties\": {\n        \"dtype\": \"number\",\n        \"std\": 58.54239838593703,\n        \"min\": 18.13385120440956,\n        \"max\": 198.0,\n        \"num_unique_values\": 8,\n        \"samples\": [\n          60.92222222222223,\n          56.75,\n          198.0\n        ],\n        \"semantic_type\": \"\",\n        \"description\": \"\"\n      }\n    },\n    {\n      \"column\": \"Diff\",\n      \"properties\": {\n        \"dtype\": \"number\",\n        \"std\": 72.79623492743967,\n        \"min\": -40.4,\n        \"max\": 198.0,\n        \"num_unique_values\": 8,\n        \"samples\": [\n          2.9545454545454533,\n          1.7,\n          198.0\n        ],\n        \"semantic_type\": \"\",\n        \"description\": \"\"\n      }\n    }\n  ]\n}"
            }
          },
          "metadata": {},
          "execution_count": 23
        }
      ]
    },
    {
      "cell_type": "code",
      "source": [
        "df_filter = df[(df['age'] > 30) & (df['last_name'] == 'Durand')]\n",
        "df_filter.head()"
      ],
      "metadata": {
        "colab": {
          "base_uri": "https://localhost:8080/",
          "height": 206
        },
        "id": "62LO6kU831vC",
        "outputId": "7f57c3c8-dfe5-4ce0-c2f5-9096f94a9168"
      },
      "id": "62LO6kU831vC",
      "execution_count": 25,
      "outputs": [
        {
          "output_type": "execute_result",
          "data": {
            "text/plain": [
              "     first_name last_name  age Happy_Sad_group  Dosage Drug  Mem_Score_Before  \\\n",
              "6           Ava    Durand   35               S       1    A              44.1   \n",
              "7         Jamie    Durand   38               H       1    A              76.3   \n",
              "9          Mark    Durand   36               S       1    A              54.8   \n",
              "10  Maximiliano    Durand   63               S       1    A              90.0   \n",
              "29       Darren    Durand   36               H       2    A              74.9   \n",
              "\n",
              "    Mem_Score_After  Diff  \n",
              "6              56.0  11.9  \n",
              "7              74.8  -1.5  \n",
              "9              75.9  21.1  \n",
              "10            102.0  12.0  \n",
              "29             70.8  -4.1  "
            ],
            "text/html": [
              "\n",
              "  <div id=\"df-c17e4b6c-1501-4ed3-ba0b-59fd9aa9cfaa\" class=\"colab-df-container\">\n",
              "    <div>\n",
              "<style scoped>\n",
              "    .dataframe tbody tr th:only-of-type {\n",
              "        vertical-align: middle;\n",
              "    }\n",
              "\n",
              "    .dataframe tbody tr th {\n",
              "        vertical-align: top;\n",
              "    }\n",
              "\n",
              "    .dataframe thead th {\n",
              "        text-align: right;\n",
              "    }\n",
              "</style>\n",
              "<table border=\"1\" class=\"dataframe\">\n",
              "  <thead>\n",
              "    <tr style=\"text-align: right;\">\n",
              "      <th></th>\n",
              "      <th>first_name</th>\n",
              "      <th>last_name</th>\n",
              "      <th>age</th>\n",
              "      <th>Happy_Sad_group</th>\n",
              "      <th>Dosage</th>\n",
              "      <th>Drug</th>\n",
              "      <th>Mem_Score_Before</th>\n",
              "      <th>Mem_Score_After</th>\n",
              "      <th>Diff</th>\n",
              "    </tr>\n",
              "  </thead>\n",
              "  <tbody>\n",
              "    <tr>\n",
              "      <th>6</th>\n",
              "      <td>Ava</td>\n",
              "      <td>Durand</td>\n",
              "      <td>35</td>\n",
              "      <td>S</td>\n",
              "      <td>1</td>\n",
              "      <td>A</td>\n",
              "      <td>44.1</td>\n",
              "      <td>56.0</td>\n",
              "      <td>11.9</td>\n",
              "    </tr>\n",
              "    <tr>\n",
              "      <th>7</th>\n",
              "      <td>Jamie</td>\n",
              "      <td>Durand</td>\n",
              "      <td>38</td>\n",
              "      <td>H</td>\n",
              "      <td>1</td>\n",
              "      <td>A</td>\n",
              "      <td>76.3</td>\n",
              "      <td>74.8</td>\n",
              "      <td>-1.5</td>\n",
              "    </tr>\n",
              "    <tr>\n",
              "      <th>9</th>\n",
              "      <td>Mark</td>\n",
              "      <td>Durand</td>\n",
              "      <td>36</td>\n",
              "      <td>S</td>\n",
              "      <td>1</td>\n",
              "      <td>A</td>\n",
              "      <td>54.8</td>\n",
              "      <td>75.9</td>\n",
              "      <td>21.1</td>\n",
              "    </tr>\n",
              "    <tr>\n",
              "      <th>10</th>\n",
              "      <td>Maximiliano</td>\n",
              "      <td>Durand</td>\n",
              "      <td>63</td>\n",
              "      <td>S</td>\n",
              "      <td>1</td>\n",
              "      <td>A</td>\n",
              "      <td>90.0</td>\n",
              "      <td>102.0</td>\n",
              "      <td>12.0</td>\n",
              "    </tr>\n",
              "    <tr>\n",
              "      <th>29</th>\n",
              "      <td>Darren</td>\n",
              "      <td>Durand</td>\n",
              "      <td>36</td>\n",
              "      <td>H</td>\n",
              "      <td>2</td>\n",
              "      <td>A</td>\n",
              "      <td>74.9</td>\n",
              "      <td>70.8</td>\n",
              "      <td>-4.1</td>\n",
              "    </tr>\n",
              "  </tbody>\n",
              "</table>\n",
              "</div>\n",
              "    <div class=\"colab-df-buttons\">\n",
              "\n",
              "  <div class=\"colab-df-container\">\n",
              "    <button class=\"colab-df-convert\" onclick=\"convertToInteractive('df-c17e4b6c-1501-4ed3-ba0b-59fd9aa9cfaa')\"\n",
              "            title=\"Convert this dataframe to an interactive table.\"\n",
              "            style=\"display:none;\">\n",
              "\n",
              "  <svg xmlns=\"http://www.w3.org/2000/svg\" height=\"24px\" viewBox=\"0 -960 960 960\">\n",
              "    <path d=\"M120-120v-720h720v720H120Zm60-500h600v-160H180v160Zm220 220h160v-160H400v160Zm0 220h160v-160H400v160ZM180-400h160v-160H180v160Zm440 0h160v-160H620v160ZM180-180h160v-160H180v160Zm440 0h160v-160H620v160Z\"/>\n",
              "  </svg>\n",
              "    </button>\n",
              "\n",
              "  <style>\n",
              "    .colab-df-container {\n",
              "      display:flex;\n",
              "      gap: 12px;\n",
              "    }\n",
              "\n",
              "    .colab-df-convert {\n",
              "      background-color: #E8F0FE;\n",
              "      border: none;\n",
              "      border-radius: 50%;\n",
              "      cursor: pointer;\n",
              "      display: none;\n",
              "      fill: #1967D2;\n",
              "      height: 32px;\n",
              "      padding: 0 0 0 0;\n",
              "      width: 32px;\n",
              "    }\n",
              "\n",
              "    .colab-df-convert:hover {\n",
              "      background-color: #E2EBFA;\n",
              "      box-shadow: 0px 1px 2px rgba(60, 64, 67, 0.3), 0px 1px 3px 1px rgba(60, 64, 67, 0.15);\n",
              "      fill: #174EA6;\n",
              "    }\n",
              "\n",
              "    .colab-df-buttons div {\n",
              "      margin-bottom: 4px;\n",
              "    }\n",
              "\n",
              "    [theme=dark] .colab-df-convert {\n",
              "      background-color: #3B4455;\n",
              "      fill: #D2E3FC;\n",
              "    }\n",
              "\n",
              "    [theme=dark] .colab-df-convert:hover {\n",
              "      background-color: #434B5C;\n",
              "      box-shadow: 0px 1px 3px 1px rgba(0, 0, 0, 0.15);\n",
              "      filter: drop-shadow(0px 1px 2px rgba(0, 0, 0, 0.3));\n",
              "      fill: #FFFFFF;\n",
              "    }\n",
              "  </style>\n",
              "\n",
              "    <script>\n",
              "      const buttonEl =\n",
              "        document.querySelector('#df-c17e4b6c-1501-4ed3-ba0b-59fd9aa9cfaa button.colab-df-convert');\n",
              "      buttonEl.style.display =\n",
              "        google.colab.kernel.accessAllowed ? 'block' : 'none';\n",
              "\n",
              "      async function convertToInteractive(key) {\n",
              "        const element = document.querySelector('#df-c17e4b6c-1501-4ed3-ba0b-59fd9aa9cfaa');\n",
              "        const dataTable =\n",
              "          await google.colab.kernel.invokeFunction('convertToInteractive',\n",
              "                                                    [key], {});\n",
              "        if (!dataTable) return;\n",
              "\n",
              "        const docLinkHtml = 'Like what you see? Visit the ' +\n",
              "          '<a target=\"_blank\" href=https://colab.research.google.com/notebooks/data_table.ipynb>data table notebook</a>'\n",
              "          + ' to learn more about interactive tables.';\n",
              "        element.innerHTML = '';\n",
              "        dataTable['output_type'] = 'display_data';\n",
              "        await google.colab.output.renderOutput(dataTable, element);\n",
              "        const docLink = document.createElement('div');\n",
              "        docLink.innerHTML = docLinkHtml;\n",
              "        element.appendChild(docLink);\n",
              "      }\n",
              "    </script>\n",
              "  </div>\n",
              "\n",
              "\n",
              "    <div id=\"df-0e3c2d87-ca40-44d2-9b9c-bd771aa04e6e\">\n",
              "      <button class=\"colab-df-quickchart\" onclick=\"quickchart('df-0e3c2d87-ca40-44d2-9b9c-bd771aa04e6e')\"\n",
              "                title=\"Suggest charts\"\n",
              "                style=\"display:none;\">\n",
              "\n",
              "<svg xmlns=\"http://www.w3.org/2000/svg\" height=\"24px\"viewBox=\"0 0 24 24\"\n",
              "     width=\"24px\">\n",
              "    <g>\n",
              "        <path d=\"M19 3H5c-1.1 0-2 .9-2 2v14c0 1.1.9 2 2 2h14c1.1 0 2-.9 2-2V5c0-1.1-.9-2-2-2zM9 17H7v-7h2v7zm4 0h-2V7h2v10zm4 0h-2v-4h2v4z\"/>\n",
              "    </g>\n",
              "</svg>\n",
              "      </button>\n",
              "\n",
              "<style>\n",
              "  .colab-df-quickchart {\n",
              "      --bg-color: #E8F0FE;\n",
              "      --fill-color: #1967D2;\n",
              "      --hover-bg-color: #E2EBFA;\n",
              "      --hover-fill-color: #174EA6;\n",
              "      --disabled-fill-color: #AAA;\n",
              "      --disabled-bg-color: #DDD;\n",
              "  }\n",
              "\n",
              "  [theme=dark] .colab-df-quickchart {\n",
              "      --bg-color: #3B4455;\n",
              "      --fill-color: #D2E3FC;\n",
              "      --hover-bg-color: #434B5C;\n",
              "      --hover-fill-color: #FFFFFF;\n",
              "      --disabled-bg-color: #3B4455;\n",
              "      --disabled-fill-color: #666;\n",
              "  }\n",
              "\n",
              "  .colab-df-quickchart {\n",
              "    background-color: var(--bg-color);\n",
              "    border: none;\n",
              "    border-radius: 50%;\n",
              "    cursor: pointer;\n",
              "    display: none;\n",
              "    fill: var(--fill-color);\n",
              "    height: 32px;\n",
              "    padding: 0;\n",
              "    width: 32px;\n",
              "  }\n",
              "\n",
              "  .colab-df-quickchart:hover {\n",
              "    background-color: var(--hover-bg-color);\n",
              "    box-shadow: 0 1px 2px rgba(60, 64, 67, 0.3), 0 1px 3px 1px rgba(60, 64, 67, 0.15);\n",
              "    fill: var(--button-hover-fill-color);\n",
              "  }\n",
              "\n",
              "  .colab-df-quickchart-complete:disabled,\n",
              "  .colab-df-quickchart-complete:disabled:hover {\n",
              "    background-color: var(--disabled-bg-color);\n",
              "    fill: var(--disabled-fill-color);\n",
              "    box-shadow: none;\n",
              "  }\n",
              "\n",
              "  .colab-df-spinner {\n",
              "    border: 2px solid var(--fill-color);\n",
              "    border-color: transparent;\n",
              "    border-bottom-color: var(--fill-color);\n",
              "    animation:\n",
              "      spin 1s steps(1) infinite;\n",
              "  }\n",
              "\n",
              "  @keyframes spin {\n",
              "    0% {\n",
              "      border-color: transparent;\n",
              "      border-bottom-color: var(--fill-color);\n",
              "      border-left-color: var(--fill-color);\n",
              "    }\n",
              "    20% {\n",
              "      border-color: transparent;\n",
              "      border-left-color: var(--fill-color);\n",
              "      border-top-color: var(--fill-color);\n",
              "    }\n",
              "    30% {\n",
              "      border-color: transparent;\n",
              "      border-left-color: var(--fill-color);\n",
              "      border-top-color: var(--fill-color);\n",
              "      border-right-color: var(--fill-color);\n",
              "    }\n",
              "    40% {\n",
              "      border-color: transparent;\n",
              "      border-right-color: var(--fill-color);\n",
              "      border-top-color: var(--fill-color);\n",
              "    }\n",
              "    60% {\n",
              "      border-color: transparent;\n",
              "      border-right-color: var(--fill-color);\n",
              "    }\n",
              "    80% {\n",
              "      border-color: transparent;\n",
              "      border-right-color: var(--fill-color);\n",
              "      border-bottom-color: var(--fill-color);\n",
              "    }\n",
              "    90% {\n",
              "      border-color: transparent;\n",
              "      border-bottom-color: var(--fill-color);\n",
              "    }\n",
              "  }\n",
              "</style>\n",
              "\n",
              "      <script>\n",
              "        async function quickchart(key) {\n",
              "          const quickchartButtonEl =\n",
              "            document.querySelector('#' + key + ' button');\n",
              "          quickchartButtonEl.disabled = true;  // To prevent multiple clicks.\n",
              "          quickchartButtonEl.classList.add('colab-df-spinner');\n",
              "          try {\n",
              "            const charts = await google.colab.kernel.invokeFunction(\n",
              "                'suggestCharts', [key], {});\n",
              "          } catch (error) {\n",
              "            console.error('Error during call to suggestCharts:', error);\n",
              "          }\n",
              "          quickchartButtonEl.classList.remove('colab-df-spinner');\n",
              "          quickchartButtonEl.classList.add('colab-df-quickchart-complete');\n",
              "        }\n",
              "        (() => {\n",
              "          let quickchartButtonEl =\n",
              "            document.querySelector('#df-0e3c2d87-ca40-44d2-9b9c-bd771aa04e6e button');\n",
              "          quickchartButtonEl.style.display =\n",
              "            google.colab.kernel.accessAllowed ? 'block' : 'none';\n",
              "        })();\n",
              "      </script>\n",
              "    </div>\n",
              "\n",
              "    </div>\n",
              "  </div>\n"
            ],
            "application/vnd.google.colaboratory.intrinsic+json": {
              "type": "dataframe",
              "variable_name": "df_filter",
              "summary": "{\n  \"name\": \"df_filter\",\n  \"rows\": 31,\n  \"fields\": [\n    {\n      \"column\": \"first_name\",\n      \"properties\": {\n        \"dtype\": \"string\",\n        \"num_unique_values\": 28,\n        \"samples\": [\n          \"Hina\",\n          \"Ellen\",\n          \"Benjamin\"\n        ],\n        \"semantic_type\": \"\",\n        \"description\": \"\"\n      }\n    },\n    {\n      \"column\": \"last_name\",\n      \"properties\": {\n        \"dtype\": \"category\",\n        \"num_unique_values\": 1,\n        \"samples\": [\n          \"Durand\"\n        ],\n        \"semantic_type\": \"\",\n        \"description\": \"\"\n      }\n    },\n    {\n      \"column\": \"age\",\n      \"properties\": {\n        \"dtype\": \"number\",\n        \"std\": 9,\n        \"min\": 32,\n        \"max\": 65,\n        \"num_unique_values\": 21,\n        \"samples\": [\n          35\n        ],\n        \"semantic_type\": \"\",\n        \"description\": \"\"\n      }\n    },\n    {\n      \"column\": \"Happy_Sad_group\",\n      \"properties\": {\n        \"dtype\": \"category\",\n        \"num_unique_values\": 2,\n        \"samples\": [\n          \"H\"\n        ],\n        \"semantic_type\": \"\",\n        \"description\": \"\"\n      }\n    },\n    {\n      \"column\": \"Dosage\",\n      \"properties\": {\n        \"dtype\": \"number\",\n        \"std\": 0,\n        \"min\": 1,\n        \"max\": 3,\n        \"num_unique_values\": 3,\n        \"samples\": [\n          1\n        ],\n        \"semantic_type\": \"\",\n        \"description\": \"\"\n      }\n    },\n    {\n      \"column\": \"Drug\",\n      \"properties\": {\n        \"dtype\": \"category\",\n        \"num_unique_values\": 3,\n        \"samples\": [\n          \"A\"\n        ],\n        \"semantic_type\": \"\",\n        \"description\": \"\"\n      }\n    },\n    {\n      \"column\": \"Mem_Score_Before\",\n      \"properties\": {\n        \"dtype\": \"number\",\n        \"std\": 14.69567049109348,\n        \"min\": 30.7,\n        \"max\": 90.0,\n        \"num_unique_values\": 30,\n        \"samples\": [\n          54.6\n        ],\n        \"semantic_type\": \"\",\n        \"description\": \"\"\n      }\n    },\n    {\n      \"column\": \"Mem_Score_After\",\n      \"properties\": {\n        \"dtype\": \"number\",\n        \"std\": 18.160449167861863,\n        \"min\": 27.1,\n        \"max\": 102.0,\n        \"num_unique_values\": 29,\n        \"samples\": [\n          74.3\n        ],\n        \"semantic_type\": \"\",\n        \"description\": \"\"\n      }\n    },\n    {\n      \"column\": \"Diff\",\n      \"properties\": {\n        \"dtype\": \"number\",\n        \"std\": 11.111841983130633,\n        \"min\": -14.7,\n        \"max\": 33.4,\n        \"num_unique_values\": 30,\n        \"samples\": [\n          4.6\n        ],\n        \"semantic_type\": \"\",\n        \"description\": \"\"\n      }\n    }\n  ]\n}"
            }
          },
          "metadata": {},
          "execution_count": 25
        }
      ]
    },
    {
      "cell_type": "code",
      "source": [
        "pop_perekonnainimi = df['last_name'].value_counts()\n",
        "print(\"Populaarsemad perekonnanimed:\")\n",
        "print(pop_perekonnainimi)"
      ],
      "metadata": {
        "colab": {
          "base_uri": "https://localhost:8080/"
        },
        "id": "8xHtXsLE4T9m",
        "outputId": "37ec97e8-723f-4ee6-e55d-76618f7137dd"
      },
      "id": "8xHtXsLE4T9m",
      "execution_count": 28,
      "outputs": [
        {
          "output_type": "stream",
          "name": "stdout",
          "text": [
            "Populaarsemad perekonnanimed:\n",
            "last_name\n",
            "Durand       44\n",
            "Carrasco     43\n",
            "Lopez        23\n",
            "Takahashi    20\n",
            "Summers      12\n",
            "Steiner      12\n",
            "Kennedy      10\n",
            "McCarthy      9\n",
            "Gonzalez      6\n",
            "Bernard       3\n",
            "Novak         3\n",
            "Connolly      3\n",
            "Rodriguez     2\n",
            "Price         2\n",
            "Castro        2\n",
            "Hajek         2\n",
            "Morin         1\n",
            "Fiala         1\n",
            "Name: count, dtype: int64\n"
          ]
        }
      ]
    },
    {
      "cell_type": "code",
      "metadata": {
        "colab": {
          "base_uri": "https://localhost:8080/"
        },
        "id": "cf0ec36d",
        "outputId": "4499b803-faea-4011-e99b-da66308a3a81"
      },
      "source": [
        "df['age_group'] = pd.cut(df['age'], bins=[0, 18, 65, 100], labels=['noor', 'keskealine', 'vanur'], right=True)\n",
        "print(df[['age', 'age_group']].head())"
      ],
      "id": "cf0ec36d",
      "execution_count": 31,
      "outputs": [
        {
          "output_type": "stream",
          "name": "stdout",
          "text": [
            "   age   age_group\n",
            "0   25  keskealine\n",
            "1   52  keskealine\n",
            "2   29  keskealine\n",
            "3   50  keskealine\n",
            "4   52  keskealine\n"
          ]
        }
      ]
    },
    {
      "cell_type": "code",
      "source": [
        "vanuste_grupid = df.groupby('age_group').agg({'age': 'mean', 'Diff': 'mean'})\n",
        "print(vanuste_grupid)"
      ],
      "metadata": {
        "colab": {
          "base_uri": "https://localhost:8080/"
        },
        "id": "gedKDuyb5qZz",
        "outputId": "82013fdc-9904-46f1-a654-e1236a070acf"
      },
      "id": "gedKDuyb5qZz",
      "execution_count": 33,
      "outputs": [
        {
          "output_type": "stream",
          "name": "stdout",
          "text": [
            "                  age      Diff\n",
            "age_group                      \n",
            "noor              NaN       NaN\n",
            "keskealine  38.147368  2.996842\n",
            "vanur       72.375000  1.950000\n"
          ]
        },
        {
          "output_type": "stream",
          "name": "stderr",
          "text": [
            "/tmp/ipython-input-77301540.py:1: FutureWarning: The default of observed=False is deprecated and will be changed to True in a future version of pandas. Pass observed=False to retain current behavior or observed=True to adopt the future default and silence this warning.\n",
            "  vanuste_grupid = df.groupby('age_group').agg({'age': 'mean', 'Diff': 'mean'})\n"
          ]
        }
      ]
    },
    {
      "cell_type": "code",
      "metadata": {
        "colab": {
          "base_uri": "https://localhost:8080/"
        },
        "id": "ab6e201a",
        "outputId": "194b8a14-91dc-4028-e69c-31979788df2f"
      },
      "source": [
        "age_group_Drug = df.groupby(['age_group', 'Drug'], observed=True).agg({'Diff': 'mean'}).reset_index()\n",
        "print(\"Keskmine Diff skoor vanusegrupi ja ravimi järgi:\")\n",
        "print(age_group_Drug)"
      ],
      "id": "ab6e201a",
      "execution_count": 38,
      "outputs": [
        {
          "output_type": "stream",
          "name": "stdout",
          "text": [
            "Keskmine Diff skoor vanusegrupi ja ravimi järgi:\n",
            "    age_group Drug       Diff\n",
            "0  keskealine    A   9.281538\n",
            "1  keskealine    S  -0.107812\n",
            "2  keskealine    T  -0.442623\n",
            "3       vanur    A  15.600000\n",
            "4       vanur    S  -2.200000\n",
            "5       vanur    T  -2.800000\n"
          ]
        }
      ]
    },
    {
      "cell_type": "markdown",
      "source": [
        "Parima tulemuse saavutas vanurite grupp võttes ravimit A sooritades suurima erinuvuse skooriga 15,6."
      ],
      "metadata": {
        "id": "OsNrHfCr7OKv"
      },
      "id": "OsNrHfCr7OKv"
    },
    {
      "cell_type": "markdown",
      "id": "c836e927",
      "metadata": {
        "id": "c836e927"
      },
      "source": [
        "## Mis edasi?\n",
        "Kui oled Pandase põhitõed selgeks saanud, soovitan edasi uurida ametlikku dokumentatsiooni ja tutvuda Pandase õppetutorialidega:\n",
        "\n",
        "- [Pandas dokumentatsioon](https://pandas.pydata.org/docs/)\n",
        "- [Pandas intro-tutorialid](https://pandas.pydata.org/docs/getting_started/intro_tutorials/index.html)\n",
        "\n",
        "Sealt leiad põhjalikud näited, juhendid ja ülesanded, mis aitavad Pandase oskusi edasi arendada."
      ]
    }
  ],
  "metadata": {
    "colab": {
      "provenance": [],
      "include_colab_link": true
    },
    "kernelspec": {
      "display_name": "Python 3",
      "language": "python",
      "name": "python3"
    },
    "language_info": {
      "codemirror_mode": {
        "name": "ipython",
        "version": 3
      },
      "file_extension": ".py",
      "mimetype": "text/x-python",
      "name": "python",
      "nbconvert_exporter": "python",
      "pygments_lexer": "ipython3",
      "version": "3.12.1"
    }
  },
  "nbformat": 4,
  "nbformat_minor": 5
}