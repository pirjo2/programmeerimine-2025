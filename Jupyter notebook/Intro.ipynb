{
  "cells": [
    {
      "cell_type": "markdown",
      "metadata": {
        "id": "_K3jHW7zBiBM"
      },
      "source": [
        "# Tere tulemast meie Python programmeerimise kursusele!\n",
        "Meil on hea meel, et oled liitunud selle põneva teekonnaga programmeerimise maailma. Olgu su eesmärgiks saada professionaalseks arendajaks, täiendada analüüsioskusi või lihtsalt avastada programmeerimise võimalusi – see kursus annab sulle tugeva aluse Pythonis ja programmeeriva mõtlemise põhimõtetes.\n",
        "\n",
        "## Pythonist\n",
        "Python on kõrgetasemeline, tõlgendatav programmeerimiskeel, mis on tuntud oma lihtsuse, loetavuse ja mitmekülgsuse poolest. Guido van Rossum lõi selle 1991. aastal ning tänaseks on Python üks populaarsemaid programmeerimiskeeli maailmas. Miks just Python?\n",
        "\n",
        "### Lihtne õppida\n",
        "Pythoni süntaks sarnaneb inglise keelele, mistõttu sobib see hästi algajatele. Selge ja arusaadav struktuur võimaldab keskenduda programmeerimise põhimõistetele ilma keerulise süntaksi pärast muretsemata.\n",
        "\n",
        "### Laialdaselt kasutatav\n",
        "Pythoni mitmekülgsus teeb sellest eelistatud valiku paljudes valdkondades: veebiarendus, andmeteadus, masinõpe, automatiseerimine jne. Pythoni õppimine avab uksi tarkvaraarenduses, andmeanalüüsis, tehisintellektis ja paljudes muudes valdkondades.\n",
        "\n",
        "### Rikas ökosüsteem\n",
        "Pythonil on suur ja aktiivne kogukond, mis panustab raamatukogude, raamistikude ja tööriistade arendamisse. See võimaldab arendajatel luua võimsaid lahendusi vähese koodiga.\n",
        "\n",
        "### Platvormideülene\n",
        "Python töötab Windowsis, macOSis, Linuxis ja paljudes teistes operatsioonisüsteemides ilma koodi muutmata. See teeb Pythonist hea valiku rakendustele, mis peavad töötama erinevates keskkondades.\n",
        "\n",
        "### Loetavus ja efektiivsus\n",
        "Python soodustab puhta ja loetava koodi kirjutamist, järgides \"Pythoni zeni\" põhimõtteid (https://peps.python.org/pep-0020/). See muudab koodi hooldamise ja laiendamise lihtsamaks nii väikestes kui suurtes projektides.\n",
        "\n",
        "## Miks õppida Pythonit?\n",
        "Pythoni õppimine annab oskused lahendada erinevaid programmeerimisülesandeid ning loob tugeva aluse ka teiste keelte mõistmiseks. Pythoni lihtsus ja loetavus aitavad kujundada häid programmeerimisharjumusi.\n",
        "\n",
        "Kursuse käigus õpid mõtlema nagu programmeerija, lahendama probleeme programmiga ja kasutama Pythoni jõudu tõhusate lahenduste loomiseks. Oleme siin, et sind toetada ja juhendada!\n",
        "\n",
        "Hakkame pihta!\n",
        "\n",
        "## Õppimise protsessist\n",
        "Programmeeri õppimine on nagu uue keele õppimine: vaja on harjutada, olla kannatlik ja järjekindel.\n",
        "\n",
        "- **Harjuta regulaarselt**: Programmeerimine paraneb harjutades.\n",
        "- **Alusta väikestest asjadest**: Tee alguses lihtsaid projekte ja liigu järk-järgult keerulisemate juurde.\n",
        "- **Õpi vigadest**: Veast saab õppida – kasuta neid arusaamise süvendamiseks.\n",
        "- **Küsi abi**: Küsi vajadusel abi kogukonnalt või leia õppegrupp (nt https://docs.python.org/3/, ChatGPT, StackOverflow jne)."
      ]
    },
    {
      "cell_type": "markdown",
      "metadata": {
        "id": "sfd6Mk02V1rv"
      },
      "source": [
        "## Õppimise protsessi omaksvõtmine\n",
        "Programmeeri õppimine on nagu uue keele õppimine. See nõuab harjutamist, kannatlikkust ja järjekindlust. Siin on mõned soovitused, mis aitavad sul õppimisel:\n",
        "\n",
        "- **Harjuta regulaarselt**: Nagu iga oskus, paraneb programmeerimine harjutades.\n",
        "- **Alusta väikestest asjadest**: Alusta lihtsatest projektidest ja liigu järk-järgult keerulisemate ülesannete juurde.\n",
        "- **Õpi vigadest**: Vead on võimalus õppimiseks. Kasuta neid arusaamise süvendamiseks.\n",
        "- **Küsi abi**: Ära pelga abi küsida kogukonnalt või leia õppegrupp, nt https://docs.python.org/3/, ChatGPT, StackOverflow jne."
      ]
    },
    {
      "cell_type": "markdown",
      "metadata": {
        "id": "cFdmG9I996Px"
      },
      "source": [
        "# Programmeeriva mõtlemise olemus\n",
        "Programmeeriv mõtlemine ehk arvutuslik mõtlemine on põhi­oskus programmeerijatele ja arendajatele. See tähendab probleemide lahendamist viisil, mida arvuti suudab tõlgendada ja täita. See mõtlemisviis erineb oluliselt sellest, kuidas me igapäevaselt inimestega suhtleme, sest arvutid vajavad täpseid ja üheselt mõistetavaid juhiseid.\n",
        "\n",
        "## Juhiste erinevus: inimesed vs arvutid\n",
        "Kui ütled inimesele: 'Ava uks', siis ta kasutab oma teadmisi ja kogemusi, et mõista ja täita palvet. Inimene teab, mis on uks, leiab käepideme ja avab selle. Üksainus juhis põhineb jagatud arusaamal ja kontekstil.\n",
        "\n",
        "Arvutile 'ava uks' tähendab, et ülesanne tuleb jagada väga täpseteks ja detailseteks sammudeks, mida arvuti suudab täita. Arvutid ei tee oletusi ega kasuta varasemaid kogemusi – kõik tuleb selgelt ja loogiliselt ette anda.\n",
        "\n",
        "## Näide: ülesande tükeldamine arvutile\n",
        "Vaatame lihtsustatud näidet, kuidas arvuti juhiks robotkätt ukse avamisel:\n",
        "\n",
        "- **Ukse tuvastamine**: Arvuti vajab infot, mis on uks ja kuidas seda leida (andurid, andmed).\n",
        "- **Käepideme leidmine**: Arvuti peab teadma, mis on käepide ja kuidas see ukse suhtes paikneb.\n",
        "- **Liikumine käepideme juurde**: Arvuti arvutab tee käepidemeni.\n",
        "- **Käepideme haaramine**: Robotkäsi haarab käepidemest, piisava jõuga, kuid mitte liiga tugevalt.\n",
        "- **Käepideme keeramine või tõmbamine**: Arvuti otsustab, kas tuleb tõmmata, lükata või keerata, sõltuvalt ukse mehhanismist.\n",
        "- **Ukse avamine**: Arvuti rakendab jõudu õiges suunas, arvestades ukse raskust ja liikumissuunda.\n",
        "\n",
        "Iga samm sisaldab omakorda alamülesandeid ja detaile, mis näitavad, kui täpne peab programmeerija olema. Erinevalt inimestevahelisest suhtlusest tuleb arvutile kõik tegevused, otsused ja tulemused täpselt ette anda.\n",
        "\n",
        "## Programmeeriva mõtlemise tuum\n",
        "Programmeeriv mõtlemine pole ainult koodi kirjutamine, vaid oskus mõelda järjestuste, tingimuste ja toimingute kaupa, mida arvuti suudab täita. See tähendab ülesannete tükeldamist väikesteks sammudeks, võimalike probleemide ette nägemist ja juhiste loogilist ülesehitust.\n",
        "\n",
        "Selline metoodiline lähenemine aitab mitte ainult programmeerimises, vaid arendab ka kriitilist mõtlemist, mis on kasulik paljudes elu- ja töövaldkondades."
      ]
    },
    {
      "cell_type": "markdown",
      "metadata": {
        "id": "a7-k-ifs_Xzf"
      },
      "source": [
        "## Tingimusloogika mõistmine: (eba)reaalne päriseluline ülesanne\n",
        "\n",
        "Ema palub Jaanil poodi minna: 'Palun too üks leib, ja kui on piima, siis too kaks.'\n",
        "\n",
        "Jaan tuleb poest tagasi kahe leivaga. Miks nii juhtus?"
      ]
    },
    {
      "cell_type": "markdown",
      "metadata": {
        "id": "vkFFPV2m_1yC"
      },
      "source": [
        "\n",
        "### Selgitus\n",
        "Vajuta siia, et näha"
      ]
    },
    {
      "cell_type": "markdown",
      "metadata": {
        "id": "c4cuF7iu_xZ2"
      },
      "source": [
        "Põhjus, miks Jaan tõi poest kaks leiba, on klassikaline näide programmeeriva mõtlemise ja inimestevahelise suhtluse erinevusest. Ema juhist tõlgendas Jaan sõna-sõnalt, nagu arvuti järgiks tingimusloogikat. Kui ta nägi, et piima oli, rakendas ta 'too kaks' tingimust leiva kohta, mitte ei mõistnud, et see käis piima kohta. See näitab, kui oluline on anda selgeid ja täpseid juhiseid."
      ]
    },
    {
      "cell_type": "markdown",
      "metadata": {
        "id": "b3IYB5CkIqmB"
      },
      "source": [
        "## Sünopsis\n",
        "\n",
        "- **Muutujad**\n",
        "- **Andmetüübid**\n",
        "- **Tsüklid ja juhtimisloogika**\n",
        "- **Funktsioonide kirjutamine**\n",
        "- **Erindite käsitlemine**\n",
        "- **Debugimine**\n",
        "- **Klasside kirjutamine** (boonus)\n"
      ]
    },
    {
      "cell_type": "markdown",
      "metadata": {
        "id": "wTZ-7Dk7A-9s"
      },
      "source": [
        "# Muutujate sissejuhatus\n",
        "\n",
        "- **Definitsioon:** Muutujad on nimed, mis viitavad mälus salvestatud väärtustele. Need võimaldavad salvestada, kasutada ja muuta andmeid oma programmis.\n",
        "- **Deklaratsioon ja väärtuse omistamine:** Pythonis luuakse muutuja esmakordsel väärtuse omistamisel. Omistamiseks kasutatakse võrdusmärki (`=`).\n",
        "\n",
        "### Põhilised näited\n",
        "#### 1. Väärtuste omistamine muutujatele"
      ]
    },
    {
      "cell_type": "code",
      "execution_count": 2,
      "metadata": {
        "id": "DienxzVYBUne"
      },
      "outputs": [],
      "source": [
        "# Täisarvu väärtuse omistamine\n",
        "age = 30\n",
        "\n",
        "# Stringi väärtuse omistamine\n",
        "name = \"Alice\"\n",
        "\n",
        "# Ujukomaarvu väärtuse omistamine\n",
        "height = 5.9"
      ]
    },
    {
      "cell_type": "markdown",
      "metadata": {
        "id": "SCh6CFbLBXOR"
      },
      "source": [
        "#### 2. Muutujate kasutamine"
      ]
    },
    {
      "cell_type": "code",
      "execution_count": 3,
      "metadata": {
        "id": "QjtpNYi-BePD"
      },
      "outputs": [
        {
          "name": "stdout",
          "output_type": "stream",
          "text": [
            "30\n",
            "Alice\n",
            "5.9\n",
            "31\n"
          ]
        }
      ],
      "source": [
        "# Muutujate väljastamine\n",
        "print(age)  # Väljund: 30\n",
        "print(name)  # Väljund: Alice\n",
        "print(height)  # Väljund: 5.9\n",
        "\n",
        "# Muutujate kasutamine arvutustes\n",
        "next_year_age = age + 1\n",
        "print(next_year_age)  # Väljund: 31"
      ]
    },
    {
      "cell_type": "markdown",
      "metadata": {
        "id": "DizImypzBtSe"
      },
      "source": [
        "#### 3. Muutujate uuendamine"
      ]
    },
    {
      "cell_type": "code",
      "execution_count": 4,
      "metadata": {
        "id": "0hvGJVAWBywU"
      },
      "outputs": [
        {
          "name": "stdout",
          "output_type": "stream",
          "text": [
            "31\n",
            "32\n"
          ]
        }
      ],
      "source": [
        "# Muutuja uuendamine\n",
        "age = age + 1\n",
        "print(age)  # Väljund: 31\n",
        "\n",
        "# Muutuja suurendamine (lühem viis)\n",
        "age += 1\n",
        "print(age)  # Väljund: 32"
      ]
    },
    {
      "cell_type": "markdown",
      "metadata": {
        "id": "Kl9gHwZ0Evsy"
      },
      "source": [
        "# Sisseehitatud funktsioonide tutvustus\n",
        "\n",
        "- https://docs.python.org/3/library/functions.html\n",
        "\n",
        "- **Definitsioon:** Sisseehitatud funktsioonid on Pythonis eeldefineeritud funktsioonid, mida saab kasutada ilma mooduleid importimata. Need täidavad levinud ja olulisi ülesandeid, nagu sisendi/väljundi operatsioonid, tüübimuunded ja matemaatilised arvutused.\n",
        "\n",
        "- **Näited:** `print()`, `len()`, `type()`, `int()`, `str()` ja paljud teised.\n",
        "\n",
        "#### Sisseehitatud funktsioonide kasutamine\n",
        "\n",
        "1. `print()` - kasutatakse andmete väljastamiseks ekraanile. Näide: `print(\"Tere, maailm!\")`.\n",
        "2. `len()` - tagastab objekti pikkuse (elementide arvu). Näide: `len(\"Python\")` tagastab `6`.\n",
        "3. `type()` - tagastab objekti tüübi. Näide: `type(123)` tagastab `<class 'int'>`.\n",
        "4. `int()` ja `str()` - kasutatakse tüübimuundeks. `int()` teisendab täisarvuks, `str()` stringiks. Näide: `int(\"10\")` tagastab `10`; `str(10)` tagastab `\"10\"`.\n",
        "\n",
        "Ära pelga tutvuda dokumentatsiooniga: https://docs.python.org/3/."
      ]
    },
    {
      "cell_type": "markdown",
      "metadata": {
        "id": "6Wtu-uNyRI0Z"
      },
      "source": [
        "### Väljundi vormindamine f-stringidega\n",
        "\n",
        "Python 3.6 tõi sisse f-stringid (formaatitud stringiliteraalid) kui uue viisi stringide vormindamiseks. F-string on string, millele eelneb täht 'f' või 'F'. Need stringid võivad sisaldada asendusvälju, mis on väljendid lokkklambrites `{}`. Väljendid asendatakse nende väärtustega. Vaata lisaks: https://docs.python.org/3/tutorial/inputoutput.html#tut-f-strings\n",
        "\n",
        "### F-stringide eelised:\n",
        "- Need on loetavamad ja lühemad kui varasemad vormindusviisid.\n",
        "- Need on kiiremad, sest arvutatakse jooksvalt, mitte ei parsita pidevalt.\n",
        "\n",
        "### Kuidas kasutada f-stringe:\n",
        "F-stringi loomiseks lisa stringi ette täht `f` või `F`. Pane muutujad või väljendid lokkklambrite `{}` sisse stringi sees, need asendatakse otse nende väärtustega.\n"
      ]
    },
    {
      "cell_type": "code",
      "execution_count": 5,
      "metadata": {
        "id": "X1OUCRiARpH7"
      },
      "outputs": [
        {
          "name": "stdout",
          "output_type": "stream",
          "text": [
            "Tere, minu nimi on Alice ja elan linnas London.\n",
            "Kokku: €59.97\n"
          ]
        }
      ],
      "source": [
        "name = \"Alice\"\n",
        "city = \"London\"\n",
        "\n",
        "# F-stringi kasutamine nime ja linna lisamiseks väljundisse\n",
        "greeting = f\"Tere, minu nimi on {name} ja elan linnas {city}.\"\n",
        "\n",
        "print(greeting) # Väljund: Tere, minu nimi on Alice ja elan linnas London.\n",
        "\n",
        "price = 19.99\n",
        "quantity = 3\n",
        "\n",
        "# Väljendi kasutamine f-stringis\n",
        "total = f\"Kokku: €{price * quantity:.2f}\"\n",
        "\n",
        "print(total) # Väljund: Kokku: €59.97"
      ]
    },
    {
      "cell_type": "markdown",
      "metadata": {
        "id": "7lgdwSznUzzJ"
      },
      "source": [
        "# Muutujate mõistetest arusaamise test\n",
        "\n",
        "## Valikvastustega küsimused\n",
        "\n",
        "1. **Mis on muutuja Pythonis?**\n",
        "   - A) Muutumatu väärtus.\n",
        "   - B) Python funktsiooni tüüp.\n",
        "   - C) Nimi, mis viitab mälus salvestatud väärtusele.\n",
        "   - D) Spetsiifiline Python teek.\n",
        "\n",
        "2. **Milline järgmistest on korrektne muutuja väärtuse omistamine Pythonis?**\n",
        "   - A) `3x = \"hello\"`\n",
        "   - B) `my-variable = 123`\n",
        "   - C) `tervitus_sõnum = \"Tere hommikust\"`\n",
        "   - D) `\"vanus\" = 25`\n",
        "\n",
        "3. **Milline järgmistest võib olla muutuja väärtus Pythonis?**\n",
        "   - A) Täisarv\n",
        "   - B) String\n",
        "   - C) List\n",
        "   - D) Kõik eeltoodud\n",
        "\n",
        "## Tõene/Väär küsimused\n",
        "\n",
        "4. **Muutujate nimed Pythonis on tõstutundlikud.**\n",
        "   - Tõene / Väär\n",
        "\n",
        "5. **Pythonis saab ühel real omistada väärtusi mitmele muutujale.**\n",
        "   - Tõene / Väär\n",
        "\n",
        "6. **Muutuja tüüp võib Pythonis pärast esmast määramist muutuda.**\n",
        "   - Tõene / Väär\n",
        "\n",
        "## Lühike koodülesanne\n",
        "\n",
        "7. **Koosta Python skript, mis teeb järgmist:**\n",
        "   - Deklareeri muutuja `nimi` oma nimega.\n",
        "   - Deklareeri muutuja `vanus` oma vanusega.\n",
        "   - Suurenda muutuja `vanus` väärtust ühe võrra.\n",
        "   - Väljasta mõlemad muutujad f-stringi abil: \"Tere, minu nimi on [nimi] ja olen [vanus] aastat vana.\"\n"
      ]
    },
    {
      "cell_type": "markdown",
      "metadata": {},
      "source": [
        "Testi vastused:\n",
        "1. C\n",
        "2. C\n",
        "3. D\n",
        "4. TÕENE\n",
        "5. VÄÄR\n",
        "6. TÕENE"
      ]
    },
    {
      "cell_type": "code",
      "execution_count": 6,
      "metadata": {
        "id": "vxYDc_NqPSq6"
      },
      "outputs": [
        {
          "name": "stdout",
          "output_type": "stream",
          "text": [
            "Tere, minu nimi on Pirjo ja olen 24 aastat vana\n"
          ]
        }
      ],
      "source": [
        "# you can write your code here, or add additional cells as needed.\n",
        "nimi = \"Pirjo\"\n",
        "vanus = 23\n",
        "vanus = vanus +1\n",
        "print(f\"Tere, minu nimi on {nimi} ja olen {vanus} aastat vana\")\n"
      ]
    },
    {
      "cell_type": "markdown",
      "metadata": {
        "id": "TfDX1P0ZVprH"
      },
      "source": [
        "### Vastused\n",
        "\n",
        "Klõpsa siia, et näha"
      ]
    },
    {
      "cell_type": "markdown",
      "metadata": {
        "id": "nGJByRhTWwq9"
      },
      "source": [
        "#### Valikvastustega küsimused\n",
        "\n",
        "1. C) Nimi, mis viitab mälus salvestatud väärtusele\n",
        "2. C) `tervitus_sõnum = \"Tere hommikust\"`\n",
        "3. D) Kõik eeltoodud\n",
        "\n",
        "#### Tõene/Väär väited\n",
        "\n",
        "4. Tõene\n",
        "5. Tõene\n",
        "6. Tõene\n",
        "\n",
        "#### Lühikese koodiväljakutse näidislahendus"
      ]
    },
    {
      "cell_type": "code",
      "execution_count": 7,
      "metadata": {
        "id": "MsemosmV9257"
      },
      "outputs": [
        {
          "name": "stdout",
          "output_type": "stream",
          "text": [
            "Tere, minu nimi on Sinu Nimi, ja ma olen 21 aastat vana.\n"
          ]
        }
      ],
      "source": [
        "# Muutujate deklareerimine\n",
        "nimi = \"Sinu Nimi\"  # Asenda \"Sinu Nimi\" oma tegeliku nimega\n",
        "vanus = 20  # Asenda 20 oma tegeliku vanusega\n",
        "\n",
        "# Vanuse suurendamine\n",
        "vanus += 1\n",
        "\n",
        "# Sõnumi väljastamine\n",
        "print(f\"Tere, minu nimi on {nimi}, ja ma olen {vanus} aastat vana.\")"
      ]
    },
    {
      "cell_type": "markdown",
      "metadata": {
        "id": "GnXxpxsu78n5"
      },
      "source": [
        "# Andmetüübid Pythonis\n",
        "\n",
        "Andmetüüpide mõistmine Pythonis on oluline, et saaksid oma programmis andmeid tõhusalt töödelda. Pythonis on mitmeid sisseehitatud andmetüüpe, mida saab jagada järgmistesse kategooriatesse:\n",
        "\n",
        "## Põhilised andmetüübid\n",
        "\n",
        "- **Täisarvud (int)**: Täisarvud, positiivsed või negatiivsed, ilma komakohtadeta. Nt: `5`, `-3`.\n",
        "- **Ujukomaarvud (float)**: Arvud, millel on komakoht või eksponentsiaalne (E) vorm. Nt: `3.14`, `-0.001`, `2e2`.\n",
        "- **Tõeväärtused (bool)**: Esindavad väärtusi `True` või `False`.\n",
        "\n",
        "## Jada tüübid\n",
        "\n",
        "- **Stringid (str)**: Unicode'i märkide jada. Nt: `\"Tere, maailm!\"`.\n",
        "- **Listid (list)**: Järjestatud ja muudetavad elementide kogumid. Nt: `[1, 2.5, 'Python']`.\n",
        "- **Tuplid (tuple)**: Järjestatud ja muutmatud elementide kogumid. Nt: `(1, 2.5, 'Python')`.\n",
        "- **Vahemikud (range)**: Muutmatud arvujadad, mida kasutatakse tihti tsüklites.\n",
        "\n",
        "## Kaardistamise tüüp\n",
        "\n",
        "- **Sõnastikud (dict)**: Võtme-väärtuse paaride kogumid. Nt: `{'nimi': 'Alice', 'vanus': 30}`.\n",
        "\n",
        "## Hulgatüübid\n",
        "\n",
        "- **Hulgad (set)**: Järjestamata ja indekseerimata unikaalsete elementide kogumid. Nt: `{1, 2, 3, 'Python'}`.\n",
        "- **Külmutatud hulgad (frozenset)**: Muutmatud hulgad. Nt: `frozenset([1, 2, 3, 'Python'])`.\n",
        "\n",
        "On veel mõned keerukamad tüübid. Täpsemalt vaata: https://docs.python.org/3.12/library/stdtypes.html\n",
        "\n",
        "## Andmetüübi info saamine\n",
        "\n",
        "Andmetüübi määramiseks kasuta funktsiooni `type()`."
      ]
    },
    {
      "cell_type": "code",
      "execution_count": 8,
      "metadata": {
        "id": "uB4jn0G89257"
      },
      "outputs": [
        {
          "name": "stdout",
          "output_type": "stream",
          "text": [
            "<class 'int'>\n"
          ]
        }
      ],
      "source": [
        "x = 5\n",
        "print(type(x))  # Väljund: <class 'int'>"
      ]
    },
    {
      "cell_type": "markdown",
      "metadata": {
        "id": "qZZ3znAO9257"
      },
      "source": [
        "## Andmetüüpide teisendamine\n",
        "Python võimaldab teisendada andmetüüpe, kui see on loogiliselt võimalik."
      ]
    },
    {
      "cell_type": "code",
      "execution_count": 9,
      "metadata": {
        "id": "OB0BuL_w9257"
      },
      "outputs": [
        {
          "name": "stdout",
          "output_type": "stream",
          "text": [
            "10.0\n",
            "3\n",
            "20\n",
            "[1, 2, 3]\n",
            "{1, 2, 3, 4, 5}\n"
          ]
        }
      ],
      "source": [
        "# Täisarvu teisendamine ujukomaarvuks\n",
        "x = 10\n",
        "print(float(x))  # Väljund: 10.0\n",
        "\n",
        "# Ujukomaarvu teisendamine täisarvuks (komakohad eemaldatakse)\n",
        "y = 3.14\n",
        "print(int(y))  # Väljund: 3\n",
        "\n",
        "# Arvu teisendamine stringiks\n",
        "z = 20\n",
        "print(str(z))  # Väljund: '20'\n",
        "\n",
        "# Tupli teisendamine listiks\n",
        "t = (1,2,3)\n",
        "print(list(t)) # Väljund: [1, 2, 3]\n",
        "\n",
        "# Listi teisendamine hulgaks\n",
        "l = [1, 2, 3, 4, 2, 4, 3, 5, 5]\n",
        "print(set(l)) # Väljund: {1, 2, 3, 4, 5}"
      ]
    },
    {
      "cell_type": "markdown",
      "metadata": {
        "id": "9DRYWExm9257"
      },
      "source": [
        "Nende Andmetüüpide tundmine ja kasutamine on Pythonis põhiline, et saaksid andmeid tõhusalt töödelda.\n",
        "\n",
        "Viide: https://docs.python.org/3.12/library/stdtypes.html"
      ]
    },
    {
      "cell_type": "markdown",
      "metadata": {
        "id": "-62q8WJB9257"
      },
      "source": [
        "# Võrdlused Pythonis\n",
        "\n",
        "Võrdlused on Pythonis olulised, et kontrollida programmi käiku ja teha otsuseid. Python toetab mitmeid võrdlusoperaatoreid, mis tagastavad tõeväärtuse: `True` või `False`.\n",
        "\n",
        "## Võrdlusoperaatorid\n",
        "\n",
        "- **Võrdne (`==`)**: Kontrollib, kas kahe operandi väärtused on võrdsed.\n",
        "- **Mitte võrdne (`!=`)**: Kontrollib, kas kahe operandi väärtused ei ole võrdsed.\n",
        "- **Suurem kui (`>`)**: Kontrollib, kas vasakpoolne operand on suurem kui parempoolne.\n",
        "- **Väiksem kui (`<`)**: Kontrollib, kas vasakpoolne operand on väiksem kui parempoolne.\n",
        "- **Suurem või võrdne (`>=`)**: Kontrollib, kas vasakpoolne operand on suurem või võrdne parempoolsega.\n",
        "- **Väiksem või võrdne (`<=`)**: Kontrollib, kas vasakpoolne operand on väiksem või võrdne parempoolsega.\n",
        "\n",
        "## Võrdlusoperaatorite kasutamine"
      ]
    },
    {
      "cell_type": "code",
      "execution_count": 10,
      "metadata": {
        "id": "4GM1perb9257"
      },
      "outputs": [
        {
          "name": "stdout",
          "output_type": "stream",
          "text": [
            "False\n",
            "True\n",
            "False\n",
            "True\n",
            "True\n",
            "True\n"
          ]
        }
      ],
      "source": [
        "a = 10\n",
        "b = 20\n",
        "\n",
        "# Võrdne\n",
        "print(a == b)  # Väljund: False\n",
        "\n",
        "# Mitte võrdne\n",
        "print(a != b)  # Väljund: True\n",
        "\n",
        "# Suurem kui\n",
        "print(a > b)  # Väljund: False\n",
        "\n",
        "# Väiksem kui\n",
        "print(a < b)  # Väljund: True\n",
        "\n",
        "# Suurem või võrdne\n",
        "print(a >= 10)  # Väljund: True\n",
        "\n",
        "# Väiksem või võrdne\n",
        "print(b <= 20)  # Väljund: True"
      ]
    },
    {
      "cell_type": "markdown",
      "metadata": {
        "id": "ajMXIQax9258"
      },
      "source": [
        "## Loogikaoperaatoritega kombineerimine\n",
        "Python võimaldab kombineerida võrdlusoperaatoreid loogikaoperaatoritega (`and`, `or`, `not`), et luua keerukamaid tingimusi.\n"
      ]
    },
    {
      "cell_type": "code",
      "execution_count": 11,
      "metadata": {
        "id": "hwzxpaPX9258"
      },
      "outputs": [
        {
          "name": "stdout",
          "output_type": "stream",
          "text": [
            "True\n",
            "True\n",
            "False\n"
          ]
        }
      ],
      "source": [
        "x = 5\n",
        "y = 10\n",
        "\n",
        "# Kas x on suurem kui 3 ja väiksem kui 10\n",
        "print(x > 3 and x < 10)  # Väljund: True; sama mis print(3 < x < 10)\n",
        "\n",
        "# Kas x on väiksem kui 4 või y suurem kui 8\n",
        "print(x < 4 or y > 8)  # Väljund: True\n",
        "\n",
        "# 'not' pöörab tulemuse vastupidiseks\n",
        "print(not(x > 3 and x < 10))  # Väljund: False"
      ]
    },
    {
      "cell_type": "markdown",
      "metadata": {
        "id": "vYkbQX6W9258"
      },
      "source": [
        "Võrdlusoperaatorite kasutamine on oluline otsuste tegemisel Pythonis. Neid kasutatakse laialdaselt juhtimisloogikas nagu `if`-lause, tsüklid (`while`, `for`) ja listikomprehensioonid."
      ]
    },
    {
      "cell_type": "markdown",
      "metadata": {
        "id": "vSCmUweg9258"
      },
      "source": [
        "# Laiendatud võrdlused Pythonis\n",
        "\n",
        "Lisaks põhilistele võrdlusoperaatoritele pakub Python ka identiteedi ja kuuluvuse teste. Need operaatorid võimaldavad võimsalt võrrelda objekte ja kontrollida, kas elemendid kuuluvad kogusse.\n",
        "\n",
        "## Täiendavad võrdlusoperaatorid\n",
        "\n",
        "- **Identiteedi operaatorid**\n",
        "  - `is`: Tõene, kui operandid on identsed (viitavad samale objektile)\n",
        "  - `is not`: Tõene, kui operandid ei ole identsed (ei viita samale objektile)\n",
        "\n",
        "- **Kuuluvuse operaatorid**\n",
        "  - `in`: Tõene, kui väärtus leidub järjestuses\n",
        "  - `not in`: Tõene, kui väärtus ei leia järjestuses\n",
        "\n",
        "## Identiteedi operaatorite kasutamine\n",
        "\n",
        "Identiteedi operaatorid võrdlevad kahe objekti mälu asukohti. Need ei puuduta väärtuse võrdsust, vaid seda, kas nad on tegelikult sama objekt."
      ]
    },
    {
      "cell_type": "code",
      "execution_count": 12,
      "metadata": {
        "id": "mJzK0mgi9258"
      },
      "outputs": [
        {
          "name": "stdout",
          "output_type": "stream",
          "text": [
            "True\n",
            "True\n",
            "True\n"
          ]
        }
      ],
      "source": [
        "a = [1, 2, 3]\n",
        "b = a       # b viitab samale nimekirjale nagu a\n",
        "c = a[:]    # c on a koopia, kuid osutab teisele objektile\n",
        "# ülaltoodud rida on ekvivalentne `c = a.copy()`\n",
        "\n",
        "# Kasutades 'is'\n",
        "print(a is b)  # Väljund: True\n",
        "\n",
        "# Kasutades 'is not'\n",
        "print(a is not c)  # Väljund: True\n",
        "\n",
        "print(a is not None) # Väljund: True"
      ]
    },
    {
      "cell_type": "markdown",
      "metadata": {
        "id": "GxyTWs2S9258"
      },
      "source": [
        "## Kuuluvuse operaatorite kasutamine\n",
        "Kuuluvuse operaatorid testivad, kas järjestus sisaldab määratud väärtust."
      ]
    },
    {
      "cell_type": "code",
      "execution_count": 13,
      "metadata": {
        "id": "csE4_uB_9258"
      },
      "outputs": [
        {
          "name": "stdout",
          "output_type": "stream",
          "text": [
            "True\n",
            "True\n"
          ]
        }
      ],
      "source": [
        "my_list = [1, 2, 3, 4, 5]\n",
        "\n",
        "# Kasutades 'in'\n",
        "print(3 in my_list)  # Väljund: True\n",
        "\n",
        "# Kasutades 'not in'\n",
        "print(6 not in my_list)  # Väljund: True"
      ]
    },
    {
      "cell_type": "markdown",
      "metadata": {
        "id": "rRcQTQJu9258"
      },
      "source": [
        "Need operaatorid laiendavad võrdluste võimalusi Pythonis, võimaldades nüansirohkemaid kontrolle nagu objekti identiteet ja elemendi kuuluvus. Mõistes, kuidas neid operaatorite tõhusalt kasutada, saab oluliselt parandada oma Python koodi loogikat ja loetavust."
      ]
    },
    {
      "cell_type": "markdown",
      "metadata": {
        "id": "GxPbot2t9258"
      },
      "source": [
        "# Python Andmetüübid ja Võrdlused - Kontseptsiooni test\n",
        "\n",
        "## Valikvastustega küsimused\n",
        "\n",
        "1. **Millist andmetüüpi kasutaksite inimese vanuse salvestamiseks?**\n",
        "   - A) String\n",
        "   - B) List\n",
        "   - C) Täisarv\n",
        "   - D) Ujukomaarv\n",
        "\n",
        "2. **Mida teeb `in` operaator?**\n",
        "   - A) Kontrollib, kas väärtus on funktsiooni sees\n",
        "   - B) Kontrollib, kas väärtus eksisteerib iteratiivses kogumis\n",
        "   - C) Suurendab muutuja väärtust\n",
        "   - D) Kontrollib kahe muutuja identiteeti\n",
        "\n",
        "3. **Milline järgmistest on õige viis kontrollida, kas kaks muutujat `a` ja `b` viitavad mälus samale objektile?**\n",
        "   - A) `a == b`\n",
        "   - B) `a is b`\n",
        "   - C) `a in b`\n",
        "   - D) `a != b`\n",
        "\n",
        "4. **Mis on järgmise väljendi tulemus: `3 in [1, 2, 3]`?**\n",
        "   - A) `True`\n",
        "   - B) `False`\n",
        "   - C) Viga\n",
        "   - D) Ükski ülaltoodud\n",
        "\n",
        "## Tõene/Väär väited\n",
        "\n",
        "5. **Tupleid saab pärast nende loomist muuta.**\n",
        "   - Tõene / Väär\n",
        "\n",
        "6. **Väljend `5 is 5.0` tagastab True, kuna neil on sama väärtus.**\n",
        "   - Tõene / Väär\n",
        "\n",
        "7. **`'Hello' in 'Hello, World!'` hindamine annab True.**\n",
        "   - Tõene / Väär\n",
        "\n",
        "8. **`[1, 2, 3] == [1, 2, 3]` kontrollib, kas kaks nimekirja on täpselt sama objekt mälus.**\n",
        "   - Tõene / Väär\n",
        "\n",
        "## Lühike vastus\n",
        "\n",
        "9. **Mis on erinevus `=` ja `==` vahel Pythonis?**\n",
        "\n",
        "10. **Selgitage `is` operaatori ja `==` operaatori erinevust.**\n",
        "\n",
        "## Koodiväljakutse\n",
        "\n",
        "11. **Antud nimekiri `numbers = [1, 2, 3, 4, 5]`, kirjutage Python'i väljend, mis kontrollib, kas `4` on `numbers`-is.**\n",
        "\n",
        "12. **Looge kaks muutujat, `a = 10` ja `b = 20`. Kirjutage Python'i lause, mis vahetab nende väärtused ilma ajutise muutuja kasutamiseta.**"
      ]
    },
    {
      "cell_type": "markdown",
      "metadata": {},
      "source": [
        "Testi vastused:\n",
        "1. C\n",
        "2. B\n",
        "3. B\n",
        "4. A\n",
        "5. VÄÄR\n",
        "6. VÄÄR\n",
        "7. TÕENE\n",
        "8. TÕENE\n",
        "9. = OMISTAB, == VÕRDLEB VÄÄRTUSI\n",
        "10. IS VAATAB VIITE TULEMUST, == VAARAB VÄÄRTUST"
      ]
    },
    {
      "cell_type": "code",
      "execution_count": 19,
      "metadata": {
        "id": "hjV-hIaB9258"
      },
      "outputs": [
        {
          "data": {
            "text/plain": [
              "True"
            ]
          },
          "execution_count": 19,
          "metadata": {},
          "output_type": "execute_result"
        }
      ],
      "source": [
        "# you can write your code here, or add additional cells as needed.\n",
        "numbers = [1, 2, 3, 4, 5]\n",
        "4 in numbers"
      ]
    },
    {
      "cell_type": "code",
      "execution_count": 20,
      "metadata": {},
      "outputs": [
        {
          "name": "stdout",
          "output_type": "stream",
          "text": [
            "20\n",
            "10\n"
          ]
        }
      ],
      "source": [
        "a = 10\n",
        "b = 20\n",
        "a,b=b,a\n",
        "print(a)\n",
        "print(b)"
      ]
    },
    {
      "cell_type": "markdown",
      "metadata": {
        "id": "_gRLYmTV9258"
      },
      "source": [
        "### Vastused\n",
        "\n",
        "Klõpsa siia, et näha"
      ]
    },
    {
      "cell_type": "markdown",
      "metadata": {
        "id": "s5me5D4o926C"
      },
      "source": [
        "#### Valikvastustega küsimused\n",
        "\n",
        "1. C) Täisarv\n",
        "2. B) Kontrollib, kas väärtus eksisteerib iteratiivses kogumis\n",
        "3. B) `a is b`\n",
        "4. A) `True`\n",
        "\n",
        "#### Tõene/Väär väited\n",
        "\n",
        "5. Väär (tuple'id on muutmatud)\n",
        "6. Väär (`is` võrdleb identiteeti, mitte väärtust, ja täisarvud ja ujukomaarvud on erinevad tüübid)\n",
        "7. Tõene\n",
        "8. Väär (`==` kontrollib väärtuse võrdsust, mitte objekti identiteeti)\n",
        "\n",
        "#### Lühivastused\n",
        "\n",
        "9. **`=` on omistusoperaator, millega omistatakse väärtus muutujale, `==` on võrdlusoperaator, millega võrreldakse kahe väärtuse võrdsust.**\n",
        "10. **`is` operaator kontrollib, kas kaks operandit viitavad samale objektile mälus (identiteet), `==` kontrollib, kas kahe operandi väärtused on võrdsed (võrdsus).**"
      ]
    },
    {
      "cell_type": "code",
      "execution_count": 21,
      "metadata": {
        "id": "skg7HhCv926C"
      },
      "outputs": [],
      "source": [
        "numbers = [1, 2, 3, 4, 5]\n",
        "\n",
        "4 in numbers  # Väljund: True\n",
        "\n",
        "a, b = b, a  # Vahetab a ja b väärtused omavahel"
      ]
    },
    {
      "cell_type": "markdown",
      "metadata": {
        "id": "eFZEY7Ng926C"
      },
      "source": [
        "# Tsüklid ja voohaldus Pythonis\n",
        "\n",
        "Pythonis on mitmeid konstruktsioone, millega saab juhtida programmi täitmise voogu. Kõige levinumad on tsüklid ja tingimuslause, mis võimaldavad korduvate tegevuste tegemist ja otsuste langetamist.\n",
        "\n",
        "## Tingimuslause\n",
        "\n",
        "- **`if`-lause**: Käivitab koodiploki, kui tingimus on tõene.\n",
        "- **`elif`-lause**: Lühend sõnast 'else if'; võimaldab kontrollida mitut tingimust pärast `if`-lause täitmist.\n",
        "- **`else`-lause**: Käivitab koodiploki, kui kõik eelnevad tingimused on väärad.\n",
        "\n",
        "### Näide:"
      ]
    },
    {
      "cell_type": "code",
      "execution_count": 22,
      "metadata": {
        "id": "n9bsxbwV926C"
      },
      "outputs": [
        {
          "name": "stdout",
          "output_type": "stream",
          "text": [
            "Oled täiskasvanu.\n"
          ]
        }
      ],
      "source": [
        "age = 20\n",
        "if age < 18:\n",
        "    print(\"Oled alaealine.\")\n",
        "elif age >= 18 and age < 65:\n",
        "    print(\"Oled täiskasvanu.\")\n",
        "else:\n",
        "    print(\"Oled eakas.\")"
      ]
    },
    {
      "cell_type": "markdown",
      "metadata": {
        "id": "xUlTlYao926C"
      },
      "source": [
        "## Tsüklid\n",
        "Pythonis on kahte tüüpi tsükleid:\n",
        "\n",
        "- `for` **tsükkel**: Kasutatakse järjestuste (nimekiri, tupli, sõnastik, hulk, string) läbimiseks.\n",
        "- `while` **tsükkel**: Kordab tegevust seni, kuni tingimus on tõene.\n",
        "\n",
        "### `for` tsükli näide:"
      ]
    },
    {
      "cell_type": "code",
      "execution_count": 23,
      "metadata": {
        "id": "hsDolnFB926D"
      },
      "outputs": [
        {
          "name": "stdout",
          "output_type": "stream",
          "text": [
            "õun\n",
            "banaan\n",
            "kirss\n"
          ]
        }
      ],
      "source": [
        "fruits = [\"õun\", \"banaan\", \"kirss\"]\n",
        "for fruit in fruits:\n",
        "    print(fruit)"
      ]
    },
    {
      "cell_type": "markdown",
      "metadata": {
        "id": "ArKg4dnR926D"
      },
      "source": [
        "### `while` tsükli näide:"
      ]
    },
    {
      "cell_type": "code",
      "execution_count": 24,
      "metadata": {
        "id": "UGLuwSh_926D"
      },
      "outputs": [
        {
          "name": "stdout",
          "output_type": "stream",
          "text": [
            "5\n",
            "4\n",
            "3\n",
            "2\n",
            "1\n"
          ]
        }
      ],
      "source": [
        "count = 5\n",
        "while count > 0:\n",
        "    print(count)\n",
        "    count -= 1"
      ]
    },
    {
      "cell_type": "markdown",
      "metadata": {
        "id": "bc7jDTeH926D"
      },
      "source": [
        "Ole ettevaatlik `while`-tsüklitega; ilma lõpetava tingimuseta võib tekkida lõputu tsükkel, mis jääb igavesti käima ja võib programmi hanguma panna."
      ]
    },
    {
      "cell_type": "markdown",
      "metadata": {
        "id": "O0jO74e3926D"
      },
      "source": [
        "## Tsükli juhtkäsud\n",
        "- **break**: Väljub tsüklist.\n",
        "- **continue**: Jätab ülejäänud koodi vahele ja liigub järgmise iteratsiooni juurde.\n",
        "- **pass**: Ei tee midagi; kasutatakse kohatäitena.\n",
        "\n",
        "### Näide:"
      ]
    },
    {
      "cell_type": "code",
      "execution_count": 25,
      "metadata": {
        "id": "0dxdTQA2926D"
      },
      "outputs": [
        {
          "name": "stdout",
          "output_type": "stream",
          "text": [
            "1\n",
            "3\n"
          ]
        }
      ],
      "source": [
        "for num in range(1, 10):\n",
        "    if num == 5:\n",
        "        break  # Välju tsüklist, kui num on 5\n",
        "    if num % 2 == 0:\n",
        "        continue  # Jäta paarisarvud vahele\n",
        "    print(num)"
      ]
    },
    {
      "cell_type": "markdown",
      "metadata": {
        "id": "bmJe0Zz5926D"
      },
      "source": [
        "## Pesastatud tsüklid\n",
        "Tsükleid saab üksteise sisse pesastada."
      ]
    },
    {
      "cell_type": "code",
      "execution_count": 26,
      "metadata": {
        "id": "OFoW4RaT926D"
      },
      "outputs": [
        {
          "name": "stdout",
          "output_type": "stream",
          "text": [
            "i = 1, j = 1\n",
            "i = 1, j = 2\n",
            "i = 2, j = 1\n",
            "i = 2, j = 2\n",
            "i = 3, j = 1\n",
            "i = 3, j = 2\n"
          ]
        }
      ],
      "source": [
        "for i in range(1, 4):  # Välimine tsükkel\n",
        "    for j in range(1, 3):  # Sisemine tsükkel\n",
        "        print(f\"i = {i}, j = {j}\")"
      ]
    },
    {
      "cell_type": "markdown",
      "metadata": {
        "id": "U4j95e3Z926D"
      },
      "source": [
        "Tsüklite ja voohalduse mõistmine on oluline, et kirjutada tõhusaid ja häid Python programme. Need konstruktsioonid võimaldavad teha korduvaid tegevusi, langetada otsuseid ja juhtida programmi täitmist."
      ]
    },
    {
      "cell_type": "markdown",
      "metadata": {
        "id": "e1OhWoJf926D"
      },
      "source": [
        "# Pythonis taande olulisus\n",
        "\n",
        "Pythonis pole taane ainult stiili küsimus, vaid keele süntaksi lahutamatu osa, mis määrab koodi struktuuri ja voohalduse. Õige taane on oluline, et määrata, millised koodiplokid kuuluvad tingimuslausete, tsüklite ja funktsioonide/klasside definitsioonide alla.\n",
        "\n",
        "## Kus ja miks taanet kasutatakse\n",
        "\n",
        "### Kus\n",
        "Taane on vajalik:\n",
        "- Tingimuslaused (`if`, `elif`, `else`)\n",
        "- Tsüklid (`for`, `while`)\n",
        "- Funktsioonide ja klasside definitsioonid\n",
        "- Kontekstihalduriga (`with`-lause)\n",
        "- `try`-`except` plokkides\n",
        "\n",
        "### Miks\n",
        "Python kasutab taanet, et:\n",
        "- Parandada koodi loetavust ja hooldatavust, muutes selle selgeks ja visuaalselt struktureerituks\n",
        "- Määrata kontrollstruktuuride ja koodiplokkide algus/lõpp ilma sulgudeta (`{}`), nagu teistes keeltes\n",
        "- Sundida ühtset stiili, mis aitab koodi loetavust hoida ka suurtes projektides\n",
        "\n",
        "## Kuidas taane töötab\n",
        "\n",
        "Python loeb järjestikku samal taandetasemel olevaid lauseid üheks koodiplokiks. Soovitatav on kasutada neli tühikut iga taandetaseme kohta. Tabide ja tühikute segamine tuleks vältida, sest see võib põhjustada `IndentationError` või ootamatuid käitumisi."
      ]
    },
    {
      "cell_type": "markdown",
      "metadata": {
        "id": "9wjm3VRA926D"
      },
      "source": [
        "# Funktsioonide kirjutamine Pythonis\n",
        "\n",
        "Funktsioonid Pythonis on koodiplokid, mis on loodud täitma ühte kindlat ülesannet. Kui soovid täita mingit kindlat tegevust, mille oled funktsioonis defineerinud, kutsud vastava funktsiooni välja. See lähenemine on protseduurilise ehk protsessipõhise programmeerimise nurgakivi.\n",
        "\n",
        "## Kuidas kirjutada funktsioone Pythonis\n",
        "\n",
        "Funktsiooni defineerimiseks kasuta märksõna `def`, sellele järgneb funktsiooni nimi, sulud `()`, ja koolon `:`. Kooloni järel olev taandega koodiplokk käivitatakse, kui funktsioon välja kutsutakse.\n",
        "\n",
        "### Näide:"
      ]
    },
    {
      "cell_type": "code",
      "execution_count": 27,
      "metadata": {
        "id": "6tZeef8c926D"
      },
      "outputs": [],
      "source": [
        "def tervita_kasutajat(kasutajanimi):  # 'kasutajanimi' on parameeter\n",
        "    \"\"\"Kuvab lihtsa tervituse.\"\"\"\n",
        "    print(f\"Tere, {kasutajanimi}!\")"
      ]
    },
    {
      "cell_type": "markdown",
      "metadata": {
        "id": "U664_Wlp926E"
      },
      "source": [
        "Funktsiooni väljakutsumiseks kasuta:"
      ]
    },
    {
      "cell_type": "code",
      "execution_count": 28,
      "metadata": {
        "id": "3LlxfMRH926E"
      },
      "outputs": [
        {
          "name": "stdout",
          "output_type": "stream",
          "text": [
            "Tere, Alice!\n"
          ]
        }
      ],
      "source": [
        "tervita_kasutajat('Alice')  # 'Alice' on argument"
      ]
    },
    {
      "cell_type": "markdown",
      "metadata": {
        "id": "uXg4yu6s926E"
      },
      "source": [
        "### Parameetrid ja argumendid\n",
        "- **Parameetrid** on muutujad, kuhu argument salvestatakse, kui funktsioon välja kutsutakse.\n",
        "- **Argumendid** on väärtused, mis antakse funktsiooni parameetritele.\n",
        "\n",
        "### Tagastusväärtused\n",
        "Funktsioonist väärtuse tagastamiseks kasuta `return`-lausest:"
      ]
    },
    {
      "cell_type": "code",
      "execution_count": 29,
      "metadata": {
        "id": "y6SZEPnv926E"
      },
      "outputs": [
        {
          "name": "stdout",
          "output_type": "stream",
          "text": [
            "8\n"
          ]
        }
      ],
      "source": [
        "def liida_arvud(x, y): # siin x ja y on parameetrid\n",
        "    return x + y\n",
        "\n",
        "# Tulemus salvestatakse muutujasse:\n",
        "tulemus = liida_arvud(3, 5) # siin 3 ja 5 on argumendid\n",
        "print(tulemus)  # Väljund: 8"
      ]
    },
    {
      "cell_type": "markdown",
      "metadata": {
        "id": "mqMsHDd5926E"
      },
      "source": [
        "## Skoop ja taane\n",
        "Kuigi taane Pythonis määrab peamiselt lausete rühmitamise ja voohalduse, mõjutab see ka muutujate skoopi funktsioonide ja klasside kontekstis.\n",
        "\n",
        "- **Globaalne skoop**: Muutujad, mis on defineeritud mooduli ülemisel tasemel või väljaspool funktsioone, on globaalses skoopis.\n",
        "- **Kohalik skoop**: Muutujad, mis on defineeritud funktsiooni sees, on selle funktsiooni kohalikus skoopis ja pole väljastpoolt kättesaadavad."
      ]
    },
    {
      "cell_type": "code",
      "execution_count": 30,
      "metadata": {
        "id": "YmKjy6ZO926E"
      },
      "outputs": [
        {
          "name": "stdout",
          "output_type": "stream",
          "text": [
            "globaalne\n",
            "kohalik\n",
            "globaalne\n"
          ]
        }
      ],
      "source": [
        "x = \"globaalne\"  # Globaalne skoop\n",
        "\n",
        "def funktsiooni_skoop():\n",
        "    y = \"kohalik\"  # Kohalik skoop\n",
        "    print(x)  # Kättesaadav: väljastab 'globaalne'\n",
        "    print(y)  # Kättesaadav: väljastab 'kohalik'\n",
        "\n",
        "funktsiooni_skoop()\n",
        "print(x)  # Kättesaadav: väljastab 'globaalne'\n",
        "#print(y)  # Viga: 'y' pole siin kättesaadav; see defineeriti funktsiooni_skoop sees"
      ]
    },
    {
      "cell_type": "markdown",
      "metadata": {
        "id": "xQbxNBa7926E"
      },
      "source": [
        "Selles näites on `x` globaalses skoopis ja kättesaadav kõikjal moodulis, samas kui `y` on defineeritud `funktsiooni_skoop` kohalikus skoopis ja pole väljastpoolt kättesaadav.\n",
        "\n",
        "## Kokkuvõte\n",
        "Taane Pythonis on süntaktiline nõue, mis mõjutab otseselt koodi loetavust ja struktuuri. See mängib olulist rolli koodiplokkide määratlemisel ja mõjutab kaudselt muutujate skoopi, rõhutades korrektse taande olulisust Pythonis programmeerimisel."
      ]
    },
    {
      "cell_type": "markdown",
      "metadata": {
        "id": "WZhp6yTV926E"
      },
      "source": [
        "## Protseduuriline (protsessipõhine) programmeerimine\n",
        "Protseduuriline programmeerimine on programmeerimisparadigma, mis põhineb protseduuride ehk funktsioonide väljakutsel. Protseduurid (funktsioonid või alamprogrammid Pythonis) on lausete kogum, mis täidab kindlat ülesannet.\n",
        "\n",
        "- **Fookus**: Keskendub programmeerimisülesande jagamisele muutujateks, andmestruktuurideks ja alamprotseduurideks.\n",
        "- **Täitmine**: Programm käivitatakse tavaliselt ülalt alla, alustades peafunktsioonist (kui see on defineeritud), ja protseduure kutsutakse vastavalt vajadusele.\n",
        "- **Eelised**: Sobib hästi lineaarsete ja lihtsate protsesside jaoks, võimaldab lihtsat silumist ja testimist, kuna programmi voog on selge ja järjestikune.\n",
        "- **Kasutusvaldkonnad**: Sobib ülesannetele, mida saab lahendada lihtsa sammude jadaga, nt andmetöötlus, arvutused ja lihtsamad algoritmid.\n",
        "\n",
        "Protseduuriline programmeerimine Pythonis soodustab **taaskasutatavate** koodiplokkide (funktsioonide) kasutamist ja aitab koodi paremini organiseerida ja hallata, eriti algajatele või olukordades, kus *objektorienteeritud* programmeerimine oleks liigne."
      ]
    },
    {
      "cell_type": "code",
      "execution_count": 31,
      "metadata": {
        "id": "x7_IdoHv926F"
      },
      "outputs": [
        {
          "name": "stdout",
          "output_type": "stream",
          "text": [
            "Tere tulemast, Alice! Oled täisealine. Sinu vanus on 18 aastat.\n"
          ]
        }
      ],
      "source": [
        "# Funktsioon, mis arvutab vanuse sünniaasta põhjal\n",
        "def arvuta_vanus(sunniaasta):\n",
        "    praegune_aasta = 2023  # Eeldame, et praegune aasta on 2023\n",
        "    vanus = praegune_aasta - sunniaasta\n",
        "    return vanus\n",
        "\n",
        "# Funktsioon, mis kontrollib, kas kasutaja on täisealine (18+)\n",
        "def on_taisealine(vanus):\n",
        "    return vanus >= 18\n",
        "\n",
        "# Funktsioon, mis tervitab kasutajat vastavalt täisealisusele\n",
        "def tervita_kasutajat(nimi, taisealine):\n",
        "    if taisealine:\n",
        "        return f\"Tere tulemast, {nimi}! Oled täisealine.\"\n",
        "    else:\n",
        "        return f\"Tere, {nimi}! Sa ei ole veel täisealine.\"\n",
        "\n",
        "# Funktsioon, mis võtab kasutaja info kokku\n",
        "def kokkuvote_kasutajast(nimi, sunniaasta):\n",
        "    vanus = arvuta_vanus(sunniaasta)\n",
        "    taisealine = on_taisealine(vanus)\n",
        "    tervitus = tervita_kasutajat(nimi, taisealine)\n",
        "    print(f\"{tervitus} Sinu vanus on {vanus} aastat.\")\n",
        "\n",
        "# Peamine töövoog\n",
        "def main():\n",
        "    kasutaja_nimi = \"Alice\"\n",
        "    sunniaasta = 2005\n",
        "    kokkuvote_kasutajast(kasutaja_nimi, sunniaasta)\n",
        "\n",
        "# Käivita peafunktsioon\n",
        "main()"
      ]
    },
    {
      "cell_type": "markdown",
      "metadata": {
        "id": "UqByoe8u926F"
      },
      "source": [
        "# Python tsüklid, voohaldus ja funktsioonid - mõistetest arusaamise test\n",
        "\n",
        "## Valikvastustega küsimused\n",
        "\n",
        "1. **Mida teeb `break`-lause tsüklis?**\n",
        "   - A) Peatab tsükli täitmise ajutiselt\n",
        "   - B) Lõpetab tsükli ja väljub sellest kohe\n",
        "   - C) Jätab praeguse iteratsiooni vahele ja jätkab järgmisega\n",
        "   - D) Mitte ükski eeltoodud\n",
        "\n",
        "2. **Millist tsüklit kasutatakse tavaliselt siis, kui iteratsioonide arv on teada?**\n",
        "   - A) `while`-tsükkel\n",
        "   - B) `for`-tsükkel\n",
        "   - C) Mõlemad A ja B\n",
        "   - D) Ei kumbki\n",
        "\n",
        "3. **Kuidas defineerida funktsioon Pythonis?**\n",
        "   - A) `function minuFunktsioon():`\n",
        "   - B) `def minuFunktsioon():`\n",
        "   - C) `create minuFunktsioon():`\n",
        "   - D) `function: minuFunktsioon()`\n",
        "\n",
        "4. **Mida tagastab `range(1, 5)`?**\n",
        "   - A) Nimekiri arvudest 1 kuni 5\n",
        "   - B) Nimekiri arvudest 1 kuni 4\n",
        "   - C) Jada arvudest 1 kuni 5, välja arvatud 5\n",
        "   - D) Jada arvudest 1 kuni 4, kaasa arvatud 4\n",
        "\n",
        "## Tõene/Väär väited\n",
        "\n",
        "5. **`for`-tsükkel saab iteratsiooniks kasutada mistahes iteratiivset objekti Pythonis.**\n",
        "   - Tõene / Väär\n",
        "\n",
        "6. **`else`-lause saab kasutada tsüklitega Pythonis.**\n",
        "   - Tõene / Väär\n",
        "\n",
        "7. **Funktsioonid Pythonis saavad tagastada ainult ühe väärtuse.**\n",
        "   - Tõene / Väär\n",
        "\n",
        "8. **`continue`-lause tsüklis peatab tsükli täitmise ja väljub sellest.**\n",
        "   - Tõene / Väär\n",
        "\n",
        "## Lühike koodülesanne\n",
        "\n",
        "9. **Kirjuta Python funktsioon nimega `summeeri_paarisarvud`, mis võtab sisendiks täisarvude nimekirja ja tagastab ainult paarisarvude summa.**"
      ]
    },
    {
      "cell_type": "markdown",
      "metadata": {},
      "source": [
        "Testi vastused:\n",
        "1. B\n",
        "2. B\n",
        "3. B\n",
        "4. C\n",
        "5. VÄÄR\n",
        "6. TÕENE\n",
        "7. VÄÄR\n",
        "8. VÄÄR"
      ]
    },
    {
      "cell_type": "code",
      "execution_count": 35,
      "metadata": {
        "id": "xf3FgCLW926F"
      },
      "outputs": [
        {
          "name": "stdout",
          "output_type": "stream",
          "text": [
            "12\n"
          ]
        }
      ],
      "source": [
        "# Kirjuta siia oma kood või lisa uusi lahtrid vajadusel.\n",
        "def summeeri_paarisarvud (nimekiri):\n",
        "    vastus = 0\n",
        "    for el in nimekiri:\n",
        "        if el % 2 == 0:\n",
        "            vastus += el\n",
        "    return vastus\n",
        "print(summeeri_paarisarvud([1,2,3,4,5,6]))"
      ]
    },
    {
      "cell_type": "markdown",
      "metadata": {
        "id": "lmAZUx4Y926F"
      },
      "source": [
        "### Vastused\n",
        "\n",
        "Klõpsa siia, et näha"
      ]
    },
    {
      "cell_type": "markdown",
      "metadata": {
        "id": "d8OOrnUe926F"
      },
      "source": [
        "#### Valikvastustega küsimused\n",
        "\n",
        "1. B) Lõpetab tsükli ja väljub sellest kohe\n",
        "2. B) `for`-tsükkel\n",
        "3. B) `def minuFunktsioon():`\n",
        "4. C) Jada arvudest 1 kuni 5, välja arvatud 5 (vaata miks: https://docs.python.org/3/library/stdtypes.html#range)\n",
        "\n",
        "#### Tõene/Väär väited\n",
        "\n",
        "5. Tõene\n",
        "6. Tõene\n",
        "7. Väär (funktsioonid võivad tagastada mitu väärtust tuple'ina)\n",
        "8. Väär (`continue` jätab ülejäänud iteratsiooni vahele ja liigub järgmise juurde)\n",
        "\n",
        "#### Lühikese koodülesande näidislahendus"
      ]
    },
    {
      "cell_type": "code",
      "execution_count": 34,
      "metadata": {
        "id": "5WxteQ_2926F"
      },
      "outputs": [
        {
          "name": "stdout",
          "output_type": "stream",
          "text": [
            "12\n"
          ]
        }
      ],
      "source": [
        "def summeeri_paarisarvud(arvud):\n",
        "    summa = 0\n",
        "    for arv in arvud:\n",
        "        if arv % 2 == 0:\n",
        "            summa += arv\n",
        "    return summa\n",
        "\n",
        "# Näide kasutusest\n",
        "arvude_nimekiri = [1, 2, 3, 4, 5, 6]\n",
        "print(summeeri_paarisarvud(arvude_nimekiri))"
      ]
    },
    {
      "cell_type": "markdown",
      "metadata": {
        "id": "LLLObToE926F"
      },
      "source": [
        "# Failidega töötamine ja ridade lugemine failist Pythonis\n",
        "\n",
        "Failidega töötamine on programmeerimises tavaline ülesanne ning Python pakub lihtsat ja võimsat viisi failide tõhusaks ja turvaliseks käsitlemiseks. `with`-lause tagab, et fail suletakse korrektselt pärast ploki lõppu, isegi kui tekib erind. See meetod on eelistatud otse failobjektide kasutamisele, kuna see on selge ja väldib levinud vigu, näiteks faili unustamist sulgeda.\n",
        "\n",
        "## Faili avamine `with`-lausega\n",
        "\n",
        "`with`-lause lihtsustab erindite käsitlemist, kapseldades ettevalmistus- ja puhastustoimingud kontekstihaldurisse. Failioperatsioonide puhul tähendab see faili avamist ja kindlust, et see suletakse.\n",
        "\n",
        "### Näide:\n"
      ]
    },
    {
      "cell_type": "code",
      "execution_count": null,
      "metadata": {
        "id": "oodIt2gQ926F"
      },
      "outputs": [],
      "source": [
        "with open('drive/MyDrive/example.txt', 'r') as file:\n",
        "    content = file.read()\n",
        "    print(content)\n",
        "\n",
        "print('\\n  -----------------------------------')\n",
        "print(' | Nüüd uuesti, aga `readlines` abil |')\n",
        "print('  -----------------------------------\\n')\n",
        "\n",
        "with open('drive/MyDrive/example.txt', 'r') as file:\n",
        "    lines = file.readlines()\n",
        "    for line in lines:\n",
        "        print(line.strip())  # Kasutame strip(), et eemaldada reavahetus\n"
      ]
    },
    {
      "cell_type": "markdown",
      "metadata": {
        "id": "4bU6vFKe926F"
      },
      "source": [
        "Funktsioon `readlines()` loeb kõik faili read nimekirja. Iga nimekirja element esindab ühte faili rida, sisaldades ka reavahetuse märki (`\\n`) iga rea lõpus.\n",
        "See meetod on eriti kasulik, kui on vaja töödelda faili ridu ükshaaval, näiteks andmete parsimiseks või iga rea kohta toimingu tegemiseks.\n",
        "\n",
        "## Kokkuvõte\n",
        "- `with`-lause pakub töökindlat ja puhast viisi failide avamiseks ja sulgemiseks, hallates automaatselt failiresursse.\n",
        "- Funktsioon `readlines()` loeb faili sisu ridade kaupa nimekirja, võimaldades iga reaga eraldi töötada."
      ]
    },
    {
      "cell_type": "markdown",
      "metadata": {
        "id": "TKmBMW55926F"
      },
      "source": [
        "# Faili kirjutamine Pythonis\n",
        "\n",
        "Faili kirjutamine on paljudes programmeerimisprojektides tavaline ülesanne, alates logimisest kuni väljundi salvestamiseni hilisemaks kasutamiseks. Python muudab failikirjutamise lihtsaks ja võimsaks, pakkudes sisseehitatud funktsioone.\n",
        "\n",
        "## Faili kirjutamine `with`-lause abil\n",
        "\n",
        "`with`-lause tagab, et fail suletakse korrektselt pärast ploki lõppu, isegi kui tekib erind. Seda lähenemist soovitatakse nii failide lugemiseks kui kirjutamiseks, kuna see on tõhus ja lihtne.\n",
        "\n",
        "### Teksti kirjutamine faili\n",
        "\n",
        "Teksti kirjutimiseks faili kasuta funktsiooni `open()` režiimiga `'w'` (write). Kui faili pole olemas, luuakse see. Kui fail on olemas, kirjutatakse see üle. Vaata ka [`print()`](https://docs.python.org/3/library/functions.html#print) dokumentatsiooni\n"
      ]
    },
    {
      "cell_type": "code",
      "execution_count": 36,
      "metadata": {
        "id": "7WOd3W6X926F"
      },
      "outputs": [],
      "source": [
        "with open('output.txt', 'w') as fh: #fh tähendab 'file handle'\n",
        "    print('Tere, Python!', file=fh)"
      ]
    },
    {
      "cell_type": "markdown",
      "metadata": {
        "id": "1c-dnrH3926F"
      },
      "source": [
        "See koodilõik avab (ja vajadusel loob) faili output.txt, kirjutab sinna stringi `'Tere, Python!'` ja sulgeb faili automaatselt.\n",
        "\n",
        "### Teksti lisamine olemasolevasse faili\n",
        "Kui soovid lisada teksti olemasolevasse faili ilma selle sisu üle kirjutamata, kasuta režiimi `'a'` (append) režiimi `'w'` asemel."
      ]
    },
    {
      "cell_type": "code",
      "execution_count": 37,
      "metadata": {
        "id": "ReoOQodR926G"
      },
      "outputs": [],
      "source": [
        "my_new_lines = ['Mõned', 'uued', 'read']\n",
        "\n",
        "with open('output.txt', 'a') as fh:\n",
        "    for line in my_new_lines:\n",
        "      print(line, file=fh)"
      ]
    },
    {
      "cell_type": "markdown",
      "metadata": {
        "id": "KfX-t6Xk926G"
      },
      "source": [
        "See lisab faili lõppu '`\\nMõned\\nuued\\nread\\n`', ilma olemasolevat sisu kustutamata.\n",
        "## Kokkuvõte\n",
        "Faili kirjutamine Pythonis on oluline oskus, mis võimaldab salvestada väljundandmeid, logida ja vahetada andmeid. Kasutades `with`-lauset, muudab Python failikirjutamise turvaliseks ja lihtsaks, tagades, et ressursid hallatakse tõhusalt ja failid suletakse korrektselt ka vigade korral. Selline failihaldus parandab koodi loetavust ja ressursihaldust ning on parim praktika Pythonis failidega töötamisel."
      ]
    },
    {
      "cell_type": "markdown",
      "metadata": {
        "id": "HDbM4owq926G"
      },
      "source": [
        "# Vigade käsitlemine ja silumine\n",
        "Vigade käsitlemine ja silumine on tarkvaraarenduses kriitilised oskused, mis võimaldavad luua töökindlaid programme ja tõhusalt leida ning lahendada vigu. Selles peatükis on toodud parimad praktikad vigade käsitlemiseks ja koodi silumiseks Pythonis.\n",
        "\n",
        "### Vigade käsitlemine\n",
        "Python kasutab erindeid ([exceptions](https://docs.python.org/3/library/exceptions.html)), et hallata vigu, mis tekivad programmi täitmise ajal. Õige erindite käsitlemine aitab vältida programmi kokkujooksmist ja anda kasutajale või arendajale arusaadavaid veateateid.\n",
        "\n",
        "#### Kasuta `try`-`except` plokke\n",
        "Pane kood, mis võib erindi tekitada, `try`-plokki ja püüa erindid `except`-plokiga.\n",
        "\n",
        "```python\n",
        "try:\n",
        "    # Kood, mis võib erindi tekitada\n",
        "except MõniErind:\n",
        "    # Erindi käsitlemine\n",
        "```\n",
        "\n",
        "#### Püüa konkreetseid erindeid\n",
        "Alati püüa konkreetseid erindeid, mitte ära kasuta paljast except: lauset. Kõigi erindite püüdmine võib varjata tegelikke vigu ja raskendada silumist.\n",
        "\n",
        "```python\n",
        "try:\n",
        "    # Riskantne operatsioon\n",
        "except ValueError:\n",
        "    # Käsitle konkreetset erindit\n",
        "except TypeError:\n",
        "    # Käsitle teist konkreetset erindit\n",
        "```\n",
        "\n",
        "#### Resursside puhastamine `finally`-plokiga\n",
        "Kasuta `finally`-plokki, et vabastada ressursid või teha puhastustoimingud, sõltumata sellest, kas erind tekkis või mitte.\n",
        "\n",
        "```python\n",
        "try:\n",
        "    # Faili avamine või ressursi hankimine\n",
        "except IOError:\n",
        "    # Faili I/O vead\n",
        "finally:\n",
        "    # Faili sulgemine või ressursi vabastamine\n",
        "```\n",
        "\n",
        "### Silumis(debugging) nõuanded\n",
        "Silumine on protsess, mille käigus leitakse ja parandatakse vigu või tõrkeid koodis. Siin on mõned strateegiad, kuidas Pythonis tõhusalt siluda:\n",
        "\n",
        "#### Loe veateateid\n",
        "Python'i veateated ja stack trace'id annavad väärtuslikku infot vea olemuse ja asukoha kohta. Loe neid hoolikalt – tihti viitavad need otse probleemi allikale.\n",
        "\n",
        "#### Print-laused\n",
        "Kasuta `print()`-lauseid, et kuvada muutujate väärtusi erinevates kohtades programmis, et mõista täitmisvoogu ja programmi seisundit.\n",
        "\n",
        "#### Kasuta silurit\n",
        "Kasuta Python'i sisseehitatud silurit pdb, et koodi samm-sammult läbi käia, vaadata muutujate väärtusi ja täita koodi rida-realt.\n",
        "\n",
        "```bash\n",
        "python -m pdb sinu_skript.py\n",
        "```\n",
        "\n",
        "#### Hoia kood versioonihalduses\n",
        "Kasuta versioonihaldussüsteeme (nt Git), et hallata koodibaasi muudatusi. See võimaldab jälgida muudatusi, taastada varasemaid versioone ja leida, millal viga tekkis.\n",
        "\n",
        "#### Kirjuta teste\n",
        "Harjuta koodi testimist. Üksustestid (unit tests) aitavad vigu varakult leida ja tagavad, et programmi osad töötavad ootuspäraselt."
      ]
    },
    {
      "cell_type": "markdown",
      "metadata": {
        "id": "RTCtFwt8926G"
      },
      "source": [
        "# Teekide kasutamine Pythonis\n",
        "Pythonis on teegid (libraries) korduvkasutatavate moodulite ja pakettide kogumid, mis pakuvad lisafunktsionaalsust väljaspool standardkeelt. Teegid aitavad arendusaega oluliselt vähendada, pakkudes valmis lahendusi paljudele rakendustele, alates veebiarendusest ja andmete visualiseerimisest kuni masinõppe ja teadusliku arvutamiseni.\n",
        "\n",
        "### Standardteegid\n",
        "Pythoniga kaasas olev standardteek on võimas tööriist, mis sisaldab mooduleid süsteemifunktsioonide, failide I/O, stringitöötluse, võrgusuhtluse ja muu jaoks. Kuna standardteek on osa igast Python'i paigaldusest, saab neid funktsioone kasutada ilma midagi juurde installimata. See on platvormideülene ja töötab ühtemoodi erinevates operatsioonisüsteemides.\n",
        "\n",
        "### Välised teegid\n",
        "Välised teegid ei kuulu vaikimisi Python'i paigaldusse ja tuleb eraldi paigaldada, näiteks tööriistaga pip (Python'i paketihaldur). Neid arendab ja haldab ülemaailmne Python'i kogukond ning need on kättesaadavad platvormidel nagu Python Package Index ([PyPI](https://pypi.org/)). Välised teegid laiendavad Python'i võimalusi veelgi, võimaldades arendajatel kasutada keerukaid funktsioone ja algoritme ilma neid ise nullist kirjutamata."
      ]
    },
    {
      "cell_type": "code",
      "execution_count": 38,
      "metadata": {
        "id": "sXiD5wC1926G"
      },
      "outputs": [],
      "source": [
        "import os\n",
        "import shutil\n",
        "\n",
        "def organize_directory(directory_path):\n",
        "    # Loetle kõik failid kataloogis\n",
        "    files = os.listdir(directory_path)\n",
        "\n",
        "    for file in files:\n",
        "        # Jäta kataloogid vahele\n",
        "        if os.path.isfile(os.path.join(directory_path, file)):\n",
        "            # Eralda failinimi ja laiend\n",
        "            _, extension = os.path.splitext(file)\n",
        "            if extension:  # Kontrolli, kas failil on laiend\n",
        "                extension = extension[1:]  # Eemalda punkt laiendist\n",
        "                # Määra laiendi kataloogi tee\n",
        "                extension_dir = os.path.join(directory_path, extension)\n",
        "                # Kontrolli, kas laiendi kataloog on olemas\n",
        "                if not os.path.exists(extension_dir):\n",
        "                    os.makedirs(extension_dir)  # Loo kataloog, kui seda pole\n",
        "                # Liiguta fail vastava laiendi kataloogi\n",
        "                shutil.move(os.path.join(directory_path, file), extension_dir)\n",
        "\n",
        "# Näide kasutusest\n",
        "# organize_directory('/path/to/your/directory')"
      ]
    },
    {
      "cell_type": "markdown",
      "metadata": {
        "id": "P5clt2VG926G"
      },
      "source": [
        "# Failid, teegid, silumine ja vigade käsitlemine Pythonis - mõistetest arusaamise test\n",
        "\n",
        "See test hindab sinu arusaamist olulistest Python'i kontseptsioonidest: failidega töötamine, teekide kasutamine, silumine ja vigade käsitlemine.\n",
        "\n",
        "## Valikvastustega küsimused\n",
        "1. Millist funktsiooni kasutaksid, et lugeda kõik tekstifaili read nimekirja Pythonis?\n",
        "  - A) `open().read()`\n",
        "  - B) `open().readlines()`\n",
        "  - C) `open().readline()`\n",
        "  - D) `open().readall()`\n",
        "\n",
        "2. Milline järgmistest on õige viis tagada, et fail suletakse pärast operatsioonide lõpetamist?\n",
        "  - A) `file = open('data.txt', 'r')`\n",
        "  - B) `file.close()`\n",
        "  - C) `with open('data.txt', 'r') as file:`\n",
        "  - D) `file.open('data.txt', 'r')`\n",
        "\n",
        "3. Millist tööriista kasutatakse tavaliselt välise teegi paigaldamiseks Pythonis?\n",
        "  - A) npm\n",
        "  - B) pip\n",
        "  - C) brew\n",
        "  - D) apt-get\n",
        "\n",
        "4. Millist märksõna kasutatakse Pythonis vigade käsitlemiseks?\n",
        "  - A) `error`\n",
        "  - B) `except`\n",
        "  - C) `fault`\n",
        "  - D) `handle`\n",
        "\n",
        "5. Milleks kasutatakse Pythonis moodulit `pdb`?\n",
        "  - A) Jõudluse silumine\n",
        "  - B) Andmebaasi operatsioonid\n",
        "  - C) Dekompileerimine\n",
        "  - D) Silumine (debugging)\n",
        "\n",
        "## Tõene/Väär väited\n",
        "\n",
        "6. Python sulgeb automaatselt faili, mis on avatud `open()` funktsiooniga ilma with-lause kasutamiseta.\n",
        "  - Tõene / Väär\n",
        "\n",
        "7. `try`-plokki kasutatakse erindite püüdmiseks ja käsitlemiseks Pythonis.\n",
        "  - Tõene / Väär\n",
        "\n",
        "8. Välised teegid tuleb enne importimist ja kasutamist Python'i skriptides paigaldada.\n",
        "  - Tõene / Väär\n",
        "\n",
        "9. `finally`-plokk `try-except` lauses käivitatakse ainult siis, kui erindit ei tekkinud.\n",
        "  - Tõene / Väär\n",
        "\n",
        "## Koodülesanded\n",
        "\n",
        "Kirjuta Python skript, mis avab faili nimega example.txt, kirjutab sinna \"Tere, Python!\" ja tagab, et fail suletakse korrektselt.\n",
        "\n",
        "Kirjuta lihtne vigade käsitlemise näide funktsioonile, mis jagab kahte arvu, püüdes nulliga jagamise erindi ja väljastades kohandatud veateate (vaata dokumentatsioonist, millised sisseehitatud erinditüübid on olemas)."
      ]
    },
    {
      "cell_type": "markdown",
      "metadata": {},
      "source": [
        "Testi vastused:\n",
        "1. B\n",
        "2. C\n",
        "3. A\n",
        "4. B\n",
        "5. D\n",
        "6. VÄÄR\n",
        "7. VÄÄR\n",
        "8. TÕENE\n",
        "9. VÄÄR"
      ]
    },
    {
      "cell_type": "code",
      "execution_count": 39,
      "metadata": {
        "id": "cWbpAQPK926G"
      },
      "outputs": [],
      "source": [
        "# Kirjuta siia oma kood või lisa uusi lahtrid vajadusel.\n",
        "with open('example.txt', 'w') as fh:\n",
        "    print('Tere, Python!', file=fh)"
      ]
    },
    {
      "cell_type": "code",
      "execution_count": 44,
      "metadata": {},
      "outputs": [
        {
          "name": "stdout",
          "output_type": "stream",
          "text": [
            "Nulliga jagada ei saa!\n",
            "None\n"
          ]
        }
      ],
      "source": [
        "def jagamine (arv1, arv2):\n",
        "    try:\n",
        "        return arv1/arv2\n",
        "    except ZeroDivisionError:\n",
        "        print(\"Nulliga jagada ei saa!\")\n",
        "print(jagamine(2,0))"
      ]
    },
    {
      "cell_type": "markdown",
      "metadata": {
        "id": "yW4loq5L926G"
      },
      "source": [
        "### Vastused\n",
        "\n",
        "Klõpsa siia, et näha"
      ]
    },
    {
      "cell_type": "markdown",
      "metadata": {
        "id": "GY1OIH8K926G"
      },
      "source": [
        "####  Valikvastustega küsimused\n",
        "1. B) `open().readlines()`\n",
        "2. C) `with open('data.txt', 'r') as file:`\n",
        "3. B) pip\n",
        "4. B) `except`\n",
        "5. D) Silumine (debugging)\n",
        "\n",
        "#### Tõene/Väär väited\n",
        "6. Väär\n",
        "7. Väär (`try`-plokki kasutatakse koodile, mis võib erindi tekitada; erindit püütakse ja käsitletakse `except`-plokis.)\n",
        "8. Tõene\n",
        "9. Väär (`finally`-plokk käivitatakse alati, sõltumata sellest, kas erind tekkis või mitte.)\n",
        "\n",
        "#### Koodülesanded"
      ]
    },
    {
      "cell_type": "code",
      "execution_count": 40,
      "metadata": {
        "id": "0q3YnHXq926G"
      },
      "outputs": [
        {
          "name": "stdout",
          "output_type": "stream",
          "text": [
            "Viga: Nulliga jagada ei saa.\n",
            "None\n"
          ]
        }
      ],
      "source": [
        "# faili kirjutamine\n",
        "\n",
        "with open('example.txt', 'w') as file:\n",
        "    file.write(\"Tere, Python!\")\n",
        "\n",
        "# jagamine vigade käsitlemisega\n",
        "def ohutu_jagamine(a, b):\n",
        "    try:\n",
        "        return a / b\n",
        "    except ZeroDivisionError:\n",
        "        print(\"Viga: Nulliga jagada ei saa.\")\n",
        "\n",
        "print(ohutu_jagamine(10, 0))"
      ]
    },
    {
      "cell_type": "markdown",
      "metadata": {
        "id": "1Ey8Bal5926H"
      },
      "source": [
        "# Klasside kasutamine Pythonis: sissejuhatus OOP-sse\n",
        "\n",
        "Objektorienteeritud programmeerimine (OOP) on programmeerimisparadigma, mis kasutab 'objekte' andmete ja meetodite esitamiseks. Python toetab OOP-d paindliku klassimehhanismiga, võimaldades luua elegantseid ja võimsaid koodistruktuure.\n",
        "\n",
        "## OOP põhimõisted\n",
        "\n",
        "- **Klass**: Mall objektide loomiseks. Klassid kapseldavad objekti andmed ja meetodid nende töötlemiseks.\n",
        "- **Objekt**: Klassist loodud eksemplar. Igal objektil võivad olla unikaalsed omadused ja käitumine, nagu klassis määratud.\n",
        "- **Pärilikkus**: Võimaldab klassil pärida atribuute ja meetodeid teiselt klassilt.\n",
        "- **Kapseldamine**: Piirab ligipääsu meetoditele ja muutujatele, et vältida andmete otsest muutmist (avalik vs privaatne).\n",
        "- **Polümorfism**: Võimaldab meetoditel teha erinevaid asju sõltuvalt objektist, millel neid kasutatakse.\n",
        "\n",
        "## Klassi defineerimine Pythonis\n",
        "\n",
        "Klassi defineerimiseks kasuta märksõna `class`:"
      ]
    },
    {
      "cell_type": "code",
      "execution_count": 45,
      "metadata": {
        "id": "gnJv4Np0926H"
      },
      "outputs": [
        {
          "name": "stdout",
          "output_type": "stream",
          "text": [
            "5\n"
          ]
        }
      ],
      "source": [
        "class MinuKlass:\n",
        "    x = 5\n",
        "\n",
        "# Klassi eksemplari loomine:\n",
        "p1 = MinuKlass()\n",
        "print(p1.x)"
      ]
    },
    {
      "cell_type": "markdown",
      "metadata": {
        "id": "DSbVkFAZ926H"
      },
      "source": [
        "## Näide: Pesastatud klassid - Punkt ja Joon\n",
        "Selles näites defineerime klassi `Punkt` ja klassi `Joon`, kus `Joon` kasutab kahte `Punkt` eksemplari joone algus- ja lõpp-punktina. Vaata ka: https://docs.python.org/3/tutorial/classes.html\n",
        "\n",
        "### Klasside defineerimine"
      ]
    },
    {
      "cell_type": "code",
      "execution_count": 46,
      "metadata": {
        "id": "hEm4tKaW926H"
      },
      "outputs": [],
      "source": [
        "class Punkt:\n",
        "    def __init__(self, x=0, y=0):\n",
        "        self.x = x\n",
        "        self.y = y\n",
        "\n",
        "    def __str__(self):\n",
        "        return f\"({self.x}, {self.y})\"\n",
        "\n",
        "    def kaugus(self, p):\n",
        "        return ((self.x - p.x) ** 2 + (self.y - p.y) ** 2) ** 0.5\n",
        "\n",
        "class Joon:\n",
        "    def __init__(self, alguspunkt, loppunkt):\n",
        "        self.algus = alguspunkt\n",
        "        self.lopp = loppunkt\n",
        "\n",
        "    def __str__(self):\n",
        "        return f\"Joon({self.algus} kuni {self.lopp})\"\n",
        "\n",
        "    def pikkus(self):\n",
        "        return self.algus.kaugus(self.lopp)\n"
      ]
    },
    {
      "cell_type": "markdown",
      "metadata": {
        "id": "z0GTQzsm926H"
      },
      "source": [
        "### Klasside kasutamine"
      ]
    },
    {
      "cell_type": "code",
      "execution_count": 47,
      "metadata": {
        "id": "XjsLiy6B926H"
      },
      "outputs": [
        {
          "name": "stdout",
          "output_type": "stream",
          "text": [
            "Joon((1, 2) kuni (4, 6))\n",
            "Joone pikkus: 5.0\n"
          ]
        }
      ],
      "source": [
        "# Punktide loomine\n",
        "p1 = Punkt(1, 2)\n",
        "p2 = Punkt(4, 6)\n",
        "\n",
        "# Joone loomine p1-st p2-ni\n",
        "j = Joon(p1, p2)\n",
        "\n",
        "print(j)  # Väljund: Joon((1, 2) kuni (4, 6))\n",
        "print(f\"Joone pikkus: {j.pikkus()}\")  # Arvutab vektori pikkuse"
      ]
    },
    {
      "cell_type": "markdown",
      "metadata": {
        "id": "u1JF6Suz926H"
      },
      "source": [
        "## Ülesanne: Ristküliku klassi loomine Punkt objektidega\n",
        "\n",
        "### Eesmärk\n",
        "Sinu ülesanne on luua Pythonis klass nimega `Ristkülik`, mis modelleerib ristküliku kahe, vastasnurgas asuva, punktiga. See harjutus aitab sul praktiseerida objektorienteeritud programmeerimise põhimõtteid, eriti klasside, objektide ja meetoditega töötamist Pythonis. Samuti kinnistad geomeetria ja koordinaatsüsteemi mõistmist.\n",
        "\n",
        "- Defineeri klass `Ristkülik` koos `__init__` meetodiga, mis võtab parameetritena kaks `Punkt` objekti (vastasnurgad).\n",
        "- Rakenda meetodid `laius()`, `korgus()` ja `pindala()`, mis arvutavad vastavalt ristküliku laiuse, kõrguse ja pindala. Laius on x-koordinaatide vahe, kõrgus y-koordinaatide vahe."
      ]
    },
    {
      "cell_type": "code",
      "execution_count": 51,
      "metadata": {
        "id": "hnIsZvbp926H"
      },
      "outputs": [],
      "source": [
        "# Kirjuta siia oma kood või lisa uusi lahtrid vajadusel.\n",
        "class Ristkülik:\n",
        "    def __init__(self, p1, p2):\n",
        "        self.p1 = p1\n",
        "        self.p2 = p2\n",
        "\n",
        "    def laius(self):\n",
        "        return abs(self.p1.x - self.p2.x)\n",
        "\n",
        "    def kõrgus(self):\n",
        "        return abs(self.p1.y - self.p2.y)\n",
        "\n",
        "    def pindala(self):\n",
        "        return self.laius() * self.kõrgus()\n",
        "\n",
        "    def __str__(self):\n",
        "        return f\"Ristkülik({self.p1}, {self.p2})\""
      ]
    },
    {
      "cell_type": "code",
      "execution_count": null,
      "metadata": {},
      "outputs": [
        {
          "name": "stdout",
          "output_type": "stream",
          "text": [
            "Ristkülik((1, 2), (4, 6))\n",
            "Laius: 3\n",
            "Kõrgus: 4\n",
            "Pindala: 12\n"
          ]
        },
        {
          "ename": "",
          "evalue": "",
          "output_type": "error",
          "traceback": [
            "\u001b[1;31mThe Kernel crashed while executing code in the current cell or a previous cell. \n",
            "\u001b[1;31mPlease review the code in the cell(s) to identify a possible cause of the failure. \n",
            "\u001b[1;31mClick <a href='https://aka.ms/vscodeJupyterKernelCrash'>here</a> for more info. \n",
            "\u001b[1;31mView Jupyter <a href='command:jupyter.viewOutput'>log</a> for further details."
          ]
        }
      ],
      "source": [
        "r = Ristkülik(p1, p2)\n",
        "print(r)                   \n",
        "print(\"Laius:\", r.laius()) \n",
        "print(\"Kõrgus:\", r.kõrgus())\n",
        "print(\"Pindala:\", r.pindala())"
      ]
    },
    {
      "cell_type": "markdown",
      "metadata": {
        "id": "Xug6ypyN926H"
      },
      "source": [
        "## Kokkuvõte\n",
        "OOP Pythonis võimaldab arendajatel luua struktureeritud, taaskasutatavat ja töökindlat tarkvara. Klasside abil saab modelleerida pärismaailma objekte ja olukordi ning luua selgeid ja arusaadavaid andmestruktuure. Pesastatud klasside, nagu `Punkt` ja `Joon` näide, abil saab ehitada keerukamaid andmemudeleid."
      ]
    },
    {
      "cell_type": "markdown",
      "metadata": {
        "id": "fREgWshD926H"
      },
      "source": [
        "# Koodi kirjutamine Jupyter Notebookis (see dokument)\n",
        "Jupyter Notebookis kirjutad ja käivitad oma Python koodi interaktiivsetes lahtrites. Iga lahtrit saab eraldi käivitada, mis võimaldab kohest tagasisidet ja interaktiivset programmeerimiskogemust. Notebookid sobivad suurepäraselt andmeanalüüsiks, visualiseerimiseks ja samm-sammulisteks juhenditeks.\n",
        "\n",
        "## Python skripti kirjutamine\n",
        "Kui soovid oma koodi viia skripti, mida saab käsurealt käivitada, loo `.py` fail. See fail sisaldab sinu Python koodi lihttekstina, järjestatult täitmise järjekorras.\n",
        "\n",
        "- Loo `.py` fail: Ava oma tekstiredaktor või IDE ja loo uus fail laiendiga `.py`, näiteks `skript.py`.\n",
        "- Kopeeri kood: Tõsta Python kood Jupyter Notebookist sellesse faili. Erinevalt notebookist pole seal interaktiivseid lahtrid, seega korralda kood loogiliselt ülalt alla.\n",
        "- Kohanda koodi (vajadusel): Kui notebookis on interaktiivseid elemente (nt sisendi küsimine) või kood sõltub lahtrite täitmise järjekorrast, kohanda koodi nii, et see töötaks skriptina.\n",
        "\n",
        "### Skripti käivitamine käsurealt\n",
        "Python skripti käivitamiseks käsurealt toimi nii:\n",
        "\n",
        "- Ava terminal või käsurida: Liigu kausta, kus asub sinu `.py` fail.\n",
        "- Käivita skript: Sisesta python skript.py (asenda `skript.py` oma faili nimega) ja vajuta Enter.\n",
        "\n",
        "#### Näide käsurea käsust\n",
        "```bash\n",
        "python skript.py\n",
        "```\n",
        "\n",
        "See käsk annab Pythonile korralduse tõlgendada sinu skriptifaili ja käivitada selles olev kood. Veendu, et Python oleks arvutisse paigaldatud ja käsurealt kättesaadav. Pythoni versioon (nt Python 2 vs Python 3) ja tee võivad sõltuda sinu paigaldusest ja keskkonnast.\n",
        "\n",
        "## Kokkuvõte\n",
        "Notebookist eraldiseisva Python skripti loomine on väärtuslik oskus, eriti projektide juurutamiseks, ülesannete automatiseerimiseks või tarkvara arendamiseks. Jupyter Notebook pakub suurepärast interaktiivset keskkonda arenduseks ja õpetamiseks, kuid Python skriptid sobivad paremini tervikprogrammide käivitamiseks ja töövoogude automatiseerimiseks käsurealt."
      ]
    }
  ],
  "metadata": {
    "colab": {
      "collapsed_sections": [
        "vkFFPV2m_1yC",
        "TfDX1P0ZVprH",
        "MXpmDRW4O6Wx",
        "bVr0HN_JL9U5",
        "_f7ISFeQXudE"
      ],
      "provenance": [],
      "toc_visible": true
    },
    "kernelspec": {
      "display_name": ".venv",
      "language": "python",
      "name": "python3"
    },
    "language_info": {
      "codemirror_mode": {
        "name": "ipython",
        "version": 3
      },
      "file_extension": ".py",
      "mimetype": "text/x-python",
      "name": "python",
      "nbconvert_exporter": "python",
      "pygments_lexer": "ipython3",
      "version": "3.13.1"
    }
  },
  "nbformat": 4,
  "nbformat_minor": 0
}
